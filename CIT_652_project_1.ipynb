{
  "nbformat": 4,
  "nbformat_minor": 0,
  "metadata": {
    "colab": {
      "name": "CIT-652_project_1.ipynb",
      "provenance": [],
      "collapsed_sections": []
    },
    "kernelspec": {
      "display_name": "Python 3",
      "name": "python3"
    },
    "language_info": {
      "name": "python"
    }
  },
  "cells": [
    {
      "cell_type": "code",
      "metadata": {
        "colab": {
          "base_uri": "https://localhost:8080/"
        },
        "id": "ZD-feeu-zxoP",
        "outputId": "1de9e635-a888-41f9-a8a3-4069b58bc05c"
      },
      "source": [
        "!python --version"
      ],
      "execution_count": null,
      "outputs": [
        {
          "output_type": "stream",
          "name": "stdout",
          "text": [
            "Python 3.7.12\n"
          ]
        }
      ]
    },
    {
      "cell_type": "markdown",
      "metadata": {
        "id": "b5-UmXrqx0Of"
      },
      "source": [
        "## Setup Environment"
      ]
    },
    {
      "cell_type": "markdown",
      "metadata": {
        "id": "d-xnDz-sy2nO"
      },
      "source": [
        "1/2 Spark"
      ]
    },
    {
      "cell_type": "code",
      "metadata": {
        "colab": {
          "base_uri": "https://localhost:8080/"
        },
        "id": "0GvmBPdA13DQ",
        "outputId": "c6aa49cc-8e82-4186-d873-b8cc410cb045"
      },
      "source": [
        "!pwd\n",
        "# get spark v3\n",
        "!wget https://dlcdn.apache.org/spark/spark-3.1.2/spark-3.1.2-bin-hadoop3.2.tgz"
      ],
      "execution_count": null,
      "outputs": [
        {
          "output_type": "stream",
          "name": "stdout",
          "text": [
            "/content\n",
            "--2021-10-31 21:47:56--  https://dlcdn.apache.org/spark/spark-3.1.2/spark-3.1.2-bin-hadoop3.2.tgz\n",
            "Resolving dlcdn.apache.org (dlcdn.apache.org)... 151.101.2.132, 2a04:4e42::644\n",
            "Connecting to dlcdn.apache.org (dlcdn.apache.org)|151.101.2.132|:443... connected.\n",
            "HTTP request sent, awaiting response... 200 OK\n",
            "Length: 228834641 (218M) [application/x-gzip]\n",
            "Saving to: ‘spark-3.1.2-bin-hadoop3.2.tgz’\n",
            "\n",
            "spark-3.1.2-bin-had 100%[===================>] 218.23M   196MB/s    in 1.1s    \n",
            "\n",
            "2021-10-31 21:47:57 (196 MB/s) - ‘spark-3.1.2-bin-hadoop3.2.tgz’ saved [228834641/228834641]\n",
            "\n"
          ]
        }
      ]
    },
    {
      "cell_type": "code",
      "metadata": {
        "colab": {
          "base_uri": "https://localhost:8080/"
        },
        "id": "yOV9W83x2xKS",
        "outputId": "978c8be2-fc60-4ae9-bf96-3213778039d9"
      },
      "source": [
        "!tar -xvzf spark-3.1.2-bin-hadoop3.2.tgz"
      ],
      "execution_count": null,
      "outputs": [
        {
          "output_type": "stream",
          "name": "stdout",
          "text": [
            "spark-3.1.2-bin-hadoop3.2/\n",
            "spark-3.1.2-bin-hadoop3.2/R/\n",
            "spark-3.1.2-bin-hadoop3.2/R/lib/\n",
            "spark-3.1.2-bin-hadoop3.2/R/lib/sparkr.zip\n",
            "spark-3.1.2-bin-hadoop3.2/R/lib/SparkR/\n",
            "spark-3.1.2-bin-hadoop3.2/R/lib/SparkR/worker/\n",
            "spark-3.1.2-bin-hadoop3.2/R/lib/SparkR/worker/worker.R\n",
            "spark-3.1.2-bin-hadoop3.2/R/lib/SparkR/worker/daemon.R\n",
            "spark-3.1.2-bin-hadoop3.2/R/lib/SparkR/tests/\n",
            "spark-3.1.2-bin-hadoop3.2/R/lib/SparkR/tests/testthat/\n",
            "spark-3.1.2-bin-hadoop3.2/R/lib/SparkR/tests/testthat/test_basic.R\n",
            "spark-3.1.2-bin-hadoop3.2/R/lib/SparkR/profile/\n",
            "spark-3.1.2-bin-hadoop3.2/R/lib/SparkR/profile/shell.R\n",
            "spark-3.1.2-bin-hadoop3.2/R/lib/SparkR/profile/general.R\n",
            "spark-3.1.2-bin-hadoop3.2/R/lib/SparkR/doc/\n",
            "spark-3.1.2-bin-hadoop3.2/R/lib/SparkR/doc/sparkr-vignettes.html\n",
            "spark-3.1.2-bin-hadoop3.2/R/lib/SparkR/doc/sparkr-vignettes.Rmd\n",
            "spark-3.1.2-bin-hadoop3.2/R/lib/SparkR/doc/sparkr-vignettes.R\n",
            "spark-3.1.2-bin-hadoop3.2/R/lib/SparkR/doc/index.html\n",
            "spark-3.1.2-bin-hadoop3.2/R/lib/SparkR/R/\n",
            "spark-3.1.2-bin-hadoop3.2/R/lib/SparkR/R/SparkR\n",
            "spark-3.1.2-bin-hadoop3.2/R/lib/SparkR/R/SparkR.rdx\n",
            "spark-3.1.2-bin-hadoop3.2/R/lib/SparkR/R/SparkR.rdb\n",
            "spark-3.1.2-bin-hadoop3.2/R/lib/SparkR/Meta/\n",
            "spark-3.1.2-bin-hadoop3.2/R/lib/SparkR/Meta/features.rds\n",
            "spark-3.1.2-bin-hadoop3.2/R/lib/SparkR/Meta/package.rds\n",
            "spark-3.1.2-bin-hadoop3.2/R/lib/SparkR/Meta/nsInfo.rds\n",
            "spark-3.1.2-bin-hadoop3.2/R/lib/SparkR/Meta/vignette.rds\n",
            "spark-3.1.2-bin-hadoop3.2/R/lib/SparkR/Meta/Rd.rds\n",
            "spark-3.1.2-bin-hadoop3.2/R/lib/SparkR/Meta/links.rds\n",
            "spark-3.1.2-bin-hadoop3.2/R/lib/SparkR/Meta/hsearch.rds\n",
            "spark-3.1.2-bin-hadoop3.2/R/lib/SparkR/DESCRIPTION\n",
            "spark-3.1.2-bin-hadoop3.2/R/lib/SparkR/NAMESPACE\n",
            "spark-3.1.2-bin-hadoop3.2/R/lib/SparkR/html/\n",
            "spark-3.1.2-bin-hadoop3.2/R/lib/SparkR/html/R.css\n",
            "spark-3.1.2-bin-hadoop3.2/R/lib/SparkR/html/00Index.html\n",
            "spark-3.1.2-bin-hadoop3.2/R/lib/SparkR/INDEX\n",
            "spark-3.1.2-bin-hadoop3.2/R/lib/SparkR/help/\n",
            "spark-3.1.2-bin-hadoop3.2/R/lib/SparkR/help/aliases.rds\n",
            "spark-3.1.2-bin-hadoop3.2/R/lib/SparkR/help/AnIndex\n",
            "spark-3.1.2-bin-hadoop3.2/R/lib/SparkR/help/SparkR.rdx\n",
            "spark-3.1.2-bin-hadoop3.2/R/lib/SparkR/help/SparkR.rdb\n",
            "spark-3.1.2-bin-hadoop3.2/R/lib/SparkR/help/paths.rds\n",
            "spark-3.1.2-bin-hadoop3.2/sbin/\n",
            "spark-3.1.2-bin-hadoop3.2/sbin/workers.sh\n",
            "spark-3.1.2-bin-hadoop3.2/sbin/stop-workers.sh\n",
            "spark-3.1.2-bin-hadoop3.2/sbin/stop-worker.sh\n",
            "spark-3.1.2-bin-hadoop3.2/sbin/stop-thriftserver.sh\n",
            "spark-3.1.2-bin-hadoop3.2/sbin/stop-slaves.sh\n",
            "spark-3.1.2-bin-hadoop3.2/sbin/stop-slave.sh\n",
            "spark-3.1.2-bin-hadoop3.2/sbin/stop-mesos-shuffle-service.sh\n",
            "spark-3.1.2-bin-hadoop3.2/sbin/stop-mesos-dispatcher.sh\n",
            "spark-3.1.2-bin-hadoop3.2/sbin/stop-master.sh\n",
            "spark-3.1.2-bin-hadoop3.2/sbin/stop-history-server.sh\n",
            "spark-3.1.2-bin-hadoop3.2/sbin/stop-all.sh\n",
            "spark-3.1.2-bin-hadoop3.2/sbin/start-workers.sh\n",
            "spark-3.1.2-bin-hadoop3.2/sbin/start-worker.sh\n",
            "spark-3.1.2-bin-hadoop3.2/sbin/start-thriftserver.sh\n",
            "spark-3.1.2-bin-hadoop3.2/sbin/start-slaves.sh\n",
            "spark-3.1.2-bin-hadoop3.2/sbin/start-slave.sh\n",
            "spark-3.1.2-bin-hadoop3.2/sbin/start-mesos-shuffle-service.sh\n",
            "spark-3.1.2-bin-hadoop3.2/sbin/start-mesos-dispatcher.sh\n",
            "spark-3.1.2-bin-hadoop3.2/sbin/start-master.sh\n",
            "spark-3.1.2-bin-hadoop3.2/sbin/start-history-server.sh\n",
            "spark-3.1.2-bin-hadoop3.2/sbin/start-all.sh\n",
            "spark-3.1.2-bin-hadoop3.2/sbin/spark-daemons.sh\n",
            "spark-3.1.2-bin-hadoop3.2/sbin/spark-daemon.sh\n",
            "spark-3.1.2-bin-hadoop3.2/sbin/slaves.sh\n",
            "spark-3.1.2-bin-hadoop3.2/sbin/decommission-worker.sh\n",
            "spark-3.1.2-bin-hadoop3.2/sbin/decommission-slave.sh\n",
            "spark-3.1.2-bin-hadoop3.2/sbin/spark-config.sh\n",
            "spark-3.1.2-bin-hadoop3.2/python/\n",
            "spark-3.1.2-bin-hadoop3.2/python/dist/\n",
            "spark-3.1.2-bin-hadoop3.2/python/pyspark.egg-info/\n",
            "spark-3.1.2-bin-hadoop3.2/python/pyspark.egg-info/SOURCES.txt\n",
            "spark-3.1.2-bin-hadoop3.2/python/pyspark.egg-info/top_level.txt\n",
            "spark-3.1.2-bin-hadoop3.2/python/pyspark.egg-info/requires.txt\n",
            "spark-3.1.2-bin-hadoop3.2/python/pyspark.egg-info/dependency_links.txt\n",
            "spark-3.1.2-bin-hadoop3.2/python/pyspark.egg-info/PKG-INFO\n",
            "spark-3.1.2-bin-hadoop3.2/python/pyspark/\n",
            "spark-3.1.2-bin-hadoop3.2/python/pyspark/python/\n",
            "spark-3.1.2-bin-hadoop3.2/python/pyspark/python/pyspark/\n",
            "spark-3.1.2-bin-hadoop3.2/python/pyspark/python/pyspark/shell.py\n",
            "spark-3.1.2-bin-hadoop3.2/python/pyspark/__pycache__/\n",
            "spark-3.1.2-bin-hadoop3.2/python/pyspark/__pycache__/install.cpython-38.pyc\n",
            "spark-3.1.2-bin-hadoop3.2/python/pyspark/mllib/\n",
            "spark-3.1.2-bin-hadoop3.2/python/pyspark/mllib/evaluation.py\n",
            "spark-3.1.2-bin-hadoop3.2/python/pyspark/mllib/common.pyi\n",
            "spark-3.1.2-bin-hadoop3.2/python/pyspark/mllib/common.py\n",
            "spark-3.1.2-bin-hadoop3.2/python/pyspark/mllib/clustering.pyi\n",
            "spark-3.1.2-bin-hadoop3.2/python/pyspark/mllib/classification.pyi\n",
            "spark-3.1.2-bin-hadoop3.2/python/pyspark/mllib/_typing.pyi\n",
            "spark-3.1.2-bin-hadoop3.2/python/pyspark/mllib/__init__.py\n",
            "spark-3.1.2-bin-hadoop3.2/python/pyspark/mllib/util.pyi\n",
            "spark-3.1.2-bin-hadoop3.2/python/pyspark/mllib/util.py\n",
            "spark-3.1.2-bin-hadoop3.2/python/pyspark/mllib/tree.pyi\n",
            "spark-3.1.2-bin-hadoop3.2/python/pyspark/mllib/tree.py\n",
            "spark-3.1.2-bin-hadoop3.2/python/pyspark/mllib/tests/\n",
            "spark-3.1.2-bin-hadoop3.2/python/pyspark/mllib/tests/test_util.py\n",
            "spark-3.1.2-bin-hadoop3.2/python/pyspark/mllib/tests/test_streaming_algorithms.py\n",
            "spark-3.1.2-bin-hadoop3.2/python/pyspark/mllib/tests/test_stat.py\n",
            "spark-3.1.2-bin-hadoop3.2/python/pyspark/mllib/tests/test_feature.py\n",
            "spark-3.1.2-bin-hadoop3.2/python/pyspark/mllib/tests/test_algorithms.py\n",
            "spark-3.1.2-bin-hadoop3.2/python/pyspark/mllib/tests/__init__.py\n",
            "spark-3.1.2-bin-hadoop3.2/python/pyspark/mllib/tests/test_linalg.py\n",
            "spark-3.1.2-bin-hadoop3.2/python/pyspark/mllib/regression.py\n",
            "spark-3.1.2-bin-hadoop3.2/python/pyspark/mllib/clustering.py\n",
            "spark-3.1.2-bin-hadoop3.2/python/pyspark/mllib/classification.py\n",
            "spark-3.1.2-bin-hadoop3.2/python/pyspark/mllib/stat/\n",
            "spark-3.1.2-bin-hadoop3.2/python/pyspark/mllib/stat/_statistics.py\n",
            "spark-3.1.2-bin-hadoop3.2/python/pyspark/mllib/stat/__init__.pyi\n",
            "spark-3.1.2-bin-hadoop3.2/python/pyspark/mllib/stat/__init__.py\n",
            "spark-3.1.2-bin-hadoop3.2/python/pyspark/mllib/stat/KernelDensity.pyi\n",
            "spark-3.1.2-bin-hadoop3.2/python/pyspark/mllib/stat/KernelDensity.py\n",
            "spark-3.1.2-bin-hadoop3.2/python/pyspark/mllib/stat/test.pyi\n",
            "spark-3.1.2-bin-hadoop3.2/python/pyspark/mllib/stat/test.py\n",
            "spark-3.1.2-bin-hadoop3.2/python/pyspark/mllib/stat/distribution.pyi\n",
            "spark-3.1.2-bin-hadoop3.2/python/pyspark/mllib/stat/distribution.py\n",
            "spark-3.1.2-bin-hadoop3.2/python/pyspark/mllib/stat/_statistics.pyi\n",
            "spark-3.1.2-bin-hadoop3.2/python/pyspark/mllib/regression.pyi\n",
            "spark-3.1.2-bin-hadoop3.2/python/pyspark/mllib/recommendation.pyi\n",
            "spark-3.1.2-bin-hadoop3.2/python/pyspark/mllib/recommendation.py\n",
            "spark-3.1.2-bin-hadoop3.2/python/pyspark/mllib/random.pyi\n",
            "spark-3.1.2-bin-hadoop3.2/python/pyspark/mllib/random.py\n",
            "spark-3.1.2-bin-hadoop3.2/python/pyspark/mllib/linalg/\n",
            "spark-3.1.2-bin-hadoop3.2/python/pyspark/mllib/linalg/distributed.pyi\n",
            "spark-3.1.2-bin-hadoop3.2/python/pyspark/mllib/linalg/__init__.pyi\n",
            "spark-3.1.2-bin-hadoop3.2/python/pyspark/mllib/linalg/__init__.py\n",
            "spark-3.1.2-bin-hadoop3.2/python/pyspark/mllib/linalg/distributed.py\n",
            "spark-3.1.2-bin-hadoop3.2/python/pyspark/mllib/fpm.pyi\n",
            "spark-3.1.2-bin-hadoop3.2/python/pyspark/mllib/fpm.py\n",
            "spark-3.1.2-bin-hadoop3.2/python/pyspark/mllib/feature.pyi\n",
            "spark-3.1.2-bin-hadoop3.2/python/pyspark/mllib/feature.py\n",
            "spark-3.1.2-bin-hadoop3.2/python/pyspark/mllib/evaluation.pyi\n",
            "spark-3.1.2-bin-hadoop3.2/python/pyspark/ml/\n",
            "spark-3.1.2-bin-hadoop3.2/python/pyspark/ml/wrapper.pyi\n",
            "spark-3.1.2-bin-hadoop3.2/python/pyspark/ml/wrapper.py\n",
            "spark-3.1.2-bin-hadoop3.2/python/pyspark/ml/util.pyi\n",
            "spark-3.1.2-bin-hadoop3.2/python/pyspark/ml/util.py\n",
            "spark-3.1.2-bin-hadoop3.2/python/pyspark/ml/tree.pyi\n",
            "spark-3.1.2-bin-hadoop3.2/python/pyspark/ml/tests/\n",
            "spark-3.1.2-bin-hadoop3.2/python/pyspark/ml/tests/test_wrapper.py\n",
            "spark-3.1.2-bin-hadoop3.2/python/pyspark/ml/tests/test_util.py\n",
            "spark-3.1.2-bin-hadoop3.2/python/pyspark/ml/tests/test_stat.py\n",
            "spark-3.1.2-bin-hadoop3.2/python/pyspark/ml/tests/test_pipeline.py\n",
            "spark-3.1.2-bin-hadoop3.2/python/pyspark/ml/tests/test_persistence.py\n",
            "spark-3.1.2-bin-hadoop3.2/python/pyspark/ml/tests/test_linalg.py\n",
            "spark-3.1.2-bin-hadoop3.2/python/pyspark/ml/tests/test_image.py\n",
            "spark-3.1.2-bin-hadoop3.2/python/pyspark/ml/tests/test_feature.py\n",
            "spark-3.1.2-bin-hadoop3.2/python/pyspark/ml/tests/test_algorithms.py\n",
            "spark-3.1.2-bin-hadoop3.2/python/pyspark/ml/tests/__init__.py\n",
            "spark-3.1.2-bin-hadoop3.2/python/pyspark/ml/tests/test_tuning.py\n",
            "spark-3.1.2-bin-hadoop3.2/python/pyspark/ml/tests/test_training_summary.py\n",
            "spark-3.1.2-bin-hadoop3.2/python/pyspark/ml/tests/test_param.py\n",
            "spark-3.1.2-bin-hadoop3.2/python/pyspark/ml/tests/test_evaluation.py\n",
            "spark-3.1.2-bin-hadoop3.2/python/pyspark/ml/tests/test_base.py\n",
            "spark-3.1.2-bin-hadoop3.2/python/pyspark/ml/stat.pyi\n",
            "spark-3.1.2-bin-hadoop3.2/python/pyspark/ml/stat.py\n",
            "spark-3.1.2-bin-hadoop3.2/python/pyspark/ml/regression.pyi\n",
            "spark-3.1.2-bin-hadoop3.2/python/pyspark/ml/recommendation.pyi\n",
            "spark-3.1.2-bin-hadoop3.2/python/pyspark/ml/pipeline.pyi\n",
            "spark-3.1.2-bin-hadoop3.2/python/pyspark/ml/pipeline.py\n",
            "spark-3.1.2-bin-hadoop3.2/python/pyspark/ml/param/\n",
            "spark-3.1.2-bin-hadoop3.2/python/pyspark/ml/param/shared.pyi\n",
            "spark-3.1.2-bin-hadoop3.2/python/pyspark/ml/param/shared.py\n",
            "spark-3.1.2-bin-hadoop3.2/python/pyspark/ml/param/_shared_params_code_gen.pyi\n",
            "spark-3.1.2-bin-hadoop3.2/python/pyspark/ml/param/_shared_params_code_gen.py\n",
            "spark-3.1.2-bin-hadoop3.2/python/pyspark/ml/param/__init__.pyi\n",
            "spark-3.1.2-bin-hadoop3.2/python/pyspark/ml/param/__init__.py\n",
            "spark-3.1.2-bin-hadoop3.2/python/pyspark/ml/linalg/\n",
            "spark-3.1.2-bin-hadoop3.2/python/pyspark/ml/linalg/__init__.pyi\n",
            "spark-3.1.2-bin-hadoop3.2/python/pyspark/ml/linalg/__init__.py\n",
            "spark-3.1.2-bin-hadoop3.2/python/pyspark/ml/image.pyi\n",
            "spark-3.1.2-bin-hadoop3.2/python/pyspark/ml/image.py\n",
            "spark-3.1.2-bin-hadoop3.2/python/pyspark/ml/functions.pyi\n",
            "spark-3.1.2-bin-hadoop3.2/python/pyspark/ml/fpm.pyi\n",
            "spark-3.1.2-bin-hadoop3.2/python/pyspark/ml/feature.pyi\n",
            "spark-3.1.2-bin-hadoop3.2/python/pyspark/ml/evaluation.pyi\n",
            "spark-3.1.2-bin-hadoop3.2/python/pyspark/ml/common.pyi\n",
            "spark-3.1.2-bin-hadoop3.2/python/pyspark/ml/common.py\n",
            "spark-3.1.2-bin-hadoop3.2/python/pyspark/ml/clustering.pyi\n",
            "spark-3.1.2-bin-hadoop3.2/python/pyspark/ml/classification.pyi\n",
            "spark-3.1.2-bin-hadoop3.2/python/pyspark/ml/base.pyi\n",
            "spark-3.1.2-bin-hadoop3.2/python/pyspark/ml/_typing.pyi\n",
            "spark-3.1.2-bin-hadoop3.2/python/pyspark/ml/__init__.py\n",
            "spark-3.1.2-bin-hadoop3.2/python/pyspark/ml/tuning.pyi\n",
            "spark-3.1.2-bin-hadoop3.2/python/pyspark/ml/tuning.py\n",
            "spark-3.1.2-bin-hadoop3.2/python/pyspark/ml/tree.py\n",
            "spark-3.1.2-bin-hadoop3.2/python/pyspark/ml/regression.py\n",
            "spark-3.1.2-bin-hadoop3.2/python/pyspark/ml/recommendation.py\n",
            "spark-3.1.2-bin-hadoop3.2/python/pyspark/ml/functions.py\n",
            "spark-3.1.2-bin-hadoop3.2/python/pyspark/ml/fpm.py\n",
            "spark-3.1.2-bin-hadoop3.2/python/pyspark/ml/feature.py\n",
            "spark-3.1.2-bin-hadoop3.2/python/pyspark/ml/evaluation.py\n",
            "spark-3.1.2-bin-hadoop3.2/python/pyspark/ml/clustering.py\n",
            "spark-3.1.2-bin-hadoop3.2/python/pyspark/ml/classification.py\n",
            "spark-3.1.2-bin-hadoop3.2/python/pyspark/ml/base.py\n",
            "spark-3.1.2-bin-hadoop3.2/python/pyspark/join.py\n",
            "spark-3.1.2-bin-hadoop3.2/python/pyspark/java_gateway.py\n",
            "spark-3.1.2-bin-hadoop3.2/python/pyspark/install.py\n",
            "spark-3.1.2-bin-hadoop3.2/python/pyspark/find_spark_home.py\n",
            "spark-3.1.2-bin-hadoop3.2/python/pyspark/files.pyi\n",
            "spark-3.1.2-bin-hadoop3.2/python/pyspark/files.py\n",
            "spark-3.1.2-bin-hadoop3.2/python/pyspark/daemon.py\n",
            "spark-3.1.2-bin-hadoop3.2/python/pyspark/context.pyi\n",
            "spark-3.1.2-bin-hadoop3.2/python/pyspark/context.py\n",
            "spark-3.1.2-bin-hadoop3.2/python/pyspark/conf.pyi\n",
            "spark-3.1.2-bin-hadoop3.2/python/pyspark/conf.py\n",
            "spark-3.1.2-bin-hadoop3.2/python/pyspark/cloudpickle/\n",
            "spark-3.1.2-bin-hadoop3.2/python/pyspark/cloudpickle/compat.py\n",
            "spark-3.1.2-bin-hadoop3.2/python/pyspark/cloudpickle/cloudpickle_fast.py\n",
            "spark-3.1.2-bin-hadoop3.2/python/pyspark/cloudpickle/cloudpickle.py\n",
            "spark-3.1.2-bin-hadoop3.2/python/pyspark/cloudpickle/__init__.py\n",
            "spark-3.1.2-bin-hadoop3.2/python/pyspark/broadcast.pyi\n",
            "spark-3.1.2-bin-hadoop3.2/python/pyspark/broadcast.py\n",
            "spark-3.1.2-bin-hadoop3.2/python/pyspark/accumulators.pyi\n",
            "spark-3.1.2-bin-hadoop3.2/python/pyspark/accumulators.py\n",
            "spark-3.1.2-bin-hadoop3.2/python/pyspark/_typing.pyi\n",
            "spark-3.1.2-bin-hadoop3.2/python/pyspark/_globals.py\n",
            "spark-3.1.2-bin-hadoop3.2/python/pyspark/__init__.pyi\n",
            "spark-3.1.2-bin-hadoop3.2/python/pyspark/__init__.py\n",
            "spark-3.1.2-bin-hadoop3.2/python/pyspark/sql/\n",
            "spark-3.1.2-bin-hadoop3.2/python/pyspark/sql/window.pyi\n",
            "spark-3.1.2-bin-hadoop3.2/python/pyspark/sql/window.py\n",
            "spark-3.1.2-bin-hadoop3.2/python/pyspark/sql/utils.py\n",
            "spark-3.1.2-bin-hadoop3.2/python/pyspark/sql/udf.pyi\n",
            "spark-3.1.2-bin-hadoop3.2/python/pyspark/sql/types.pyi\n",
            "spark-3.1.2-bin-hadoop3.2/python/pyspark/sql/types.py\n",
            "spark-3.1.2-bin-hadoop3.2/python/pyspark/sql/tests/\n",
            "spark-3.1.2-bin-hadoop3.2/python/pyspark/sql/tests/test_utils.py\n",
            "spark-3.1.2-bin-hadoop3.2/python/pyspark/sql/tests/test_udf.py\n",
            "spark-3.1.2-bin-hadoop3.2/python/pyspark/sql/tests/test_types.py\n",
            "spark-3.1.2-bin-hadoop3.2/python/pyspark/sql/tests/test_streaming.py\n",
            "spark-3.1.2-bin-hadoop3.2/python/pyspark/sql/tests/test_session.py\n",
            "spark-3.1.2-bin-hadoop3.2/python/pyspark/sql/tests/test_serde.py\n",
            "spark-3.1.2-bin-hadoop3.2/python/pyspark/sql/tests/test_readwriter.py\n",
            "spark-3.1.2-bin-hadoop3.2/python/pyspark/sql/tests/test_pandas_udf_window.py\n",
            "spark-3.1.2-bin-hadoop3.2/python/pyspark/sql/tests/test_pandas_udf_typehints.py\n",
            "spark-3.1.2-bin-hadoop3.2/python/pyspark/sql/tests/test_pandas_udf_scalar.py\n",
            "spark-3.1.2-bin-hadoop3.2/python/pyspark/sql/tests/test_pandas_udf_grouped_agg.py\n",
            "spark-3.1.2-bin-hadoop3.2/python/pyspark/sql/tests/test_pandas_udf.py\n",
            "spark-3.1.2-bin-hadoop3.2/python/pyspark/sql/tests/test_pandas_map.py\n",
            "spark-3.1.2-bin-hadoop3.2/python/pyspark/sql/tests/test_pandas_cogrouped_map.py\n",
            "spark-3.1.2-bin-hadoop3.2/python/pyspark/sql/tests/test_datasources.py\n",
            "spark-3.1.2-bin-hadoop3.2/python/pyspark/sql/tests/test_context.py\n",
            "spark-3.1.2-bin-hadoop3.2/python/pyspark/sql/tests/test_conf.py\n",
            "spark-3.1.2-bin-hadoop3.2/python/pyspark/sql/tests/test_catalog.py\n",
            "spark-3.1.2-bin-hadoop3.2/python/pyspark/sql/tests/__init__.py\n",
            "spark-3.1.2-bin-hadoop3.2/python/pyspark/sql/tests/test_pandas_grouped_map.py\n",
            "spark-3.1.2-bin-hadoop3.2/python/pyspark/sql/tests/test_group.py\n",
            "spark-3.1.2-bin-hadoop3.2/python/pyspark/sql/tests/test_functions.py\n",
            "spark-3.1.2-bin-hadoop3.2/python/pyspark/sql/tests/test_dataframe.py\n",
            "spark-3.1.2-bin-hadoop3.2/python/pyspark/sql/tests/test_column.py\n",
            "spark-3.1.2-bin-hadoop3.2/python/pyspark/sql/tests/test_arrow.py\n",
            "spark-3.1.2-bin-hadoop3.2/python/pyspark/sql/streaming.pyi\n",
            "spark-3.1.2-bin-hadoop3.2/python/pyspark/sql/session.pyi\n",
            "spark-3.1.2-bin-hadoop3.2/python/pyspark/sql/readwriter.pyi\n",
            "spark-3.1.2-bin-hadoop3.2/python/pyspark/sql/pandas/\n",
            "spark-3.1.2-bin-hadoop3.2/python/pyspark/sql/pandas/utils.py\n",
            "spark-3.1.2-bin-hadoop3.2/python/pyspark/sql/pandas/typehints.py\n",
            "spark-3.1.2-bin-hadoop3.2/python/pyspark/sql/pandas/serializers.py\n",
            "spark-3.1.2-bin-hadoop3.2/python/pyspark/sql/pandas/map_ops.pyi\n",
            "spark-3.1.2-bin-hadoop3.2/python/pyspark/sql/pandas/map_ops.py\n",
            "spark-3.1.2-bin-hadoop3.2/python/pyspark/sql/pandas/group_ops.pyi\n",
            "spark-3.1.2-bin-hadoop3.2/python/pyspark/sql/pandas/group_ops.py\n",
            "spark-3.1.2-bin-hadoop3.2/python/pyspark/sql/pandas/functions.pyi\n",
            "spark-3.1.2-bin-hadoop3.2/python/pyspark/sql/pandas/functions.py\n",
            "spark-3.1.2-bin-hadoop3.2/python/pyspark/sql/pandas/conversion.pyi\n",
            "spark-3.1.2-bin-hadoop3.2/python/pyspark/sql/pandas/_typing/\n",
            "spark-3.1.2-bin-hadoop3.2/python/pyspark/sql/pandas/_typing/protocols/\n",
            "spark-3.1.2-bin-hadoop3.2/python/pyspark/sql/pandas/_typing/protocols/series.pyi\n",
            "spark-3.1.2-bin-hadoop3.2/python/pyspark/sql/pandas/_typing/protocols/frame.pyi\n",
            "spark-3.1.2-bin-hadoop3.2/python/pyspark/sql/pandas/_typing/protocols/__init__.pyi\n",
            "spark-3.1.2-bin-hadoop3.2/python/pyspark/sql/pandas/_typing/__init__.pyi\n",
            "spark-3.1.2-bin-hadoop3.2/python/pyspark/sql/pandas/__init__.py\n",
            "spark-3.1.2-bin-hadoop3.2/python/pyspark/sql/pandas/types.py\n",
            "spark-3.1.2-bin-hadoop3.2/python/pyspark/sql/pandas/conversion.py\n",
            "spark-3.1.2-bin-hadoop3.2/python/pyspark/sql/group.pyi\n",
            "spark-3.1.2-bin-hadoop3.2/python/pyspark/sql/group.py\n",
            "spark-3.1.2-bin-hadoop3.2/python/pyspark/sql/dataframe.pyi\n",
            "spark-3.1.2-bin-hadoop3.2/python/pyspark/sql/context.pyi\n",
            "spark-3.1.2-bin-hadoop3.2/python/pyspark/sql/conf.pyi\n",
            "spark-3.1.2-bin-hadoop3.2/python/pyspark/sql/conf.py\n",
            "spark-3.1.2-bin-hadoop3.2/python/pyspark/sql/column.pyi\n",
            "spark-3.1.2-bin-hadoop3.2/python/pyspark/sql/catalog.pyi\n",
            "spark-3.1.2-bin-hadoop3.2/python/pyspark/sql/avro/\n",
            "spark-3.1.2-bin-hadoop3.2/python/pyspark/sql/avro/__init__.py\n",
            "spark-3.1.2-bin-hadoop3.2/python/pyspark/sql/avro/functions.pyi\n",
            "spark-3.1.2-bin-hadoop3.2/python/pyspark/sql/avro/functions.py\n",
            "spark-3.1.2-bin-hadoop3.2/python/pyspark/sql/_typing.pyi\n",
            "spark-3.1.2-bin-hadoop3.2/python/pyspark/sql/__init__.pyi\n",
            "spark-3.1.2-bin-hadoop3.2/python/pyspark/sql/__init__.py\n",
            "spark-3.1.2-bin-hadoop3.2/python/pyspark/sql/udf.py\n",
            "spark-3.1.2-bin-hadoop3.2/python/pyspark/sql/streaming.py\n",
            "spark-3.1.2-bin-hadoop3.2/python/pyspark/sql/session.py\n",
            "spark-3.1.2-bin-hadoop3.2/python/pyspark/sql/readwriter.py\n",
            "spark-3.1.2-bin-hadoop3.2/python/pyspark/sql/functions.pyi\n",
            "spark-3.1.2-bin-hadoop3.2/python/pyspark/sql/functions.py\n",
            "spark-3.1.2-bin-hadoop3.2/python/pyspark/sql/dataframe.py\n",
            "spark-3.1.2-bin-hadoop3.2/python/pyspark/sql/context.py\n",
            "spark-3.1.2-bin-hadoop3.2/python/pyspark/sql/column.py\n",
            "spark-3.1.2-bin-hadoop3.2/python/pyspark/sql/catalog.py\n",
            "spark-3.1.2-bin-hadoop3.2/python/pyspark/shuffle.py\n",
            "spark-3.1.2-bin-hadoop3.2/python/pyspark/shell.py\n",
            "spark-3.1.2-bin-hadoop3.2/python/pyspark/serializers.py\n",
            "spark-3.1.2-bin-hadoop3.2/python/pyspark/resultiterable.pyi\n",
            "spark-3.1.2-bin-hadoop3.2/python/pyspark/resultiterable.py\n",
            "spark-3.1.2-bin-hadoop3.2/python/pyspark/resource/\n",
            "spark-3.1.2-bin-hadoop3.2/python/pyspark/resource/tests/\n",
            "spark-3.1.2-bin-hadoop3.2/python/pyspark/resource/tests/test_resources.py\n",
            "spark-3.1.2-bin-hadoop3.2/python/pyspark/resource/tests/__init__.py\n",
            "spark-3.1.2-bin-hadoop3.2/python/pyspark/resource/requests.pyi\n",
            "spark-3.1.2-bin-hadoop3.2/python/pyspark/resource/requests.py\n",
            "spark-3.1.2-bin-hadoop3.2/python/pyspark/resource/information.pyi\n",
            "spark-3.1.2-bin-hadoop3.2/python/pyspark/resource/information.py\n",
            "spark-3.1.2-bin-hadoop3.2/python/pyspark/resource/__init__.py\n",
            "spark-3.1.2-bin-hadoop3.2/python/pyspark/resource/profile.pyi\n",
            "spark-3.1.2-bin-hadoop3.2/python/pyspark/resource/profile.py\n",
            "spark-3.1.2-bin-hadoop3.2/python/pyspark/rddsampler.py\n",
            "spark-3.1.2-bin-hadoop3.2/python/pyspark/rdd.pyi\n",
            "spark-3.1.2-bin-hadoop3.2/python/pyspark/py.typed\n",
            "spark-3.1.2-bin-hadoop3.2/python/pyspark/profiler.pyi\n",
            "spark-3.1.2-bin-hadoop3.2/python/pyspark/profiler.py\n",
            "spark-3.1.2-bin-hadoop3.2/python/pyspark/worker.py\n",
            "spark-3.1.2-bin-hadoop3.2/python/pyspark/version.py\n",
            "spark-3.1.2-bin-hadoop3.2/python/pyspark/taskcontext.py\n",
            "spark-3.1.2-bin-hadoop3.2/python/pyspark/rdd.py\n",
            "spark-3.1.2-bin-hadoop3.2/python/pyspark/version.pyi\n",
            "spark-3.1.2-bin-hadoop3.2/python/pyspark/util.py\n",
            "spark-3.1.2-bin-hadoop3.2/python/pyspark/traceback_utils.py\n",
            "spark-3.1.2-bin-hadoop3.2/python/pyspark/tests/\n",
            "spark-3.1.2-bin-hadoop3.2/python/pyspark/tests/test_worker.py\n",
            "spark-3.1.2-bin-hadoop3.2/python/pyspark/tests/test_util.py\n",
            "spark-3.1.2-bin-hadoop3.2/python/pyspark/tests/test_taskcontext.py\n",
            "spark-3.1.2-bin-hadoop3.2/python/pyspark/tests/test_shuffle.py\n",
            "spark-3.1.2-bin-hadoop3.2/python/pyspark/tests/test_serializers.py\n",
            "spark-3.1.2-bin-hadoop3.2/python/pyspark/tests/test_readwrite.py\n",
            "spark-3.1.2-bin-hadoop3.2/python/pyspark/tests/test_rddbarrier.py\n",
            "spark-3.1.2-bin-hadoop3.2/python/pyspark/tests/test_rdd.py\n",
            "spark-3.1.2-bin-hadoop3.2/python/pyspark/tests/test_profiler.py\n",
            "spark-3.1.2-bin-hadoop3.2/python/pyspark/tests/test_pin_thread.py\n",
            "spark-3.1.2-bin-hadoop3.2/python/pyspark/tests/test_join.py\n",
            "spark-3.1.2-bin-hadoop3.2/python/pyspark/tests/test_install_spark.py\n",
            "spark-3.1.2-bin-hadoop3.2/python/pyspark/tests/test_daemon.py\n",
            "spark-3.1.2-bin-hadoop3.2/python/pyspark/tests/test_context.py\n",
            "spark-3.1.2-bin-hadoop3.2/python/pyspark/tests/test_conf.py\n",
            "spark-3.1.2-bin-hadoop3.2/python/pyspark/tests/test_broadcast.py\n",
            "spark-3.1.2-bin-hadoop3.2/python/pyspark/tests/test_appsubmit.py\n",
            "spark-3.1.2-bin-hadoop3.2/python/pyspark/tests/__init__.py\n",
            "spark-3.1.2-bin-hadoop3.2/python/pyspark/testing/\n",
            "spark-3.1.2-bin-hadoop3.2/python/pyspark/testing/streamingutils.py\n",
            "spark-3.1.2-bin-hadoop3.2/python/pyspark/testing/sqlutils.py\n",
            "spark-3.1.2-bin-hadoop3.2/python/pyspark/testing/mlutils.py\n",
            "spark-3.1.2-bin-hadoop3.2/python/pyspark/testing/mllibutils.py\n",
            "spark-3.1.2-bin-hadoop3.2/python/pyspark/testing/__init__.py\n",
            "spark-3.1.2-bin-hadoop3.2/python/pyspark/testing/utils.py\n",
            "spark-3.1.2-bin-hadoop3.2/python/pyspark/taskcontext.pyi\n",
            "spark-3.1.2-bin-hadoop3.2/python/pyspark/streaming/\n",
            "spark-3.1.2-bin-hadoop3.2/python/pyspark/streaming/util.py\n",
            "spark-3.1.2-bin-hadoop3.2/python/pyspark/streaming/tests/\n",
            "spark-3.1.2-bin-hadoop3.2/python/pyspark/streaming/tests/test_listener.py\n",
            "spark-3.1.2-bin-hadoop3.2/python/pyspark/streaming/tests/test_kinesis.py\n",
            "spark-3.1.2-bin-hadoop3.2/python/pyspark/streaming/tests/test_dstream.py\n",
            "spark-3.1.2-bin-hadoop3.2/python/pyspark/streaming/tests/test_context.py\n",
            "spark-3.1.2-bin-hadoop3.2/python/pyspark/streaming/tests/__init__.py\n",
            "spark-3.1.2-bin-hadoop3.2/python/pyspark/streaming/listener.pyi\n",
            "spark-3.1.2-bin-hadoop3.2/python/pyspark/streaming/listener.py\n",
            "spark-3.1.2-bin-hadoop3.2/python/pyspark/streaming/kinesis.pyi\n",
            "spark-3.1.2-bin-hadoop3.2/python/pyspark/streaming/kinesis.py\n",
            "spark-3.1.2-bin-hadoop3.2/python/pyspark/streaming/dstream.pyi\n",
            "spark-3.1.2-bin-hadoop3.2/python/pyspark/streaming/context.pyi\n",
            "spark-3.1.2-bin-hadoop3.2/python/pyspark/streaming/context.py\n",
            "spark-3.1.2-bin-hadoop3.2/python/pyspark/streaming/__init__.py\n",
            "spark-3.1.2-bin-hadoop3.2/python/pyspark/streaming/dstream.py\n",
            "spark-3.1.2-bin-hadoop3.2/python/pyspark/storagelevel.pyi\n",
            "spark-3.1.2-bin-hadoop3.2/python/pyspark/storagelevel.py\n",
            "spark-3.1.2-bin-hadoop3.2/python/pyspark/status.pyi\n",
            "spark-3.1.2-bin-hadoop3.2/python/pyspark/status.py\n",
            "spark-3.1.2-bin-hadoop3.2/python/pyspark/statcounter.pyi\n",
            "spark-3.1.2-bin-hadoop3.2/python/pyspark/statcounter.py\n",
            "spark-3.1.2-bin-hadoop3.2/python/pylintrc\n",
            "spark-3.1.2-bin-hadoop3.2/python/lib/\n",
            "spark-3.1.2-bin-hadoop3.2/python/lib/pyspark.zip\n",
            "spark-3.1.2-bin-hadoop3.2/python/lib/PY4J_LICENSE.txt\n",
            "spark-3.1.2-bin-hadoop3.2/python/lib/py4j-0.10.9-src.zip\n",
            "spark-3.1.2-bin-hadoop3.2/python/docs/\n",
            "spark-3.1.2-bin-hadoop3.2/python/docs/source/\n",
            "spark-3.1.2-bin-hadoop3.2/python/docs/source/user_guide/\n",
            "spark-3.1.2-bin-hadoop3.2/python/docs/source/user_guide/python_packaging.rst\n",
            "spark-3.1.2-bin-hadoop3.2/python/docs/source/user_guide/index.rst\n",
            "spark-3.1.2-bin-hadoop3.2/python/docs/source/user_guide/arrow_pandas.rst\n",
            "spark-3.1.2-bin-hadoop3.2/python/docs/source/reference/\n",
            "spark-3.1.2-bin-hadoop3.2/python/docs/source/reference/pyspark.streaming.rst\n",
            "spark-3.1.2-bin-hadoop3.2/python/docs/source/reference/pyspark.ss.rst\n",
            "spark-3.1.2-bin-hadoop3.2/python/docs/source/reference/pyspark.rst\n",
            "spark-3.1.2-bin-hadoop3.2/python/docs/source/reference/pyspark.resource.rst\n",
            "spark-3.1.2-bin-hadoop3.2/python/docs/source/reference/pyspark.mllib.rst\n",
            "spark-3.1.2-bin-hadoop3.2/python/docs/source/reference/index.rst\n",
            "spark-3.1.2-bin-hadoop3.2/python/docs/source/reference/pyspark.sql.rst\n",
            "spark-3.1.2-bin-hadoop3.2/python/docs/source/reference/pyspark.ml.rst\n",
            "spark-3.1.2-bin-hadoop3.2/python/docs/source/migration_guide/\n",
            "spark-3.1.2-bin-hadoop3.2/python/docs/source/migration_guide/pyspark_2.3_to_2.4.rst\n",
            "spark-3.1.2-bin-hadoop3.2/python/docs/source/migration_guide/pyspark_2.3.0_to_2.3.1_above.rst\n",
            "spark-3.1.2-bin-hadoop3.2/python/docs/source/migration_guide/pyspark_2.2_to_2.3.rst\n",
            "spark-3.1.2-bin-hadoop3.2/python/docs/source/migration_guide/pyspark_1.4_to_1.5.rst\n",
            "spark-3.1.2-bin-hadoop3.2/python/docs/source/migration_guide/pyspark_1.0_1.2_to_1.3.rst\n",
            "spark-3.1.2-bin-hadoop3.2/python/docs/source/migration_guide/pyspark_2.4_to_3.0.rst\n",
            "spark-3.1.2-bin-hadoop3.2/python/docs/source/migration_guide/index.rst\n",
            "spark-3.1.2-bin-hadoop3.2/python/docs/source/getting_started/\n",
            "spark-3.1.2-bin-hadoop3.2/python/docs/source/getting_started/quickstart.ipynb\n",
            "spark-3.1.2-bin-hadoop3.2/python/docs/source/getting_started/index.rst\n",
            "spark-3.1.2-bin-hadoop3.2/python/docs/source/getting_started/install.rst\n",
            "spark-3.1.2-bin-hadoop3.2/python/docs/source/development/\n",
            "spark-3.1.2-bin-hadoop3.2/python/docs/source/development/testing.rst\n",
            "spark-3.1.2-bin-hadoop3.2/python/docs/source/development/setting_ide.rst\n",
            "spark-3.1.2-bin-hadoop3.2/python/docs/source/development/index.rst\n",
            "spark-3.1.2-bin-hadoop3.2/python/docs/source/development/debugging.rst\n",
            "spark-3.1.2-bin-hadoop3.2/python/docs/source/development/contributing.rst\n",
            "spark-3.1.2-bin-hadoop3.2/python/docs/source/_templates/\n",
            "spark-3.1.2-bin-hadoop3.2/python/docs/source/_templates/autosummary/\n",
            "spark-3.1.2-bin-hadoop3.2/python/docs/source/_templates/autosummary/class_with_docs.rst\n",
            "spark-3.1.2-bin-hadoop3.2/python/docs/source/_templates/autosummary/class.rst\n",
            "spark-3.1.2-bin-hadoop3.2/python/docs/source/_static/\n",
            "spark-3.1.2-bin-hadoop3.2/python/docs/source/_static/css/\n",
            "spark-3.1.2-bin-hadoop3.2/python/docs/source/_static/css/pyspark.css\n",
            "spark-3.1.2-bin-hadoop3.2/python/docs/source/_static/copybutton.js\n",
            "spark-3.1.2-bin-hadoop3.2/python/docs/source/index.rst\n",
            "spark-3.1.2-bin-hadoop3.2/python/docs/source/conf.py\n",
            "spark-3.1.2-bin-hadoop3.2/python/docs/make.bat\n",
            "spark-3.1.2-bin-hadoop3.2/python/docs/make2.bat\n",
            "spark-3.1.2-bin-hadoop3.2/python/docs/Makefile\n",
            "spark-3.1.2-bin-hadoop3.2/python/README.md\n",
            "spark-3.1.2-bin-hadoop3.2/python/MANIFEST.in\n",
            "spark-3.1.2-bin-hadoop3.2/python/.gitignore\n",
            "spark-3.1.2-bin-hadoop3.2/python/.coveragerc\n",
            "spark-3.1.2-bin-hadoop3.2/python/setup.py\n",
            "spark-3.1.2-bin-hadoop3.2/python/run-tests.py\n",
            "spark-3.1.2-bin-hadoop3.2/python/run-tests-with-coverage\n",
            "spark-3.1.2-bin-hadoop3.2/python/mypy.ini\n",
            "spark-3.1.2-bin-hadoop3.2/python/test_support/\n",
            "spark-3.1.2-bin-hadoop3.2/python/test_support/userlibrary.py\n",
            "spark-3.1.2-bin-hadoop3.2/python/test_support/userlib-0.1.zip\n",
            "spark-3.1.2-bin-hadoop3.2/python/test_support/sql/\n",
            "spark-3.1.2-bin-hadoop3.2/python/test_support/sql/text-test.txt\n",
            "spark-3.1.2-bin-hadoop3.2/python/test_support/sql/streaming/\n",
            "spark-3.1.2-bin-hadoop3.2/python/test_support/sql/streaming/text-test.txt\n",
            "spark-3.1.2-bin-hadoop3.2/python/test_support/sql/people_array_utf16le.json\n",
            "spark-3.1.2-bin-hadoop3.2/python/test_support/sql/people_array.json\n",
            "spark-3.1.2-bin-hadoop3.2/python/test_support/sql/people1.json\n",
            "spark-3.1.2-bin-hadoop3.2/python/test_support/sql/people.json\n",
            "spark-3.1.2-bin-hadoop3.2/python/test_support/sql/parquet_partitioned/\n",
            "spark-3.1.2-bin-hadoop3.2/python/test_support/sql/parquet_partitioned/year=2015/\n",
            "spark-3.1.2-bin-hadoop3.2/python/test_support/sql/parquet_partitioned/year=2015/month=9/\n",
            "spark-3.1.2-bin-hadoop3.2/python/test_support/sql/parquet_partitioned/year=2015/month=9/day=1/\n",
            "spark-3.1.2-bin-hadoop3.2/python/test_support/sql/parquet_partitioned/year=2015/month=9/day=1/part-r-00007.gz.parquet\n",
            "spark-3.1.2-bin-hadoop3.2/python/test_support/sql/parquet_partitioned/year=2015/month=9/day=1/.part-r-00007.gz.parquet.crc\n",
            "spark-3.1.2-bin-hadoop3.2/python/test_support/sql/parquet_partitioned/year=2015/month=10/\n",
            "spark-3.1.2-bin-hadoop3.2/python/test_support/sql/parquet_partitioned/year=2015/month=10/day=26/\n",
            "spark-3.1.2-bin-hadoop3.2/python/test_support/sql/parquet_partitioned/year=2015/month=10/day=26/part-r-00005.gz.parquet\n",
            "spark-3.1.2-bin-hadoop3.2/python/test_support/sql/parquet_partitioned/year=2015/month=10/day=26/.part-r-00005.gz.parquet.crc\n",
            "spark-3.1.2-bin-hadoop3.2/python/test_support/sql/parquet_partitioned/year=2015/month=10/day=25/\n",
            "spark-3.1.2-bin-hadoop3.2/python/test_support/sql/parquet_partitioned/year=2015/month=10/day=25/part-r-00004.gz.parquet\n",
            "spark-3.1.2-bin-hadoop3.2/python/test_support/sql/parquet_partitioned/year=2015/month=10/day=25/part-r-00002.gz.parquet\n",
            "spark-3.1.2-bin-hadoop3.2/python/test_support/sql/parquet_partitioned/year=2015/month=10/day=25/.part-r-00004.gz.parquet.crc\n",
            "spark-3.1.2-bin-hadoop3.2/python/test_support/sql/parquet_partitioned/year=2015/month=10/day=25/.part-r-00002.gz.parquet.crc\n",
            "spark-3.1.2-bin-hadoop3.2/python/test_support/sql/parquet_partitioned/year=2014/\n",
            "spark-3.1.2-bin-hadoop3.2/python/test_support/sql/parquet_partitioned/year=2014/month=9/\n",
            "spark-3.1.2-bin-hadoop3.2/python/test_support/sql/parquet_partitioned/year=2014/month=9/day=1/\n",
            "spark-3.1.2-bin-hadoop3.2/python/test_support/sql/parquet_partitioned/year=2014/month=9/day=1/part-r-00008.gz.parquet\n",
            "spark-3.1.2-bin-hadoop3.2/python/test_support/sql/parquet_partitioned/year=2014/month=9/day=1/.part-r-00008.gz.parquet.crc\n",
            "spark-3.1.2-bin-hadoop3.2/python/test_support/sql/parquet_partitioned/_metadata\n",
            "spark-3.1.2-bin-hadoop3.2/python/test_support/sql/parquet_partitioned/_common_metadata\n",
            "spark-3.1.2-bin-hadoop3.2/python/test_support/sql/parquet_partitioned/_SUCCESS\n",
            "spark-3.1.2-bin-hadoop3.2/python/test_support/sql/orc_partitioned/\n",
            "spark-3.1.2-bin-hadoop3.2/python/test_support/sql/orc_partitioned/b=1/\n",
            "spark-3.1.2-bin-hadoop3.2/python/test_support/sql/orc_partitioned/b=1/c=1/\n",
            "spark-3.1.2-bin-hadoop3.2/python/test_support/sql/orc_partitioned/b=1/c=1/part-r-00000-829af031-b970-49d6-ad39-30460a0be2c8.orc\n",
            "spark-3.1.2-bin-hadoop3.2/python/test_support/sql/orc_partitioned/b=1/c=1/.part-r-00000-829af031-b970-49d6-ad39-30460a0be2c8.orc.crc\n",
            "spark-3.1.2-bin-hadoop3.2/python/test_support/sql/orc_partitioned/b=0/\n",
            "spark-3.1.2-bin-hadoop3.2/python/test_support/sql/orc_partitioned/b=0/c=0/\n",
            "spark-3.1.2-bin-hadoop3.2/python/test_support/sql/orc_partitioned/b=0/c=0/part-r-00000-829af031-b970-49d6-ad39-30460a0be2c8.orc\n",
            "spark-3.1.2-bin-hadoop3.2/python/test_support/sql/orc_partitioned/b=0/c=0/.part-r-00000-829af031-b970-49d6-ad39-30460a0be2c8.orc.crc\n",
            "spark-3.1.2-bin-hadoop3.2/python/test_support/sql/orc_partitioned/_SUCCESS\n",
            "spark-3.1.2-bin-hadoop3.2/python/test_support/sql/ages_newlines.csv\n",
            "spark-3.1.2-bin-hadoop3.2/python/test_support/sql/ages.csv\n",
            "spark-3.1.2-bin-hadoop3.2/python/test_support/hello/\n",
            "spark-3.1.2-bin-hadoop3.2/python/test_support/hello/sub_hello/\n",
            "spark-3.1.2-bin-hadoop3.2/python/test_support/hello/sub_hello/sub_hello.txt\n",
            "spark-3.1.2-bin-hadoop3.2/python/test_support/hello/hello.txt\n",
            "spark-3.1.2-bin-hadoop3.2/python/test_support/SimpleHTTPServer.py\n",
            "spark-3.1.2-bin-hadoop3.2/python/test_coverage/\n",
            "spark-3.1.2-bin-hadoop3.2/python/test_coverage/sitecustomize.py\n",
            "spark-3.1.2-bin-hadoop3.2/python/test_coverage/coverage_daemon.py\n",
            "spark-3.1.2-bin-hadoop3.2/python/test_coverage/conf/\n",
            "spark-3.1.2-bin-hadoop3.2/python/test_coverage/conf/spark-defaults.conf\n",
            "spark-3.1.2-bin-hadoop3.2/python/setup.cfg\n",
            "spark-3.1.2-bin-hadoop3.2/python/run-tests\n",
            "spark-3.1.2-bin-hadoop3.2/bin/\n",
            "spark-3.1.2-bin-hadoop3.2/bin/sparkR2.cmd\n",
            "spark-3.1.2-bin-hadoop3.2/bin/sparkR.cmd\n",
            "spark-3.1.2-bin-hadoop3.2/bin/sparkR\n",
            "spark-3.1.2-bin-hadoop3.2/bin/spark-submit2.cmd\n",
            "spark-3.1.2-bin-hadoop3.2/bin/spark-submit.cmd\n",
            "spark-3.1.2-bin-hadoop3.2/bin/spark-submit\n",
            "spark-3.1.2-bin-hadoop3.2/bin/spark-sql2.cmd\n",
            "spark-3.1.2-bin-hadoop3.2/bin/spark-sql.cmd\n",
            "spark-3.1.2-bin-hadoop3.2/bin/spark-sql\n",
            "spark-3.1.2-bin-hadoop3.2/bin/spark-shell2.cmd\n",
            "spark-3.1.2-bin-hadoop3.2/bin/spark-shell.cmd\n",
            "spark-3.1.2-bin-hadoop3.2/bin/spark-shell\n",
            "spark-3.1.2-bin-hadoop3.2/bin/spark-class2.cmd\n",
            "spark-3.1.2-bin-hadoop3.2/bin/spark-class.cmd\n",
            "spark-3.1.2-bin-hadoop3.2/bin/spark-class\n",
            "spark-3.1.2-bin-hadoop3.2/bin/run-example.cmd\n",
            "spark-3.1.2-bin-hadoop3.2/bin/run-example\n",
            "spark-3.1.2-bin-hadoop3.2/bin/pyspark.cmd\n",
            "spark-3.1.2-bin-hadoop3.2/bin/load-spark-env.sh\n",
            "spark-3.1.2-bin-hadoop3.2/bin/load-spark-env.cmd\n",
            "spark-3.1.2-bin-hadoop3.2/bin/find-spark-home.cmd\n",
            "spark-3.1.2-bin-hadoop3.2/bin/find-spark-home\n",
            "spark-3.1.2-bin-hadoop3.2/bin/docker-image-tool.sh\n",
            "spark-3.1.2-bin-hadoop3.2/bin/beeline.cmd\n",
            "spark-3.1.2-bin-hadoop3.2/bin/beeline\n",
            "spark-3.1.2-bin-hadoop3.2/bin/pyspark2.cmd\n",
            "spark-3.1.2-bin-hadoop3.2/bin/pyspark\n",
            "spark-3.1.2-bin-hadoop3.2/README.md\n",
            "spark-3.1.2-bin-hadoop3.2/conf/\n",
            "spark-3.1.2-bin-hadoop3.2/conf/workers.template\n",
            "spark-3.1.2-bin-hadoop3.2/conf/spark-env.sh.template\n",
            "spark-3.1.2-bin-hadoop3.2/conf/spark-defaults.conf.template\n",
            "spark-3.1.2-bin-hadoop3.2/conf/metrics.properties.template\n",
            "spark-3.1.2-bin-hadoop3.2/conf/log4j.properties.template\n",
            "spark-3.1.2-bin-hadoop3.2/conf/fairscheduler.xml.template\n",
            "spark-3.1.2-bin-hadoop3.2/data/\n",
            "spark-3.1.2-bin-hadoop3.2/data/streaming/\n",
            "spark-3.1.2-bin-hadoop3.2/data/streaming/AFINN-111.txt\n",
            "spark-3.1.2-bin-hadoop3.2/data/mllib/\n",
            "spark-3.1.2-bin-hadoop3.2/data/mllib/streaming_kmeans_data_test.txt\n",
            "spark-3.1.2-bin-hadoop3.2/data/mllib/sample_svm_data.txt\n",
            "spark-3.1.2-bin-hadoop3.2/data/mllib/sample_multiclass_classification_data.txt\n",
            "spark-3.1.2-bin-hadoop3.2/data/mllib/sample_movielens_data.txt\n",
            "spark-3.1.2-bin-hadoop3.2/data/mllib/sample_linear_regression_data.txt\n",
            "spark-3.1.2-bin-hadoop3.2/data/mllib/sample_libsvm_data.txt\n",
            "spark-3.1.2-bin-hadoop3.2/data/mllib/sample_lda_libsvm_data.txt\n",
            "spark-3.1.2-bin-hadoop3.2/data/mllib/sample_lda_data.txt\n",
            "spark-3.1.2-bin-hadoop3.2/data/mllib/sample_kmeans_data.txt\n",
            "spark-3.1.2-bin-hadoop3.2/data/mllib/sample_isotonic_regression_libsvm_data.txt\n",
            "spark-3.1.2-bin-hadoop3.2/data/mllib/sample_fpgrowth.txt\n",
            "spark-3.1.2-bin-hadoop3.2/data/mllib/sample_binary_classification_data.txt\n",
            "spark-3.1.2-bin-hadoop3.2/data/mllib/ridge-data/\n",
            "spark-3.1.2-bin-hadoop3.2/data/mllib/ridge-data/lpsa.data\n",
            "spark-3.1.2-bin-hadoop3.2/data/mllib/pic_data.txt\n",
            "spark-3.1.2-bin-hadoop3.2/data/mllib/pagerank_data.txt\n",
            "spark-3.1.2-bin-hadoop3.2/data/mllib/kmeans_data.txt\n",
            "spark-3.1.2-bin-hadoop3.2/data/mllib/iris_libsvm.txt\n",
            "spark-3.1.2-bin-hadoop3.2/data/mllib/images/\n",
            "spark-3.1.2-bin-hadoop3.2/data/mllib/images/partitioned/\n",
            "spark-3.1.2-bin-hadoop3.2/data/mllib/images/partitioned/cls=multichannel/\n",
            "spark-3.1.2-bin-hadoop3.2/data/mllib/images/partitioned/cls=multichannel/date=2018-02/\n",
            "spark-3.1.2-bin-hadoop3.2/data/mllib/images/partitioned/cls=multichannel/date=2018-02/grayscale.jpg\n",
            "spark-3.1.2-bin-hadoop3.2/data/mllib/images/partitioned/cls=multichannel/date=2018-02/chr30.4.184.jpg\n",
            "spark-3.1.2-bin-hadoop3.2/data/mllib/images/partitioned/cls=multichannel/date=2018-01/\n",
            "spark-3.1.2-bin-hadoop3.2/data/mllib/images/partitioned/cls=multichannel/date=2018-01/BGRA_alpha_60.png\n",
            "spark-3.1.2-bin-hadoop3.2/data/mllib/images/partitioned/cls=multichannel/date=2018-01/BGRA.png\n",
            "spark-3.1.2-bin-hadoop3.2/data/mllib/images/partitioned/cls=kittens/\n",
            "spark-3.1.2-bin-hadoop3.2/data/mllib/images/partitioned/cls=kittens/date=2018-02/\n",
            "spark-3.1.2-bin-hadoop3.2/data/mllib/images/partitioned/cls=kittens/date=2018-02/DP802813.jpg\n",
            "spark-3.1.2-bin-hadoop3.2/data/mllib/images/partitioned/cls=kittens/date=2018-02/DP153539.jpg\n",
            "spark-3.1.2-bin-hadoop3.2/data/mllib/images/partitioned/cls=kittens/date=2018-02/54893.jpg\n",
            "spark-3.1.2-bin-hadoop3.2/data/mllib/images/partitioned/cls=kittens/date=2018-01/\n",
            "spark-3.1.2-bin-hadoop3.2/data/mllib/images/partitioned/cls=kittens/date=2018-01/not-image.txt\n",
            "spark-3.1.2-bin-hadoop3.2/data/mllib/images/partitioned/cls=kittens/date=2018-01/29.5.a_b_EGDP022204.jpg\n",
            "spark-3.1.2-bin-hadoop3.2/data/mllib/images/origin/\n",
            "spark-3.1.2-bin-hadoop3.2/data/mllib/images/origin/multi-channel/\n",
            "spark-3.1.2-bin-hadoop3.2/data/mllib/images/origin/multi-channel/grayscale.jpg\n",
            "spark-3.1.2-bin-hadoop3.2/data/mllib/images/origin/multi-channel/chr30.4.184.jpg\n",
            "spark-3.1.2-bin-hadoop3.2/data/mllib/images/origin/multi-channel/BGRA_alpha_60.png\n",
            "spark-3.1.2-bin-hadoop3.2/data/mllib/images/origin/multi-channel/BGRA.png\n",
            "spark-3.1.2-bin-hadoop3.2/data/mllib/images/origin/license.txt\n",
            "spark-3.1.2-bin-hadoop3.2/data/mllib/images/origin/kittens/\n",
            "spark-3.1.2-bin-hadoop3.2/data/mllib/images/origin/kittens/not-image.txt\n",
            "spark-3.1.2-bin-hadoop3.2/data/mllib/images/origin/kittens/DP802813.jpg\n",
            "spark-3.1.2-bin-hadoop3.2/data/mllib/images/origin/kittens/DP153539.jpg\n",
            "spark-3.1.2-bin-hadoop3.2/data/mllib/images/origin/kittens/54893.jpg\n",
            "spark-3.1.2-bin-hadoop3.2/data/mllib/images/origin/kittens/29.5.a_b_EGDP022204.jpg\n",
            "spark-3.1.2-bin-hadoop3.2/data/mllib/images/license.txt\n",
            "spark-3.1.2-bin-hadoop3.2/data/mllib/gmm_data.txt\n",
            "spark-3.1.2-bin-hadoop3.2/data/mllib/als/\n",
            "spark-3.1.2-bin-hadoop3.2/data/mllib/als/test.data\n",
            "spark-3.1.2-bin-hadoop3.2/data/mllib/als/sample_movielens_ratings.txt\n",
            "spark-3.1.2-bin-hadoop3.2/data/graphx/\n",
            "spark-3.1.2-bin-hadoop3.2/data/graphx/users.txt\n",
            "spark-3.1.2-bin-hadoop3.2/data/graphx/followers.txt\n",
            "spark-3.1.2-bin-hadoop3.2/NOTICE\n",
            "spark-3.1.2-bin-hadoop3.2/licenses/\n",
            "spark-3.1.2-bin-hadoop3.2/licenses/LICENSE-zstd.txt\n",
            "spark-3.1.2-bin-hadoop3.2/licenses/LICENSE-zstd-jni.txt\n",
            "spark-3.1.2-bin-hadoop3.2/licenses/LICENSE-xmlenc.txt\n",
            "spark-3.1.2-bin-hadoop3.2/licenses/LICENSE-vis-timeline.txt\n",
            "spark-3.1.2-bin-hadoop3.2/licenses/LICENSE-spire.txt\n",
            "spark-3.1.2-bin-hadoop3.2/licenses/LICENSE-sorttable.js.txt\n",
            "spark-3.1.2-bin-hadoop3.2/licenses/LICENSE-slf4j.txt\n",
            "spark-3.1.2-bin-hadoop3.2/licenses/LICENSE-scopt.txt\n",
            "spark-3.1.2-bin-hadoop3.2/licenses/LICENSE-scala.txt\n",
            "spark-3.1.2-bin-hadoop3.2/licenses/LICENSE-sbt-launch-lib.txt\n",
            "spark-3.1.2-bin-hadoop3.2/licenses/LICENSE-respond.txt\n",
            "spark-3.1.2-bin-hadoop3.2/licenses/LICENSE-reflectasm.txt\n",
            "spark-3.1.2-bin-hadoop3.2/licenses/LICENSE-re2j.txt\n",
            "spark-3.1.2-bin-hadoop3.2/licenses/LICENSE-pyrolite.txt\n",
            "spark-3.1.2-bin-hadoop3.2/licenses/LICENSE-py4j.txt\n",
            "spark-3.1.2-bin-hadoop3.2/licenses/LICENSE-protobuf.txt\n",
            "spark-3.1.2-bin-hadoop3.2/licenses/LICENSE-pmml-model.txt\n",
            "spark-3.1.2-bin-hadoop3.2/licenses/LICENSE-paranamer.txt\n",
            "spark-3.1.2-bin-hadoop3.2/licenses/LICENSE-netlib.txt\n",
            "spark-3.1.2-bin-hadoop3.2/licenses/LICENSE-mustache.txt\n",
            "spark-3.1.2-bin-hadoop3.2/licenses/LICENSE-modernizr.txt\n",
            "spark-3.1.2-bin-hadoop3.2/licenses/LICENSE-minlog.txt\n",
            "spark-3.1.2-bin-hadoop3.2/licenses/LICENSE-matchMedia-polyfill.txt\n",
            "spark-3.1.2-bin-hadoop3.2/licenses/LICENSE-machinist.txt\n",
            "spark-3.1.2-bin-hadoop3.2/licenses/LICENSE-leveldbjni.txt\n",
            "spark-3.1.2-bin-hadoop3.2/licenses/LICENSE-kryo.txt\n",
            "spark-3.1.2-bin-hadoop3.2/licenses/LICENSE-jsp-api.txt\n",
            "spark-3.1.2-bin-hadoop3.2/licenses/LICENSE-json-formatter.txt\n",
            "spark-3.1.2-bin-hadoop3.2/licenses/LICENSE-jquery.txt\n",
            "spark-3.1.2-bin-hadoop3.2/licenses/LICENSE-join.txt\n",
            "spark-3.1.2-bin-hadoop3.2/licenses/LICENSE-jodd.txt\n",
            "spark-3.1.2-bin-hadoop3.2/licenses/LICENSE-jline.txt\n",
            "spark-3.1.2-bin-hadoop3.2/licenses/LICENSE-jaxb-runtime.txt\n",
            "spark-3.1.2-bin-hadoop3.2/licenses/LICENSE-javolution.txt\n",
            "spark-3.1.2-bin-hadoop3.2/licenses/LICENSE-javax-transaction-transaction-api.txt\n",
            "spark-3.1.2-bin-hadoop3.2/licenses/LICENSE-javassist.html\n",
            "spark-3.1.2-bin-hadoop3.2/licenses/LICENSE-janino.txt\n",
            "spark-3.1.2-bin-hadoop3.2/licenses/LICENSE-jakarta.xml.bind-api.txt\n",
            "spark-3.1.2-bin-hadoop3.2/licenses/LICENSE-jakarta.activation-api.txt\n",
            "spark-3.1.2-bin-hadoop3.2/licenses/LICENSE-jakarta-ws-rs-api\n",
            "spark-3.1.2-bin-hadoop3.2/licenses/LICENSE-jakarta-annotation-api\n",
            "spark-3.1.2-bin-hadoop3.2/licenses/LICENSE-istack-commons-runtime.txt\n",
            "spark-3.1.2-bin-hadoop3.2/licenses/LICENSE-graphlib-dot.txt\n",
            "spark-3.1.2-bin-hadoop3.2/licenses/LICENSE-f2j.txt\n",
            "spark-3.1.2-bin-hadoop3.2/licenses/LICENSE-dnsjava.txt\n",
            "spark-3.1.2-bin-hadoop3.2/licenses/LICENSE-datatables.txt\n",
            "spark-3.1.2-bin-hadoop3.2/licenses/LICENSE-dagre-d3.txt\n",
            "spark-3.1.2-bin-hadoop3.2/licenses/LICENSE-d3.min.js.txt\n",
            "spark-3.1.2-bin-hadoop3.2/licenses/LICENSE-cloudpickle.txt\n",
            "spark-3.1.2-bin-hadoop3.2/licenses/LICENSE-bootstrap.txt\n",
            "spark-3.1.2-bin-hadoop3.2/licenses/LICENSE-automaton.txt\n",
            "spark-3.1.2-bin-hadoop3.2/licenses/LICENSE-arpack.txt\n",
            "spark-3.1.2-bin-hadoop3.2/licenses/LICENSE-antlr.txt\n",
            "spark-3.1.2-bin-hadoop3.2/licenses/LICENSE-JTransforms.txt\n",
            "spark-3.1.2-bin-hadoop3.2/licenses/LICENSE-JLargeArrays.txt\n",
            "spark-3.1.2-bin-hadoop3.2/licenses/LICENSE-CC0.txt\n",
            "spark-3.1.2-bin-hadoop3.2/licenses/LICENSE-AnchorJS.txt\n",
            "spark-3.1.2-bin-hadoop3.2/LICENSE\n",
            "spark-3.1.2-bin-hadoop3.2/examples/\n",
            "spark-3.1.2-bin-hadoop3.2/examples/src/\n",
            "spark-3.1.2-bin-hadoop3.2/examples/src/main/\n",
            "spark-3.1.2-bin-hadoop3.2/examples/src/main/scala/\n",
            "spark-3.1.2-bin-hadoop3.2/examples/src/main/scala/org/\n",
            "spark-3.1.2-bin-hadoop3.2/examples/src/main/scala/org/apache/\n",
            "spark-3.1.2-bin-hadoop3.2/examples/src/main/scala/org/apache/spark/\n",
            "spark-3.1.2-bin-hadoop3.2/examples/src/main/scala/org/apache/spark/examples/\n",
            "spark-3.1.2-bin-hadoop3.2/examples/src/main/scala/org/apache/spark/examples/mllib/\n",
            "spark-3.1.2-bin-hadoop3.2/examples/src/main/scala/org/apache/spark/examples/mllib/PrefixSpanExample.scala\n",
            "spark-3.1.2-bin-hadoop3.2/examples/src/main/scala/org/apache/spark/examples/mllib/PowerIterationClusteringExample.scala\n",
            "spark-3.1.2-bin-hadoop3.2/examples/src/main/scala/org/apache/spark/examples/mllib/PMMLModelExportExample.scala\n",
            "spark-3.1.2-bin-hadoop3.2/examples/src/main/scala/org/apache/spark/examples/mllib/PCAOnSourceVectorExample.scala\n",
            "spark-3.1.2-bin-hadoop3.2/examples/src/main/scala/org/apache/spark/examples/mllib/PCAOnRowMatrixExample.scala\n",
            "spark-3.1.2-bin-hadoop3.2/examples/src/main/scala/org/apache/spark/examples/mllib/NormalizerExample.scala\n",
            "spark-3.1.2-bin-hadoop3.2/examples/src/main/scala/org/apache/spark/examples/mllib/NaiveBayesExample.scala\n",
            "spark-3.1.2-bin-hadoop3.2/examples/src/main/scala/org/apache/spark/examples/mllib/MultivariateSummarizer.scala\n",
            "spark-3.1.2-bin-hadoop3.2/examples/src/main/scala/org/apache/spark/examples/mllib/MulticlassMetricsExample.scala\n",
            "spark-3.1.2-bin-hadoop3.2/examples/src/main/scala/org/apache/spark/examples/mllib/MultiLabelMetricsExample.scala\n",
            "spark-3.1.2-bin-hadoop3.2/examples/src/main/scala/org/apache/spark/examples/mllib/MovieLensALS.scala\n",
            "spark-3.1.2-bin-hadoop3.2/examples/src/main/scala/org/apache/spark/examples/mllib/LogisticRegressionWithLBFGSExample.scala\n",
            "spark-3.1.2-bin-hadoop3.2/examples/src/main/scala/org/apache/spark/examples/mllib/LatentDirichletAllocationExample.scala\n",
            "spark-3.1.2-bin-hadoop3.2/examples/src/main/scala/org/apache/spark/examples/mllib/LDAExample.scala\n",
            "spark-3.1.2-bin-hadoop3.2/examples/src/main/scala/org/apache/spark/examples/mllib/LBFGSExample.scala\n",
            "spark-3.1.2-bin-hadoop3.2/examples/src/main/scala/org/apache/spark/examples/mllib/KernelDensityEstimationExample.scala\n",
            "spark-3.1.2-bin-hadoop3.2/examples/src/main/scala/org/apache/spark/examples/mllib/KMeansExample.scala\n",
            "spark-3.1.2-bin-hadoop3.2/examples/src/main/scala/org/apache/spark/examples/mllib/IsotonicRegressionExample.scala\n",
            "spark-3.1.2-bin-hadoop3.2/examples/src/main/scala/org/apache/spark/examples/mllib/HypothesisTestingKolmogorovSmirnovTestExample.scala\n",
            "spark-3.1.2-bin-hadoop3.2/examples/src/main/scala/org/apache/spark/examples/mllib/HypothesisTestingExample.scala\n",
            "spark-3.1.2-bin-hadoop3.2/examples/src/main/scala/org/apache/spark/examples/mllib/GradientBoostingRegressionExample.scala\n",
            "spark-3.1.2-bin-hadoop3.2/examples/src/main/scala/org/apache/spark/examples/mllib/GradientBoostingClassificationExample.scala\n",
            "spark-3.1.2-bin-hadoop3.2/examples/src/main/scala/org/apache/spark/examples/mllib/GradientBoostedTreesRunner.scala\n",
            "spark-3.1.2-bin-hadoop3.2/examples/src/main/scala/org/apache/spark/examples/mllib/GaussianMixtureExample.scala\n",
            "spark-3.1.2-bin-hadoop3.2/examples/src/main/scala/org/apache/spark/examples/mllib/FPGrowthExample.scala\n",
            "spark-3.1.2-bin-hadoop3.2/examples/src/main/scala/org/apache/spark/examples/mllib/ElementwiseProductExample.scala\n",
            "spark-3.1.2-bin-hadoop3.2/examples/src/main/scala/org/apache/spark/examples/mllib/DenseKMeans.scala\n",
            "spark-3.1.2-bin-hadoop3.2/examples/src/main/scala/org/apache/spark/examples/mllib/DecisionTreeRunner.scala\n",
            "spark-3.1.2-bin-hadoop3.2/examples/src/main/scala/org/apache/spark/examples/mllib/DecisionTreeRegressionExample.scala\n",
            "spark-3.1.2-bin-hadoop3.2/examples/src/main/scala/org/apache/spark/examples/mllib/DecisionTreeClassificationExample.scala\n",
            "spark-3.1.2-bin-hadoop3.2/examples/src/main/scala/org/apache/spark/examples/mllib/CosineSimilarity.scala\n",
            "spark-3.1.2-bin-hadoop3.2/examples/src/main/scala/org/apache/spark/examples/mllib/CorrelationsExample.scala\n",
            "spark-3.1.2-bin-hadoop3.2/examples/src/main/scala/org/apache/spark/examples/mllib/Correlations.scala\n",
            "spark-3.1.2-bin-hadoop3.2/examples/src/main/scala/org/apache/spark/examples/mllib/ChiSqSelectorExample.scala\n",
            "spark-3.1.2-bin-hadoop3.2/examples/src/main/scala/org/apache/spark/examples/mllib/BisectingKMeansExample.scala\n",
            "spark-3.1.2-bin-hadoop3.2/examples/src/main/scala/org/apache/spark/examples/mllib/BinaryClassificationMetricsExample.scala\n",
            "spark-3.1.2-bin-hadoop3.2/examples/src/main/scala/org/apache/spark/examples/mllib/BinaryClassification.scala\n",
            "spark-3.1.2-bin-hadoop3.2/examples/src/main/scala/org/apache/spark/examples/mllib/AssociationRulesExample.scala\n",
            "spark-3.1.2-bin-hadoop3.2/examples/src/main/scala/org/apache/spark/examples/mllib/AbstractParams.scala\n",
            "spark-3.1.2-bin-hadoop3.2/examples/src/main/scala/org/apache/spark/examples/mllib/Word2VecExample.scala\n",
            "spark-3.1.2-bin-hadoop3.2/examples/src/main/scala/org/apache/spark/examples/mllib/TallSkinnySVD.scala\n",
            "spark-3.1.2-bin-hadoop3.2/examples/src/main/scala/org/apache/spark/examples/mllib/TallSkinnyPCA.scala\n",
            "spark-3.1.2-bin-hadoop3.2/examples/src/main/scala/org/apache/spark/examples/mllib/TFIDFExample.scala\n",
            "spark-3.1.2-bin-hadoop3.2/examples/src/main/scala/org/apache/spark/examples/mllib/SummaryStatisticsExample.scala\n",
            "spark-3.1.2-bin-hadoop3.2/examples/src/main/scala/org/apache/spark/examples/mllib/StreamingTestExample.scala\n",
            "spark-3.1.2-bin-hadoop3.2/examples/src/main/scala/org/apache/spark/examples/mllib/StreamingLogisticRegression.scala\n",
            "spark-3.1.2-bin-hadoop3.2/examples/src/main/scala/org/apache/spark/examples/mllib/StreamingLinearRegressionExample.scala\n",
            "spark-3.1.2-bin-hadoop3.2/examples/src/main/scala/org/apache/spark/examples/mllib/StreamingKMeansExample.scala\n",
            "spark-3.1.2-bin-hadoop3.2/examples/src/main/scala/org/apache/spark/examples/mllib/StratifiedSamplingExample.scala\n",
            "spark-3.1.2-bin-hadoop3.2/examples/src/main/scala/org/apache/spark/examples/mllib/StandardScalerExample.scala\n",
            "spark-3.1.2-bin-hadoop3.2/examples/src/main/scala/org/apache/spark/examples/mllib/SparseNaiveBayes.scala\n",
            "spark-3.1.2-bin-hadoop3.2/examples/src/main/scala/org/apache/spark/examples/mllib/SimpleFPGrowth.scala\n",
            "spark-3.1.2-bin-hadoop3.2/examples/src/main/scala/org/apache/spark/examples/mllib/SampledRDDs.scala\n",
            "spark-3.1.2-bin-hadoop3.2/examples/src/main/scala/org/apache/spark/examples/mllib/SVMWithSGDExample.scala\n",
            "spark-3.1.2-bin-hadoop3.2/examples/src/main/scala/org/apache/spark/examples/mllib/SVDExample.scala\n",
            "spark-3.1.2-bin-hadoop3.2/examples/src/main/scala/org/apache/spark/examples/mllib/RecommendationExample.scala\n",
            "spark-3.1.2-bin-hadoop3.2/examples/src/main/scala/org/apache/spark/examples/mllib/RankingMetricsExample.scala\n",
            "spark-3.1.2-bin-hadoop3.2/examples/src/main/scala/org/apache/spark/examples/mllib/RandomRDDGeneration.scala\n",
            "spark-3.1.2-bin-hadoop3.2/examples/src/main/scala/org/apache/spark/examples/mllib/RandomForestRegressionExample.scala\n",
            "spark-3.1.2-bin-hadoop3.2/examples/src/main/scala/org/apache/spark/examples/mllib/RandomForestClassificationExample.scala\n",
            "spark-3.1.2-bin-hadoop3.2/examples/src/main/scala/org/apache/spark/examples/ml/\n",
            "spark-3.1.2-bin-hadoop3.2/examples/src/main/scala/org/apache/spark/examples/ml/Word2VecExample.scala\n",
            "spark-3.1.2-bin-hadoop3.2/examples/src/main/scala/org/apache/spark/examples/ml/VectorSlicerExample.scala\n",
            "spark-3.1.2-bin-hadoop3.2/examples/src/main/scala/org/apache/spark/examples/ml/VectorSizeHintExample.scala\n",
            "spark-3.1.2-bin-hadoop3.2/examples/src/main/scala/org/apache/spark/examples/ml/VectorIndexerExample.scala\n",
            "spark-3.1.2-bin-hadoop3.2/examples/src/main/scala/org/apache/spark/examples/ml/VectorAssemblerExample.scala\n",
            "spark-3.1.2-bin-hadoop3.2/examples/src/main/scala/org/apache/spark/examples/ml/VarianceThresholdSelectorExample.scala\n",
            "spark-3.1.2-bin-hadoop3.2/examples/src/main/scala/org/apache/spark/examples/ml/UnivariateFeatureSelectorExample.scala\n",
            "spark-3.1.2-bin-hadoop3.2/examples/src/main/scala/org/apache/spark/examples/ml/UnaryTransformerExample.scala\n",
            "spark-3.1.2-bin-hadoop3.2/examples/src/main/scala/org/apache/spark/examples/ml/TokenizerExample.scala\n",
            "spark-3.1.2-bin-hadoop3.2/examples/src/main/scala/org/apache/spark/examples/ml/TfIdfExample.scala\n",
            "spark-3.1.2-bin-hadoop3.2/examples/src/main/scala/org/apache/spark/examples/ml/SummarizerExample.scala\n",
            "spark-3.1.2-bin-hadoop3.2/examples/src/main/scala/org/apache/spark/examples/ml/StringIndexerExample.scala\n",
            "spark-3.1.2-bin-hadoop3.2/examples/src/main/scala/org/apache/spark/examples/ml/StopWordsRemoverExample.scala\n",
            "spark-3.1.2-bin-hadoop3.2/examples/src/main/scala/org/apache/spark/examples/ml/StandardScalerExample.scala\n",
            "spark-3.1.2-bin-hadoop3.2/examples/src/main/scala/org/apache/spark/examples/ml/SQLTransformerExample.scala\n",
            "spark-3.1.2-bin-hadoop3.2/examples/src/main/scala/org/apache/spark/examples/ml/RobustScalerExample.scala\n",
            "spark-3.1.2-bin-hadoop3.2/examples/src/main/scala/org/apache/spark/examples/ml/RandomForestRegressorExample.scala\n",
            "spark-3.1.2-bin-hadoop3.2/examples/src/main/scala/org/apache/spark/examples/ml/RandomForestExample.scala\n",
            "spark-3.1.2-bin-hadoop3.2/examples/src/main/scala/org/apache/spark/examples/ml/RandomForestClassifierExample.scala\n",
            "spark-3.1.2-bin-hadoop3.2/examples/src/main/scala/org/apache/spark/examples/ml/RFormulaExample.scala\n",
            "spark-3.1.2-bin-hadoop3.2/examples/src/main/scala/org/apache/spark/examples/ml/QuantileDiscretizerExample.scala\n",
            "spark-3.1.2-bin-hadoop3.2/examples/src/main/scala/org/apache/spark/examples/ml/PrefixSpanExample.scala\n",
            "spark-3.1.2-bin-hadoop3.2/examples/src/main/scala/org/apache/spark/examples/ml/PowerIterationClusteringExample.scala\n",
            "spark-3.1.2-bin-hadoop3.2/examples/src/main/scala/org/apache/spark/examples/ml/PolynomialExpansionExample.scala\n",
            "spark-3.1.2-bin-hadoop3.2/examples/src/main/scala/org/apache/spark/examples/ml/PipelineExample.scala\n",
            "spark-3.1.2-bin-hadoop3.2/examples/src/main/scala/org/apache/spark/examples/ml/PCAExample.scala\n",
            "spark-3.1.2-bin-hadoop3.2/examples/src/main/scala/org/apache/spark/examples/ml/OneVsRestExample.scala\n",
            "spark-3.1.2-bin-hadoop3.2/examples/src/main/scala/org/apache/spark/examples/ml/OneHotEncoderExample.scala\n",
            "spark-3.1.2-bin-hadoop3.2/examples/src/main/scala/org/apache/spark/examples/ml/NormalizerExample.scala\n",
            "spark-3.1.2-bin-hadoop3.2/examples/src/main/scala/org/apache/spark/examples/ml/NaiveBayesExample.scala\n",
            "spark-3.1.2-bin-hadoop3.2/examples/src/main/scala/org/apache/spark/examples/ml/NGramExample.scala\n",
            "spark-3.1.2-bin-hadoop3.2/examples/src/main/scala/org/apache/spark/examples/ml/MultilayerPerceptronClassifierExample.scala\n",
            "spark-3.1.2-bin-hadoop3.2/examples/src/main/scala/org/apache/spark/examples/ml/MulticlassLogisticRegressionWithElasticNetExample.scala\n",
            "spark-3.1.2-bin-hadoop3.2/examples/src/main/scala/org/apache/spark/examples/ml/ModelSelectionViaTrainValidationSplitExample.scala\n",
            "spark-3.1.2-bin-hadoop3.2/examples/src/main/scala/org/apache/spark/examples/ml/ModelSelectionViaCrossValidationExample.scala\n",
            "spark-3.1.2-bin-hadoop3.2/examples/src/main/scala/org/apache/spark/examples/ml/MinMaxScalerExample.scala\n",
            "spark-3.1.2-bin-hadoop3.2/examples/src/main/scala/org/apache/spark/examples/ml/MinHashLSHExample.scala\n",
            "spark-3.1.2-bin-hadoop3.2/examples/src/main/scala/org/apache/spark/examples/ml/MaxAbsScalerExample.scala\n",
            "spark-3.1.2-bin-hadoop3.2/examples/src/main/scala/org/apache/spark/examples/ml/LogisticRegressionWithElasticNetExample.scala\n",
            "spark-3.1.2-bin-hadoop3.2/examples/src/main/scala/org/apache/spark/examples/ml/LogisticRegressionSummaryExample.scala\n",
            "spark-3.1.2-bin-hadoop3.2/examples/src/main/scala/org/apache/spark/examples/ml/LogisticRegressionExample.scala\n",
            "spark-3.1.2-bin-hadoop3.2/examples/src/main/scala/org/apache/spark/examples/ml/LinearSVCExample.scala\n",
            "spark-3.1.2-bin-hadoop3.2/examples/src/main/scala/org/apache/spark/examples/ml/LinearRegressionWithElasticNetExample.scala\n",
            "spark-3.1.2-bin-hadoop3.2/examples/src/main/scala/org/apache/spark/examples/ml/LinearRegressionExample.scala\n",
            "spark-3.1.2-bin-hadoop3.2/examples/src/main/scala/org/apache/spark/examples/ml/LDAExample.scala\n",
            "spark-3.1.2-bin-hadoop3.2/examples/src/main/scala/org/apache/spark/examples/ml/KMeansExample.scala\n",
            "spark-3.1.2-bin-hadoop3.2/examples/src/main/scala/org/apache/spark/examples/ml/IsotonicRegressionExample.scala\n",
            "spark-3.1.2-bin-hadoop3.2/examples/src/main/scala/org/apache/spark/examples/ml/InteractionExample.scala\n",
            "spark-3.1.2-bin-hadoop3.2/examples/src/main/scala/org/apache/spark/examples/ml/IndexToStringExample.scala\n",
            "spark-3.1.2-bin-hadoop3.2/examples/src/main/scala/org/apache/spark/examples/ml/ImputerExample.scala\n",
            "spark-3.1.2-bin-hadoop3.2/examples/src/main/scala/org/apache/spark/examples/ml/GradientBoostedTreeRegressorExample.scala\n",
            "spark-3.1.2-bin-hadoop3.2/examples/src/main/scala/org/apache/spark/examples/ml/GradientBoostedTreeClassifierExample.scala\n",
            "spark-3.1.2-bin-hadoop3.2/examples/src/main/scala/org/apache/spark/examples/ml/GeneralizedLinearRegressionExample.scala\n",
            "spark-3.1.2-bin-hadoop3.2/examples/src/main/scala/org/apache/spark/examples/ml/GaussianMixtureExample.scala\n",
            "spark-3.1.2-bin-hadoop3.2/examples/src/main/scala/org/apache/spark/examples/ml/GBTExample.scala\n",
            "spark-3.1.2-bin-hadoop3.2/examples/src/main/scala/org/apache/spark/examples/ml/FeatureHasherExample.scala\n",
            "spark-3.1.2-bin-hadoop3.2/examples/src/main/scala/org/apache/spark/examples/ml/FPGrowthExample.scala\n",
            "spark-3.1.2-bin-hadoop3.2/examples/src/main/scala/org/apache/spark/examples/ml/FMRegressorExample.scala\n",
            "spark-3.1.2-bin-hadoop3.2/examples/src/main/scala/org/apache/spark/examples/ml/FMClassifierExample.scala\n",
            "spark-3.1.2-bin-hadoop3.2/examples/src/main/scala/org/apache/spark/examples/ml/EstimatorTransformerParamExample.scala\n",
            "spark-3.1.2-bin-hadoop3.2/examples/src/main/scala/org/apache/spark/examples/ml/ElementwiseProductExample.scala\n",
            "spark-3.1.2-bin-hadoop3.2/examples/src/main/scala/org/apache/spark/examples/ml/DeveloperApiExample.scala\n",
            "spark-3.1.2-bin-hadoop3.2/examples/src/main/scala/org/apache/spark/examples/ml/DecisionTreeRegressionExample.scala\n",
            "spark-3.1.2-bin-hadoop3.2/examples/src/main/scala/org/apache/spark/examples/ml/DecisionTreeExample.scala\n",
            "spark-3.1.2-bin-hadoop3.2/examples/src/main/scala/org/apache/spark/examples/ml/DecisionTreeClassificationExample.scala\n",
            "spark-3.1.2-bin-hadoop3.2/examples/src/main/scala/org/apache/spark/examples/ml/DataFrameExample.scala\n",
            "spark-3.1.2-bin-hadoop3.2/examples/src/main/scala/org/apache/spark/examples/ml/DCTExample.scala\n",
            "spark-3.1.2-bin-hadoop3.2/examples/src/main/scala/org/apache/spark/examples/ml/CountVectorizerExample.scala\n",
            "spark-3.1.2-bin-hadoop3.2/examples/src/main/scala/org/apache/spark/examples/ml/CorrelationExample.scala\n",
            "spark-3.1.2-bin-hadoop3.2/examples/src/main/scala/org/apache/spark/examples/ml/ChiSquareTestExample.scala\n",
            "spark-3.1.2-bin-hadoop3.2/examples/src/main/scala/org/apache/spark/examples/ml/ChiSqSelectorExample.scala\n",
            "spark-3.1.2-bin-hadoop3.2/examples/src/main/scala/org/apache/spark/examples/ml/BucketizerExample.scala\n",
            "spark-3.1.2-bin-hadoop3.2/examples/src/main/scala/org/apache/spark/examples/ml/BucketedRandomProjectionLSHExample.scala\n",
            "spark-3.1.2-bin-hadoop3.2/examples/src/main/scala/org/apache/spark/examples/ml/BisectingKMeansExample.scala\n",
            "spark-3.1.2-bin-hadoop3.2/examples/src/main/scala/org/apache/spark/examples/ml/BinarizerExample.scala\n",
            "spark-3.1.2-bin-hadoop3.2/examples/src/main/scala/org/apache/spark/examples/ml/ALSExample.scala\n",
            "spark-3.1.2-bin-hadoop3.2/examples/src/main/scala/org/apache/spark/examples/ml/AFTSurvivalRegressionExample.scala\n",
            "spark-3.1.2-bin-hadoop3.2/examples/src/main/scala/org/apache/spark/examples/graphx/\n",
            "spark-3.1.2-bin-hadoop3.2/examples/src/main/scala/org/apache/spark/examples/graphx/TriangleCountingExample.scala\n",
            "spark-3.1.2-bin-hadoop3.2/examples/src/main/scala/org/apache/spark/examples/graphx/SynthBenchmark.scala\n",
            "spark-3.1.2-bin-hadoop3.2/examples/src/main/scala/org/apache/spark/examples/graphx/SSSPExample.scala\n",
            "spark-3.1.2-bin-hadoop3.2/examples/src/main/scala/org/apache/spark/examples/graphx/PageRankExample.scala\n",
            "spark-3.1.2-bin-hadoop3.2/examples/src/main/scala/org/apache/spark/examples/graphx/LiveJournalPageRank.scala\n",
            "spark-3.1.2-bin-hadoop3.2/examples/src/main/scala/org/apache/spark/examples/graphx/ConnectedComponentsExample.scala\n",
            "spark-3.1.2-bin-hadoop3.2/examples/src/main/scala/org/apache/spark/examples/graphx/ComprehensiveExample.scala\n",
            "spark-3.1.2-bin-hadoop3.2/examples/src/main/scala/org/apache/spark/examples/graphx/Analytics.scala\n",
            "spark-3.1.2-bin-hadoop3.2/examples/src/main/scala/org/apache/spark/examples/graphx/AggregateMessagesExample.scala\n",
            "spark-3.1.2-bin-hadoop3.2/examples/src/main/scala/org/apache/spark/examples/SparkTC.scala\n",
            "spark-3.1.2-bin-hadoop3.2/examples/src/main/scala/org/apache/spark/examples/SparkRemoteFileTest.scala\n",
            "spark-3.1.2-bin-hadoop3.2/examples/src/main/scala/org/apache/spark/examples/SparkPi.scala\n",
            "spark-3.1.2-bin-hadoop3.2/examples/src/main/scala/org/apache/spark/examples/SparkPageRank.scala\n",
            "spark-3.1.2-bin-hadoop3.2/examples/src/main/scala/org/apache/spark/examples/SparkLR.scala\n",
            "spark-3.1.2-bin-hadoop3.2/examples/src/main/scala/org/apache/spark/examples/SparkKMeans.scala\n",
            "spark-3.1.2-bin-hadoop3.2/examples/src/main/scala/org/apache/spark/examples/SparkHdfsLR.scala\n",
            "spark-3.1.2-bin-hadoop3.2/examples/src/main/scala/org/apache/spark/examples/SparkALS.scala\n",
            "spark-3.1.2-bin-hadoop3.2/examples/src/main/scala/org/apache/spark/examples/SkewedGroupByTest.scala\n",
            "spark-3.1.2-bin-hadoop3.2/examples/src/main/scala/org/apache/spark/examples/SimpleSkewedGroupByTest.scala\n",
            "spark-3.1.2-bin-hadoop3.2/examples/src/main/scala/org/apache/spark/examples/MultiBroadcastTest.scala\n",
            "spark-3.1.2-bin-hadoop3.2/examples/src/main/scala/org/apache/spark/examples/LogQuery.scala\n",
            "spark-3.1.2-bin-hadoop3.2/examples/src/main/scala/org/apache/spark/examples/LocalPi.scala\n",
            "spark-3.1.2-bin-hadoop3.2/examples/src/main/scala/org/apache/spark/examples/LocalLR.scala\n",
            "spark-3.1.2-bin-hadoop3.2/examples/src/main/scala/org/apache/spark/examples/LocalFileLR.scala\n",
            "spark-3.1.2-bin-hadoop3.2/examples/src/main/scala/org/apache/spark/examples/LocalALS.scala\n",
            "spark-3.1.2-bin-hadoop3.2/examples/src/main/scala/org/apache/spark/examples/HdfsTest.scala\n",
            "spark-3.1.2-bin-hadoop3.2/examples/src/main/scala/org/apache/spark/examples/GroupByTest.scala\n",
            "spark-3.1.2-bin-hadoop3.2/examples/src/main/scala/org/apache/spark/examples/ExceptionHandlingTest.scala\n",
            "spark-3.1.2-bin-hadoop3.2/examples/src/main/scala/org/apache/spark/examples/LocalKMeans.scala\n",
            "spark-3.1.2-bin-hadoop3.2/examples/src/main/scala/org/apache/spark/examples/DriverSubmissionTest.scala\n",
            "spark-3.1.2-bin-hadoop3.2/examples/src/main/scala/org/apache/spark/examples/DFSReadWriteTest.scala\n",
            "spark-3.1.2-bin-hadoop3.2/examples/src/main/scala/org/apache/spark/examples/BroadcastTest.scala\n",
            "spark-3.1.2-bin-hadoop3.2/examples/src/main/scala/org/apache/spark/examples/AccumulatorMetricsTest.scala\n",
            "spark-3.1.2-bin-hadoop3.2/examples/src/main/scala/org/apache/spark/examples/streaming/\n",
            "spark-3.1.2-bin-hadoop3.2/examples/src/main/scala/org/apache/spark/examples/streaming/clickstream/\n",
            "spark-3.1.2-bin-hadoop3.2/examples/src/main/scala/org/apache/spark/examples/streaming/clickstream/PageViewStream.scala\n",
            "spark-3.1.2-bin-hadoop3.2/examples/src/main/scala/org/apache/spark/examples/streaming/clickstream/PageViewGenerator.scala\n",
            "spark-3.1.2-bin-hadoop3.2/examples/src/main/scala/org/apache/spark/examples/streaming/StreamingExamples.scala\n",
            "spark-3.1.2-bin-hadoop3.2/examples/src/main/scala/org/apache/spark/examples/streaming/StatefulNetworkWordCount.scala\n",
            "spark-3.1.2-bin-hadoop3.2/examples/src/main/scala/org/apache/spark/examples/streaming/SqlNetworkWordCount.scala\n",
            "spark-3.1.2-bin-hadoop3.2/examples/src/main/scala/org/apache/spark/examples/streaming/RecoverableNetworkWordCount.scala\n",
            "spark-3.1.2-bin-hadoop3.2/examples/src/main/scala/org/apache/spark/examples/streaming/RawNetworkGrep.scala\n",
            "spark-3.1.2-bin-hadoop3.2/examples/src/main/scala/org/apache/spark/examples/streaming/QueueStream.scala\n",
            "spark-3.1.2-bin-hadoop3.2/examples/src/main/scala/org/apache/spark/examples/streaming/NetworkWordCount.scala\n",
            "spark-3.1.2-bin-hadoop3.2/examples/src/main/scala/org/apache/spark/examples/streaming/HdfsWordCount.scala\n",
            "spark-3.1.2-bin-hadoop3.2/examples/src/main/scala/org/apache/spark/examples/streaming/DirectKerberizedKafkaWordCount.scala\n",
            "spark-3.1.2-bin-hadoop3.2/examples/src/main/scala/org/apache/spark/examples/streaming/DirectKafkaWordCount.scala\n",
            "spark-3.1.2-bin-hadoop3.2/examples/src/main/scala/org/apache/spark/examples/streaming/CustomReceiver.scala\n",
            "spark-3.1.2-bin-hadoop3.2/examples/src/main/scala/org/apache/spark/examples/sql/\n",
            "spark-3.1.2-bin-hadoop3.2/examples/src/main/scala/org/apache/spark/examples/sql/streaming/\n",
            "spark-3.1.2-bin-hadoop3.2/examples/src/main/scala/org/apache/spark/examples/sql/streaming/StructuredSessionization.scala\n",
            "spark-3.1.2-bin-hadoop3.2/examples/src/main/scala/org/apache/spark/examples/sql/streaming/StructuredNetworkWordCountWindowed.scala\n",
            "spark-3.1.2-bin-hadoop3.2/examples/src/main/scala/org/apache/spark/examples/sql/streaming/StructuredNetworkWordCount.scala\n",
            "spark-3.1.2-bin-hadoop3.2/examples/src/main/scala/org/apache/spark/examples/sql/streaming/StructuredKerberizedKafkaWordCount.scala\n",
            "spark-3.1.2-bin-hadoop3.2/examples/src/main/scala/org/apache/spark/examples/sql/streaming/StructuredKafkaWordCount.scala\n",
            "spark-3.1.2-bin-hadoop3.2/examples/src/main/scala/org/apache/spark/examples/sql/hive/\n",
            "spark-3.1.2-bin-hadoop3.2/examples/src/main/scala/org/apache/spark/examples/sql/hive/SparkHiveExample.scala\n",
            "spark-3.1.2-bin-hadoop3.2/examples/src/main/scala/org/apache/spark/examples/sql/UserDefinedUntypedAggregation.scala\n",
            "spark-3.1.2-bin-hadoop3.2/examples/src/main/scala/org/apache/spark/examples/sql/UserDefinedTypedAggregation.scala\n",
            "spark-3.1.2-bin-hadoop3.2/examples/src/main/scala/org/apache/spark/examples/sql/UserDefinedScalar.scala\n",
            "spark-3.1.2-bin-hadoop3.2/examples/src/main/scala/org/apache/spark/examples/sql/SparkSQLExample.scala\n",
            "spark-3.1.2-bin-hadoop3.2/examples/src/main/scala/org/apache/spark/examples/sql/RDDRelation.scala\n",
            "spark-3.1.2-bin-hadoop3.2/examples/src/main/scala/org/apache/spark/examples/sql/SimpleTypedAggregator.scala\n",
            "spark-3.1.2-bin-hadoop3.2/examples/src/main/scala/org/apache/spark/examples/sql/SQLDataSourceExample.scala\n",
            "spark-3.1.2-bin-hadoop3.2/examples/src/main/scala/org/apache/spark/examples/pythonconverters/\n",
            "spark-3.1.2-bin-hadoop3.2/examples/src/main/scala/org/apache/spark/examples/pythonconverters/AvroConverters.scala\n",
            "spark-3.1.2-bin-hadoop3.2/examples/src/main/resources/\n",
            "spark-3.1.2-bin-hadoop3.2/examples/src/main/resources/users.parquet\n",
            "spark-3.1.2-bin-hadoop3.2/examples/src/main/resources/users.orc\n",
            "spark-3.1.2-bin-hadoop3.2/examples/src/main/resources/users.avro\n",
            "spark-3.1.2-bin-hadoop3.2/examples/src/main/resources/user.avsc\n",
            "spark-3.1.2-bin-hadoop3.2/examples/src/main/resources/people.txt\n",
            "spark-3.1.2-bin-hadoop3.2/examples/src/main/resources/people.json\n",
            "spark-3.1.2-bin-hadoop3.2/examples/src/main/resources/people.csv\n",
            "spark-3.1.2-bin-hadoop3.2/examples/src/main/resources/kv1.txt\n",
            "spark-3.1.2-bin-hadoop3.2/examples/src/main/resources/full_user.avsc\n",
            "spark-3.1.2-bin-hadoop3.2/examples/src/main/resources/employees.json\n",
            "spark-3.1.2-bin-hadoop3.2/examples/src/main/resources/dir1/\n",
            "spark-3.1.2-bin-hadoop3.2/examples/src/main/resources/dir1/file3.json\n",
            "spark-3.1.2-bin-hadoop3.2/examples/src/main/resources/dir1/file1.parquet\n",
            "spark-3.1.2-bin-hadoop3.2/examples/src/main/resources/dir1/dir2/\n",
            "spark-3.1.2-bin-hadoop3.2/examples/src/main/resources/dir1/dir2/file2.parquet\n",
            "spark-3.1.2-bin-hadoop3.2/examples/src/main/r/\n",
            "spark-3.1.2-bin-hadoop3.2/examples/src/main/r/streaming/\n",
            "spark-3.1.2-bin-hadoop3.2/examples/src/main/r/streaming/structured_network_wordcount.R\n",
            "spark-3.1.2-bin-hadoop3.2/examples/src/main/r/ml/\n",
            "spark-3.1.2-bin-hadoop3.2/examples/src/main/r/ml/svmLinear.R\n",
            "spark-3.1.2-bin-hadoop3.2/examples/src/main/r/ml/survreg.R\n",
            "spark-3.1.2-bin-hadoop3.2/examples/src/main/r/ml/randomForest.R\n",
            "spark-3.1.2-bin-hadoop3.2/examples/src/main/r/ml/prefixSpan.R\n",
            "spark-3.1.2-bin-hadoop3.2/examples/src/main/r/ml/powerIterationClustering.R\n",
            "spark-3.1.2-bin-hadoop3.2/examples/src/main/r/ml/naiveBayes.R\n",
            "spark-3.1.2-bin-hadoop3.2/examples/src/main/r/ml/mlp.R\n",
            "spark-3.1.2-bin-hadoop3.2/examples/src/main/r/ml/ml.R\n",
            "spark-3.1.2-bin-hadoop3.2/examples/src/main/r/ml/logit.R\n",
            "spark-3.1.2-bin-hadoop3.2/examples/src/main/r/ml/lm_with_elastic_net.R\n",
            "spark-3.1.2-bin-hadoop3.2/examples/src/main/r/ml/lda.R\n",
            "spark-3.1.2-bin-hadoop3.2/examples/src/main/r/ml/kstest.R\n",
            "spark-3.1.2-bin-hadoop3.2/examples/src/main/r/ml/kmeans.R\n",
            "spark-3.1.2-bin-hadoop3.2/examples/src/main/r/ml/isoreg.R\n",
            "spark-3.1.2-bin-hadoop3.2/examples/src/main/r/ml/glm.R\n",
            "spark-3.1.2-bin-hadoop3.2/examples/src/main/r/ml/gbt.R\n",
            "spark-3.1.2-bin-hadoop3.2/examples/src/main/r/ml/gaussianMixture.R\n",
            "spark-3.1.2-bin-hadoop3.2/examples/src/main/r/ml/fpm.R\n",
            "spark-3.1.2-bin-hadoop3.2/examples/src/main/r/ml/fmRegressor.R\n",
            "spark-3.1.2-bin-hadoop3.2/examples/src/main/r/ml/fmClassifier.R\n",
            "spark-3.1.2-bin-hadoop3.2/examples/src/main/r/ml/decisionTree.R\n",
            "spark-3.1.2-bin-hadoop3.2/examples/src/main/r/ml/bisectingKmeans.R\n",
            "spark-3.1.2-bin-hadoop3.2/examples/src/main/r/ml/als.R\n",
            "spark-3.1.2-bin-hadoop3.2/examples/src/main/r/dataframe.R\n",
            "spark-3.1.2-bin-hadoop3.2/examples/src/main/r/data-manipulation.R\n",
            "spark-3.1.2-bin-hadoop3.2/examples/src/main/r/RSparkSQLExample.R\n",
            "spark-3.1.2-bin-hadoop3.2/examples/src/main/python/\n",
            "spark-3.1.2-bin-hadoop3.2/examples/src/main/python/wordcount.py\n",
            "spark-3.1.2-bin-hadoop3.2/examples/src/main/python/transitive_closure.py\n",
            "spark-3.1.2-bin-hadoop3.2/examples/src/main/python/streaming/\n",
            "spark-3.1.2-bin-hadoop3.2/examples/src/main/python/streaming/stateful_network_wordcount.py\n",
            "spark-3.1.2-bin-hadoop3.2/examples/src/main/python/streaming/sql_network_wordcount.py\n",
            "spark-3.1.2-bin-hadoop3.2/examples/src/main/python/streaming/recoverable_network_wordcount.py\n",
            "spark-3.1.2-bin-hadoop3.2/examples/src/main/python/streaming/queue_stream.py\n",
            "spark-3.1.2-bin-hadoop3.2/examples/src/main/python/streaming/network_wordjoinsentiments.py\n",
            "spark-3.1.2-bin-hadoop3.2/examples/src/main/python/streaming/network_wordcount.py\n",
            "spark-3.1.2-bin-hadoop3.2/examples/src/main/python/streaming/hdfs_wordcount.py\n",
            "spark-3.1.2-bin-hadoop3.2/examples/src/main/python/status_api_demo.py\n",
            "spark-3.1.2-bin-hadoop3.2/examples/src/main/python/sql/\n",
            "spark-3.1.2-bin-hadoop3.2/examples/src/main/python/sql/streaming/\n",
            "spark-3.1.2-bin-hadoop3.2/examples/src/main/python/sql/streaming/structured_network_wordcount_windowed.py\n",
            "spark-3.1.2-bin-hadoop3.2/examples/src/main/python/sql/streaming/structured_network_wordcount.py\n",
            "spark-3.1.2-bin-hadoop3.2/examples/src/main/python/sql/streaming/structured_kafka_wordcount.py\n",
            "spark-3.1.2-bin-hadoop3.2/examples/src/main/python/sql/hive.py\n",
            "spark-3.1.2-bin-hadoop3.2/examples/src/main/python/sql/basic.py\n",
            "spark-3.1.2-bin-hadoop3.2/examples/src/main/python/sql/arrow.py\n",
            "spark-3.1.2-bin-hadoop3.2/examples/src/main/python/sql/datasource.py\n",
            "spark-3.1.2-bin-hadoop3.2/examples/src/main/python/sort.py\n",
            "spark-3.1.2-bin-hadoop3.2/examples/src/main/python/pi.py\n",
            "spark-3.1.2-bin-hadoop3.2/examples/src/main/python/parquet_inputformat.py\n",
            "spark-3.1.2-bin-hadoop3.2/examples/src/main/python/pagerank.py\n",
            "spark-3.1.2-bin-hadoop3.2/examples/src/main/python/mllib/\n",
            "spark-3.1.2-bin-hadoop3.2/examples/src/main/python/mllib/word2vec_example.py\n",
            "spark-3.1.2-bin-hadoop3.2/examples/src/main/python/mllib/word2vec.py\n",
            "spark-3.1.2-bin-hadoop3.2/examples/src/main/python/mllib/tf_idf_example.py\n",
            "spark-3.1.2-bin-hadoop3.2/examples/src/main/python/mllib/svm_with_sgd_example.py\n",
            "spark-3.1.2-bin-hadoop3.2/examples/src/main/python/mllib/svd_example.py\n",
            "spark-3.1.2-bin-hadoop3.2/examples/src/main/python/mllib/summary_statistics_example.py\n",
            "spark-3.1.2-bin-hadoop3.2/examples/src/main/python/mllib/streaming_linear_regression_example.py\n",
            "spark-3.1.2-bin-hadoop3.2/examples/src/main/python/mllib/streaming_k_means_example.py\n",
            "spark-3.1.2-bin-hadoop3.2/examples/src/main/python/mllib/stratified_sampling_example.py\n",
            "spark-3.1.2-bin-hadoop3.2/examples/src/main/python/mllib/standard_scaler_example.py\n",
            "spark-3.1.2-bin-hadoop3.2/examples/src/main/python/mllib/sampled_rdds.py\n",
            "spark-3.1.2-bin-hadoop3.2/examples/src/main/python/mllib/regression_metrics_example.py\n",
            "spark-3.1.2-bin-hadoop3.2/examples/src/main/python/mllib/recommendation_example.py\n",
            "spark-3.1.2-bin-hadoop3.2/examples/src/main/python/mllib/ranking_metrics_example.py\n",
            "spark-3.1.2-bin-hadoop3.2/examples/src/main/python/mllib/random_rdd_generation.py\n",
            "spark-3.1.2-bin-hadoop3.2/examples/src/main/python/mllib/random_forest_regression_example.py\n",
            "spark-3.1.2-bin-hadoop3.2/examples/src/main/python/mllib/random_forest_classification_example.py\n",
            "spark-3.1.2-bin-hadoop3.2/examples/src/main/python/mllib/power_iteration_clustering_example.py\n",
            "spark-3.1.2-bin-hadoop3.2/examples/src/main/python/mllib/pca_rowmatrix_example.py\n",
            "spark-3.1.2-bin-hadoop3.2/examples/src/main/python/mllib/normalizer_example.py\n",
            "spark-3.1.2-bin-hadoop3.2/examples/src/main/python/mllib/naive_bayes_example.py\n",
            "spark-3.1.2-bin-hadoop3.2/examples/src/main/python/mllib/multi_label_metrics_example.py\n",
            "spark-3.1.2-bin-hadoop3.2/examples/src/main/python/mllib/multi_class_metrics_example.py\n",
            "spark-3.1.2-bin-hadoop3.2/examples/src/main/python/mllib/logistic_regression_with_lbfgs_example.py\n",
            "spark-3.1.2-bin-hadoop3.2/examples/src/main/python/mllib/logistic_regression.py\n",
            "spark-3.1.2-bin-hadoop3.2/examples/src/main/python/mllib/linear_regression_with_sgd_example.py\n",
            "spark-3.1.2-bin-hadoop3.2/examples/src/main/python/mllib/latent_dirichlet_allocation_example.py\n",
            "spark-3.1.2-bin-hadoop3.2/examples/src/main/python/mllib/kmeans.py\n",
            "spark-3.1.2-bin-hadoop3.2/examples/src/main/python/mllib/kernel_density_estimation_example.py\n",
            "spark-3.1.2-bin-hadoop3.2/examples/src/main/python/mllib/k_means_example.py\n",
            "spark-3.1.2-bin-hadoop3.2/examples/src/main/python/mllib/isotonic_regression_example.py\n",
            "spark-3.1.2-bin-hadoop3.2/examples/src/main/python/mllib/hypothesis_testing_kolmogorov_smirnov_test_example.py\n",
            "spark-3.1.2-bin-hadoop3.2/examples/src/main/python/mllib/hypothesis_testing_example.py\n",
            "spark-3.1.2-bin-hadoop3.2/examples/src/main/python/mllib/gradient_boosting_regression_example.py\n",
            "spark-3.1.2-bin-hadoop3.2/examples/src/main/python/mllib/gradient_boosting_classification_example.py\n",
            "spark-3.1.2-bin-hadoop3.2/examples/src/main/python/mllib/gaussian_mixture_model.py\n",
            "spark-3.1.2-bin-hadoop3.2/examples/src/main/python/mllib/gaussian_mixture_example.py\n",
            "spark-3.1.2-bin-hadoop3.2/examples/src/main/python/mllib/fpgrowth_example.py\n",
            "spark-3.1.2-bin-hadoop3.2/examples/src/main/python/mllib/elementwise_product_example.py\n",
            "spark-3.1.2-bin-hadoop3.2/examples/src/main/python/mllib/decision_tree_regression_example.py\n",
            "spark-3.1.2-bin-hadoop3.2/examples/src/main/python/mllib/decision_tree_classification_example.py\n",
            "spark-3.1.2-bin-hadoop3.2/examples/src/main/python/mllib/correlations_example.py\n",
            "spark-3.1.2-bin-hadoop3.2/examples/src/main/python/mllib/correlations.py\n",
            "spark-3.1.2-bin-hadoop3.2/examples/src/main/python/mllib/bisecting_k_means_example.py\n",
            "spark-3.1.2-bin-hadoop3.2/examples/src/main/python/mllib/binary_classification_metrics_example.py\n",
            "spark-3.1.2-bin-hadoop3.2/examples/src/main/python/ml/\n",
            "spark-3.1.2-bin-hadoop3.2/examples/src/main/python/ml/word2vec_example.py\n",
            "spark-3.1.2-bin-hadoop3.2/examples/src/main/python/ml/vector_slicer_example.py\n",
            "spark-3.1.2-bin-hadoop3.2/examples/src/main/python/ml/vector_size_hint_example.py\n",
            "spark-3.1.2-bin-hadoop3.2/examples/src/main/python/ml/vector_indexer_example.py\n",
            "spark-3.1.2-bin-hadoop3.2/examples/src/main/python/ml/vector_assembler_example.py\n",
            "spark-3.1.2-bin-hadoop3.2/examples/src/main/python/ml/variance_threshold_selector_example.py\n",
            "spark-3.1.2-bin-hadoop3.2/examples/src/main/python/ml/univariate_feature_selector_example.py\n",
            "spark-3.1.2-bin-hadoop3.2/examples/src/main/python/ml/train_validation_split.py\n",
            "spark-3.1.2-bin-hadoop3.2/examples/src/main/python/ml/tokenizer_example.py\n",
            "spark-3.1.2-bin-hadoop3.2/examples/src/main/python/ml/tf_idf_example.py\n",
            "spark-3.1.2-bin-hadoop3.2/examples/src/main/python/ml/summarizer_example.py\n",
            "spark-3.1.2-bin-hadoop3.2/examples/src/main/python/ml/string_indexer_example.py\n",
            "spark-3.1.2-bin-hadoop3.2/examples/src/main/python/ml/stopwords_remover_example.py\n",
            "spark-3.1.2-bin-hadoop3.2/examples/src/main/python/ml/standard_scaler_example.py\n",
            "spark-3.1.2-bin-hadoop3.2/examples/src/main/python/ml/sql_transformer.py\n",
            "spark-3.1.2-bin-hadoop3.2/examples/src/main/python/ml/robust_scaler_example.py\n",
            "spark-3.1.2-bin-hadoop3.2/examples/src/main/python/ml/rformula_example.py\n",
            "spark-3.1.2-bin-hadoop3.2/examples/src/main/python/ml/random_forest_regressor_example.py\n",
            "spark-3.1.2-bin-hadoop3.2/examples/src/main/python/ml/random_forest_classifier_example.py\n",
            "spark-3.1.2-bin-hadoop3.2/examples/src/main/python/ml/quantile_discretizer_example.py\n",
            "spark-3.1.2-bin-hadoop3.2/examples/src/main/python/ml/prefixspan_example.py\n",
            "spark-3.1.2-bin-hadoop3.2/examples/src/main/python/ml/power_iteration_clustering_example.py\n",
            "spark-3.1.2-bin-hadoop3.2/examples/src/main/python/ml/polynomial_expansion_example.py\n",
            "spark-3.1.2-bin-hadoop3.2/examples/src/main/python/ml/pipeline_example.py\n",
            "spark-3.1.2-bin-hadoop3.2/examples/src/main/python/ml/pca_example.py\n",
            "spark-3.1.2-bin-hadoop3.2/examples/src/main/python/ml/onehot_encoder_example.py\n",
            "spark-3.1.2-bin-hadoop3.2/examples/src/main/python/ml/one_vs_rest_example.py\n",
            "spark-3.1.2-bin-hadoop3.2/examples/src/main/python/ml/normalizer_example.py\n",
            "spark-3.1.2-bin-hadoop3.2/examples/src/main/python/ml/naive_bayes_example.py\n",
            "spark-3.1.2-bin-hadoop3.2/examples/src/main/python/ml/n_gram_example.py\n",
            "spark-3.1.2-bin-hadoop3.2/examples/src/main/python/ml/multilayer_perceptron_classification.py\n",
            "spark-3.1.2-bin-hadoop3.2/examples/src/main/python/ml/multiclass_logistic_regression_with_elastic_net.py\n",
            "spark-3.1.2-bin-hadoop3.2/examples/src/main/python/ml/min_max_scaler_example.py\n",
            "spark-3.1.2-bin-hadoop3.2/examples/src/main/python/ml/min_hash_lsh_example.py\n",
            "spark-3.1.2-bin-hadoop3.2/examples/src/main/python/ml/max_abs_scaler_example.py\n",
            "spark-3.1.2-bin-hadoop3.2/examples/src/main/python/ml/logistic_regression_with_elastic_net.py\n",
            "spark-3.1.2-bin-hadoop3.2/examples/src/main/python/ml/logistic_regression_summary_example.py\n",
            "spark-3.1.2-bin-hadoop3.2/examples/src/main/python/ml/linearsvc.py\n",
            "spark-3.1.2-bin-hadoop3.2/examples/src/main/python/ml/linear_regression_with_elastic_net.py\n",
            "spark-3.1.2-bin-hadoop3.2/examples/src/main/python/ml/lda_example.py\n",
            "spark-3.1.2-bin-hadoop3.2/examples/src/main/python/ml/kmeans_example.py\n",
            "spark-3.1.2-bin-hadoop3.2/examples/src/main/python/ml/isotonic_regression_example.py\n",
            "spark-3.1.2-bin-hadoop3.2/examples/src/main/python/ml/interaction_example.py\n",
            "spark-3.1.2-bin-hadoop3.2/examples/src/main/python/ml/index_to_string_example.py\n",
            "spark-3.1.2-bin-hadoop3.2/examples/src/main/python/ml/imputer_example.py\n",
            "spark-3.1.2-bin-hadoop3.2/examples/src/main/python/ml/gradient_boosted_tree_regressor_example.py\n",
            "spark-3.1.2-bin-hadoop3.2/examples/src/main/python/ml/gradient_boosted_tree_classifier_example.py\n",
            "spark-3.1.2-bin-hadoop3.2/examples/src/main/python/ml/generalized_linear_regression_example.py\n",
            "spark-3.1.2-bin-hadoop3.2/examples/src/main/python/ml/gaussian_mixture_example.py\n",
            "spark-3.1.2-bin-hadoop3.2/examples/src/main/python/ml/fpgrowth_example.py\n",
            "spark-3.1.2-bin-hadoop3.2/examples/src/main/python/ml/fm_regressor_example.py\n",
            "spark-3.1.2-bin-hadoop3.2/examples/src/main/python/ml/fm_classifier_example.py\n",
            "spark-3.1.2-bin-hadoop3.2/examples/src/main/python/ml/feature_hasher_example.py\n",
            "spark-3.1.2-bin-hadoop3.2/examples/src/main/python/ml/estimator_transformer_param_example.py\n",
            "spark-3.1.2-bin-hadoop3.2/examples/src/main/python/ml/elementwise_product_example.py\n",
            "spark-3.1.2-bin-hadoop3.2/examples/src/main/python/ml/decision_tree_regression_example.py\n",
            "spark-3.1.2-bin-hadoop3.2/examples/src/main/python/ml/decision_tree_classification_example.py\n",
            "spark-3.1.2-bin-hadoop3.2/examples/src/main/python/ml/dct_example.py\n",
            "spark-3.1.2-bin-hadoop3.2/examples/src/main/python/ml/dataframe_example.py\n",
            "spark-3.1.2-bin-hadoop3.2/examples/src/main/python/ml/cross_validator.py\n",
            "spark-3.1.2-bin-hadoop3.2/examples/src/main/python/ml/count_vectorizer_example.py\n",
            "spark-3.1.2-bin-hadoop3.2/examples/src/main/python/ml/correlation_example.py\n",
            "spark-3.1.2-bin-hadoop3.2/examples/src/main/python/ml/chisq_selector_example.py\n",
            "spark-3.1.2-bin-hadoop3.2/examples/src/main/python/ml/chi_square_test_example.py\n",
            "spark-3.1.2-bin-hadoop3.2/examples/src/main/python/ml/bucketizer_example.py\n",
            "spark-3.1.2-bin-hadoop3.2/examples/src/main/python/ml/bucketed_random_projection_lsh_example.py\n",
            "spark-3.1.2-bin-hadoop3.2/examples/src/main/python/ml/bisecting_k_means_example.py\n",
            "spark-3.1.2-bin-hadoop3.2/examples/src/main/python/ml/binarizer_example.py\n",
            "spark-3.1.2-bin-hadoop3.2/examples/src/main/python/ml/als_example.py\n",
            "spark-3.1.2-bin-hadoop3.2/examples/src/main/python/ml/aft_survival_regression.py\n",
            "spark-3.1.2-bin-hadoop3.2/examples/src/main/python/logistic_regression.py\n",
            "spark-3.1.2-bin-hadoop3.2/examples/src/main/python/kmeans.py\n",
            "spark-3.1.2-bin-hadoop3.2/examples/src/main/python/avro_inputformat.py\n",
            "spark-3.1.2-bin-hadoop3.2/examples/src/main/python/als.py\n",
            "spark-3.1.2-bin-hadoop3.2/examples/src/main/scripts/\n",
            "spark-3.1.2-bin-hadoop3.2/examples/src/main/scripts/getGpusResources.sh\n",
            "spark-3.1.2-bin-hadoop3.2/examples/src/main/java/\n",
            "spark-3.1.2-bin-hadoop3.2/examples/src/main/java/org/\n",
            "spark-3.1.2-bin-hadoop3.2/examples/src/main/java/org/apache/\n",
            "spark-3.1.2-bin-hadoop3.2/examples/src/main/java/org/apache/spark/\n",
            "spark-3.1.2-bin-hadoop3.2/examples/src/main/java/org/apache/spark/examples/\n",
            "spark-3.1.2-bin-hadoop3.2/examples/src/main/java/org/apache/spark/examples/streaming/\n",
            "spark-3.1.2-bin-hadoop3.2/examples/src/main/java/org/apache/spark/examples/streaming/JavaStatefulNetworkWordCount.java\n",
            "spark-3.1.2-bin-hadoop3.2/examples/src/main/java/org/apache/spark/examples/streaming/JavaSqlNetworkWordCount.java\n",
            "spark-3.1.2-bin-hadoop3.2/examples/src/main/java/org/apache/spark/examples/streaming/JavaRecoverableNetworkWordCount.java\n",
            "spark-3.1.2-bin-hadoop3.2/examples/src/main/java/org/apache/spark/examples/streaming/JavaRecord.java\n",
            "spark-3.1.2-bin-hadoop3.2/examples/src/main/java/org/apache/spark/examples/streaming/JavaQueueStream.java\n",
            "spark-3.1.2-bin-hadoop3.2/examples/src/main/java/org/apache/spark/examples/streaming/JavaNetworkWordCount.java\n",
            "spark-3.1.2-bin-hadoop3.2/examples/src/main/java/org/apache/spark/examples/streaming/JavaDirectKerberizedKafkaWordCount.java\n",
            "spark-3.1.2-bin-hadoop3.2/examples/src/main/java/org/apache/spark/examples/streaming/JavaDirectKafkaWordCount.java\n",
            "spark-3.1.2-bin-hadoop3.2/examples/src/main/java/org/apache/spark/examples/streaming/JavaCustomReceiver.java\n",
            "spark-3.1.2-bin-hadoop3.2/examples/src/main/java/org/apache/spark/examples/sql/\n",
            "spark-3.1.2-bin-hadoop3.2/examples/src/main/java/org/apache/spark/examples/sql/streaming/\n",
            "spark-3.1.2-bin-hadoop3.2/examples/src/main/java/org/apache/spark/examples/sql/streaming/JavaStructuredSessionization.java\n",
            "spark-3.1.2-bin-hadoop3.2/examples/src/main/java/org/apache/spark/examples/sql/streaming/JavaStructuredNetworkWordCountWindowed.java\n",
            "spark-3.1.2-bin-hadoop3.2/examples/src/main/java/org/apache/spark/examples/sql/streaming/JavaStructuredNetworkWordCount.java\n",
            "spark-3.1.2-bin-hadoop3.2/examples/src/main/java/org/apache/spark/examples/sql/streaming/JavaStructuredKerberizedKafkaWordCount.java\n",
            "spark-3.1.2-bin-hadoop3.2/examples/src/main/java/org/apache/spark/examples/sql/streaming/JavaStructuredKafkaWordCount.java\n",
            "spark-3.1.2-bin-hadoop3.2/examples/src/main/java/org/apache/spark/examples/sql/hive/\n",
            "spark-3.1.2-bin-hadoop3.2/examples/src/main/java/org/apache/spark/examples/sql/hive/JavaSparkHiveExample.java\n",
            "spark-3.1.2-bin-hadoop3.2/examples/src/main/java/org/apache/spark/examples/sql/JavaUserDefinedUntypedAggregation.java\n",
            "spark-3.1.2-bin-hadoop3.2/examples/src/main/java/org/apache/spark/examples/sql/JavaUserDefinedTypedAggregation.java\n",
            "spark-3.1.2-bin-hadoop3.2/examples/src/main/java/org/apache/spark/examples/sql/JavaUserDefinedScalar.java\n",
            "spark-3.1.2-bin-hadoop3.2/examples/src/main/java/org/apache/spark/examples/sql/JavaSparkSQLExample.java\n",
            "spark-3.1.2-bin-hadoop3.2/examples/src/main/java/org/apache/spark/examples/sql/JavaSQLDataSourceExample.java\n",
            "spark-3.1.2-bin-hadoop3.2/examples/src/main/java/org/apache/spark/examples/mllib/\n",
            "spark-3.1.2-bin-hadoop3.2/examples/src/main/java/org/apache/spark/examples/mllib/JavaSummaryStatisticsExample.java\n",
            "spark-3.1.2-bin-hadoop3.2/examples/src/main/java/org/apache/spark/examples/mllib/JavaStreamingTestExample.java\n",
            "spark-3.1.2-bin-hadoop3.2/examples/src/main/java/org/apache/spark/examples/mllib/JavaStratifiedSamplingExample.java\n",
            "spark-3.1.2-bin-hadoop3.2/examples/src/main/java/org/apache/spark/examples/mllib/JavaSimpleFPGrowth.java\n",
            "spark-3.1.2-bin-hadoop3.2/examples/src/main/java/org/apache/spark/examples/mllib/JavaSVMWithSGDExample.java\n",
            "spark-3.1.2-bin-hadoop3.2/examples/src/main/java/org/apache/spark/examples/mllib/JavaSVDExample.java\n",
            "spark-3.1.2-bin-hadoop3.2/examples/src/main/java/org/apache/spark/examples/mllib/JavaRecommendationExample.java\n",
            "spark-3.1.2-bin-hadoop3.2/examples/src/main/java/org/apache/spark/examples/mllib/JavaRankingMetricsExample.java\n",
            "spark-3.1.2-bin-hadoop3.2/examples/src/main/java/org/apache/spark/examples/mllib/JavaRandomForestRegressionExample.java\n",
            "spark-3.1.2-bin-hadoop3.2/examples/src/main/java/org/apache/spark/examples/mllib/JavaRandomForestClassificationExample.java\n",
            "spark-3.1.2-bin-hadoop3.2/examples/src/main/java/org/apache/spark/examples/mllib/JavaPrefixSpanExample.java\n",
            "spark-3.1.2-bin-hadoop3.2/examples/src/main/java/org/apache/spark/examples/mllib/JavaPowerIterationClusteringExample.java\n",
            "spark-3.1.2-bin-hadoop3.2/examples/src/main/java/org/apache/spark/examples/mllib/JavaPCAExample.java\n",
            "spark-3.1.2-bin-hadoop3.2/examples/src/main/java/org/apache/spark/examples/mllib/JavaNaiveBayesExample.java\n",
            "spark-3.1.2-bin-hadoop3.2/examples/src/main/java/org/apache/spark/examples/mllib/JavaMulticlassClassificationMetricsExample.java\n",
            "spark-3.1.2-bin-hadoop3.2/examples/src/main/java/org/apache/spark/examples/mllib/JavaMultiLabelClassificationMetricsExample.java\n",
            "spark-3.1.2-bin-hadoop3.2/examples/src/main/java/org/apache/spark/examples/mllib/JavaLogisticRegressionWithLBFGSExample.java\n",
            "spark-3.1.2-bin-hadoop3.2/examples/src/main/java/org/apache/spark/examples/mllib/JavaLatentDirichletAllocationExample.java\n",
            "spark-3.1.2-bin-hadoop3.2/examples/src/main/java/org/apache/spark/examples/mllib/JavaLBFGSExample.java\n",
            "spark-3.1.2-bin-hadoop3.2/examples/src/main/java/org/apache/spark/examples/mllib/JavaKernelDensityEstimationExample.java\n",
            "spark-3.1.2-bin-hadoop3.2/examples/src/main/java/org/apache/spark/examples/mllib/JavaKMeansExample.java\n",
            "spark-3.1.2-bin-hadoop3.2/examples/src/main/java/org/apache/spark/examples/mllib/JavaIsotonicRegressionExample.java\n",
            "spark-3.1.2-bin-hadoop3.2/examples/src/main/java/org/apache/spark/examples/mllib/JavaHypothesisTestingKolmogorovSmirnovTestExample.java\n",
            "spark-3.1.2-bin-hadoop3.2/examples/src/main/java/org/apache/spark/examples/mllib/JavaHypothesisTestingExample.java\n",
            "spark-3.1.2-bin-hadoop3.2/examples/src/main/java/org/apache/spark/examples/mllib/JavaGradientBoostingRegressionExample.java\n",
            "spark-3.1.2-bin-hadoop3.2/examples/src/main/java/org/apache/spark/examples/mllib/JavaGradientBoostingClassificationExample.java\n",
            "spark-3.1.2-bin-hadoop3.2/examples/src/main/java/org/apache/spark/examples/mllib/JavaGaussianMixtureExample.java\n",
            "spark-3.1.2-bin-hadoop3.2/examples/src/main/java/org/apache/spark/examples/mllib/JavaElementwiseProductExample.java\n",
            "spark-3.1.2-bin-hadoop3.2/examples/src/main/java/org/apache/spark/examples/mllib/JavaDecisionTreeRegressionExample.java\n",
            "spark-3.1.2-bin-hadoop3.2/examples/src/main/java/org/apache/spark/examples/mllib/JavaDecisionTreeClassificationExample.java\n",
            "spark-3.1.2-bin-hadoop3.2/examples/src/main/java/org/apache/spark/examples/mllib/JavaCorrelationsExample.java\n",
            "spark-3.1.2-bin-hadoop3.2/examples/src/main/java/org/apache/spark/examples/mllib/JavaChiSqSelectorExample.java\n",
            "spark-3.1.2-bin-hadoop3.2/examples/src/main/java/org/apache/spark/examples/mllib/JavaBisectingKMeansExample.java\n",
            "spark-3.1.2-bin-hadoop3.2/examples/src/main/java/org/apache/spark/examples/mllib/JavaBinaryClassificationMetricsExample.java\n",
            "spark-3.1.2-bin-hadoop3.2/examples/src/main/java/org/apache/spark/examples/mllib/JavaAssociationRulesExample.java\n",
            "spark-3.1.2-bin-hadoop3.2/examples/src/main/java/org/apache/spark/examples/mllib/JavaALS.java\n",
            "spark-3.1.2-bin-hadoop3.2/examples/src/main/java/org/apache/spark/examples/ml/\n",
            "spark-3.1.2-bin-hadoop3.2/examples/src/main/java/org/apache/spark/examples/ml/JavaWord2VecExample.java\n",
            "spark-3.1.2-bin-hadoop3.2/examples/src/main/java/org/apache/spark/examples/ml/JavaVectorSlicerExample.java\n",
            "spark-3.1.2-bin-hadoop3.2/examples/src/main/java/org/apache/spark/examples/ml/JavaVectorSizeHintExample.java\n",
            "spark-3.1.2-bin-hadoop3.2/examples/src/main/java/org/apache/spark/examples/ml/JavaVectorIndexerExample.java\n",
            "spark-3.1.2-bin-hadoop3.2/examples/src/main/java/org/apache/spark/examples/ml/JavaVectorAssemblerExample.java\n",
            "spark-3.1.2-bin-hadoop3.2/examples/src/main/java/org/apache/spark/examples/ml/JavaVarianceThresholdSelectorExample.java\n",
            "spark-3.1.2-bin-hadoop3.2/examples/src/main/java/org/apache/spark/examples/ml/JavaUnivariateFeatureSelectorExample.java\n",
            "spark-3.1.2-bin-hadoop3.2/examples/src/main/java/org/apache/spark/examples/ml/JavaTfIdfExample.java\n",
            "spark-3.1.2-bin-hadoop3.2/examples/src/main/java/org/apache/spark/examples/ml/JavaSummarizerExample.java\n",
            "spark-3.1.2-bin-hadoop3.2/examples/src/main/java/org/apache/spark/examples/ml/JavaStringIndexerExample.java\n",
            "spark-3.1.2-bin-hadoop3.2/examples/src/main/java/org/apache/spark/examples/ml/JavaStopWordsRemoverExample.java\n",
            "spark-3.1.2-bin-hadoop3.2/examples/src/main/java/org/apache/spark/examples/ml/JavaStandardScalerExample.java\n",
            "spark-3.1.2-bin-hadoop3.2/examples/src/main/java/org/apache/spark/examples/ml/JavaSQLTransformerExample.java\n",
            "spark-3.1.2-bin-hadoop3.2/examples/src/main/java/org/apache/spark/examples/ml/JavaRobustScalerExample.java\n",
            "spark-3.1.2-bin-hadoop3.2/examples/src/main/java/org/apache/spark/examples/ml/JavaRandomForestRegressorExample.java\n",
            "spark-3.1.2-bin-hadoop3.2/examples/src/main/java/org/apache/spark/examples/ml/JavaRandomForestClassifierExample.java\n",
            "spark-3.1.2-bin-hadoop3.2/examples/src/main/java/org/apache/spark/examples/ml/JavaRFormulaExample.java\n",
            "spark-3.1.2-bin-hadoop3.2/examples/src/main/java/org/apache/spark/examples/ml/JavaQuantileDiscretizerExample.java\n",
            "spark-3.1.2-bin-hadoop3.2/examples/src/main/java/org/apache/spark/examples/ml/JavaPrefixSpanExample.java\n",
            "spark-3.1.2-bin-hadoop3.2/examples/src/main/java/org/apache/spark/examples/ml/JavaPowerIterationClusteringExample.java\n",
            "spark-3.1.2-bin-hadoop3.2/examples/src/main/java/org/apache/spark/examples/ml/JavaPolynomialExpansionExample.java\n",
            "spark-3.1.2-bin-hadoop3.2/examples/src/main/java/org/apache/spark/examples/ml/JavaPipelineExample.java\n",
            "spark-3.1.2-bin-hadoop3.2/examples/src/main/java/org/apache/spark/examples/ml/JavaPCAExample.java\n",
            "spark-3.1.2-bin-hadoop3.2/examples/src/main/java/org/apache/spark/examples/ml/JavaOneVsRestExample.java\n",
            "spark-3.1.2-bin-hadoop3.2/examples/src/main/java/org/apache/spark/examples/ml/JavaOneHotEncoderExample.java\n",
            "spark-3.1.2-bin-hadoop3.2/examples/src/main/java/org/apache/spark/examples/ml/JavaNormalizerExample.java\n",
            "spark-3.1.2-bin-hadoop3.2/examples/src/main/java/org/apache/spark/examples/ml/JavaNaiveBayesExample.java\n",
            "spark-3.1.2-bin-hadoop3.2/examples/src/main/java/org/apache/spark/examples/ml/JavaNGramExample.java\n",
            "spark-3.1.2-bin-hadoop3.2/examples/src/main/java/org/apache/spark/examples/ml/JavaMultilayerPerceptronClassifierExample.java\n",
            "spark-3.1.2-bin-hadoop3.2/examples/src/main/java/org/apache/spark/examples/ml/JavaMulticlassLogisticRegressionWithElasticNetExample.java\n",
            "spark-3.1.2-bin-hadoop3.2/examples/src/main/java/org/apache/spark/examples/ml/JavaModelSelectionViaTrainValidationSplitExample.java\n",
            "spark-3.1.2-bin-hadoop3.2/examples/src/main/java/org/apache/spark/examples/ml/JavaModelSelectionViaCrossValidationExample.java\n",
            "spark-3.1.2-bin-hadoop3.2/examples/src/main/java/org/apache/spark/examples/ml/JavaMinMaxScalerExample.java\n",
            "spark-3.1.2-bin-hadoop3.2/examples/src/main/java/org/apache/spark/examples/ml/JavaMinHashLSHExample.java\n",
            "spark-3.1.2-bin-hadoop3.2/examples/src/main/java/org/apache/spark/examples/ml/JavaMaxAbsScalerExample.java\n",
            "spark-3.1.2-bin-hadoop3.2/examples/src/main/java/org/apache/spark/examples/ml/JavaLogisticRegressionWithElasticNetExample.java\n",
            "spark-3.1.2-bin-hadoop3.2/examples/src/main/java/org/apache/spark/examples/ml/JavaLogisticRegressionSummaryExample.java\n",
            "spark-3.1.2-bin-hadoop3.2/examples/src/main/java/org/apache/spark/examples/ml/JavaLinearSVCExample.java\n",
            "spark-3.1.2-bin-hadoop3.2/examples/src/main/java/org/apache/spark/examples/ml/JavaLinearRegressionWithElasticNetExample.java\n",
            "spark-3.1.2-bin-hadoop3.2/examples/src/main/java/org/apache/spark/examples/ml/JavaLabeledDocument.java\n",
            "spark-3.1.2-bin-hadoop3.2/examples/src/main/java/org/apache/spark/examples/ml/JavaLDAExample.java\n",
            "spark-3.1.2-bin-hadoop3.2/examples/src/main/java/org/apache/spark/examples/ml/JavaKMeansExample.java\n",
            "spark-3.1.2-bin-hadoop3.2/examples/src/main/java/org/apache/spark/examples/ml/JavaIsotonicRegressionExample.java\n",
            "spark-3.1.2-bin-hadoop3.2/examples/src/main/java/org/apache/spark/examples/ml/JavaInteractionExample.java\n",
            "spark-3.1.2-bin-hadoop3.2/examples/src/main/java/org/apache/spark/examples/ml/JavaIndexToStringExample.java\n",
            "spark-3.1.2-bin-hadoop3.2/examples/src/main/java/org/apache/spark/examples/ml/JavaImputerExample.java\n",
            "spark-3.1.2-bin-hadoop3.2/examples/src/main/java/org/apache/spark/examples/ml/JavaGradientBoostedTreeRegressorExample.java\n",
            "spark-3.1.2-bin-hadoop3.2/examples/src/main/java/org/apache/spark/examples/ml/JavaGradientBoostedTreeClassifierExample.java\n",
            "spark-3.1.2-bin-hadoop3.2/examples/src/main/java/org/apache/spark/examples/ml/JavaGeneralizedLinearRegressionExample.java\n",
            "spark-3.1.2-bin-hadoop3.2/examples/src/main/java/org/apache/spark/examples/ml/JavaGaussianMixtureExample.java\n",
            "spark-3.1.2-bin-hadoop3.2/examples/src/main/java/org/apache/spark/examples/ml/JavaFeatureHasherExample.java\n",
            "spark-3.1.2-bin-hadoop3.2/examples/src/main/java/org/apache/spark/examples/ml/JavaFPGrowthExample.java\n",
            "spark-3.1.2-bin-hadoop3.2/examples/src/main/java/org/apache/spark/examples/ml/JavaFMRegressorExample.java\n",
            "spark-3.1.2-bin-hadoop3.2/examples/src/main/java/org/apache/spark/examples/ml/JavaFMClassifierExample.java\n",
            "spark-3.1.2-bin-hadoop3.2/examples/src/main/java/org/apache/spark/examples/ml/JavaEstimatorTransformerParamExample.java\n",
            "spark-3.1.2-bin-hadoop3.2/examples/src/main/java/org/apache/spark/examples/ml/JavaElementwiseProductExample.java\n",
            "spark-3.1.2-bin-hadoop3.2/examples/src/main/java/org/apache/spark/examples/ml/JavaDocument.java\n",
            "spark-3.1.2-bin-hadoop3.2/examples/src/main/java/org/apache/spark/examples/ml/JavaDecisionTreeRegressionExample.java\n",
            "spark-3.1.2-bin-hadoop3.2/examples/src/main/java/org/apache/spark/examples/ml/JavaDecisionTreeClassificationExample.java\n",
            "spark-3.1.2-bin-hadoop3.2/examples/src/main/java/org/apache/spark/examples/ml/JavaDCTExample.java\n",
            "spark-3.1.2-bin-hadoop3.2/examples/src/main/java/org/apache/spark/examples/ml/JavaCountVectorizerExample.java\n",
            "spark-3.1.2-bin-hadoop3.2/examples/src/main/java/org/apache/spark/examples/ml/JavaCorrelationExample.java\n",
            "spark-3.1.2-bin-hadoop3.2/examples/src/main/java/org/apache/spark/examples/ml/JavaChiSquareTestExample.java\n",
            "spark-3.1.2-bin-hadoop3.2/examples/src/main/java/org/apache/spark/examples/ml/JavaChiSqSelectorExample.java\n",
            "spark-3.1.2-bin-hadoop3.2/examples/src/main/java/org/apache/spark/examples/ml/JavaBucketizerExample.java\n",
            "spark-3.1.2-bin-hadoop3.2/examples/src/main/java/org/apache/spark/examples/ml/JavaBucketedRandomProjectionLSHExample.java\n",
            "spark-3.1.2-bin-hadoop3.2/examples/src/main/java/org/apache/spark/examples/ml/JavaBisectingKMeansExample.java\n",
            "spark-3.1.2-bin-hadoop3.2/examples/src/main/java/org/apache/spark/examples/ml/JavaBinarizerExample.java\n",
            "spark-3.1.2-bin-hadoop3.2/examples/src/main/java/org/apache/spark/examples/ml/JavaALSExample.java\n",
            "spark-3.1.2-bin-hadoop3.2/examples/src/main/java/org/apache/spark/examples/ml/JavaAFTSurvivalRegressionExample.java\n",
            "spark-3.1.2-bin-hadoop3.2/examples/src/main/java/org/apache/spark/examples/ml/JavaTokenizerExample.java\n",
            "spark-3.1.2-bin-hadoop3.2/examples/src/main/java/org/apache/spark/examples/JavaWordCount.java\n",
            "spark-3.1.2-bin-hadoop3.2/examples/src/main/java/org/apache/spark/examples/JavaTC.java\n",
            "spark-3.1.2-bin-hadoop3.2/examples/src/main/java/org/apache/spark/examples/JavaStatusTrackerDemo.java\n",
            "spark-3.1.2-bin-hadoop3.2/examples/src/main/java/org/apache/spark/examples/JavaSparkPi.java\n",
            "spark-3.1.2-bin-hadoop3.2/examples/src/main/java/org/apache/spark/examples/JavaPageRank.java\n",
            "spark-3.1.2-bin-hadoop3.2/examples/src/main/java/org/apache/spark/examples/JavaLogQuery.java\n",
            "spark-3.1.2-bin-hadoop3.2/examples/src/main/java/org/apache/spark/examples/JavaHdfsLR.java\n",
            "spark-3.1.2-bin-hadoop3.2/examples/jars/\n",
            "spark-3.1.2-bin-hadoop3.2/examples/jars/spark-examples_2.12-3.1.2.jar\n",
            "spark-3.1.2-bin-hadoop3.2/examples/jars/scopt_2.12-3.7.1.jar\n",
            "spark-3.1.2-bin-hadoop3.2/kubernetes/\n",
            "spark-3.1.2-bin-hadoop3.2/kubernetes/tests/\n",
            "spark-3.1.2-bin-hadoop3.2/kubernetes/tests/worker_memory_check.py\n",
            "spark-3.1.2-bin-hadoop3.2/kubernetes/tests/python_executable_check.py\n",
            "spark-3.1.2-bin-hadoop3.2/kubernetes/tests/pyfiles.py\n",
            "spark-3.1.2-bin-hadoop3.2/kubernetes/tests/py_container_checks.py\n",
            "spark-3.1.2-bin-hadoop3.2/kubernetes/tests/decommissioning_cleanup.py\n",
            "spark-3.1.2-bin-hadoop3.2/kubernetes/tests/decommissioning.py\n",
            "spark-3.1.2-bin-hadoop3.2/kubernetes/tests/autoscale.py\n",
            "spark-3.1.2-bin-hadoop3.2/kubernetes/dockerfiles/\n",
            "spark-3.1.2-bin-hadoop3.2/kubernetes/dockerfiles/spark/\n",
            "spark-3.1.2-bin-hadoop3.2/kubernetes/dockerfiles/spark/bindings/\n",
            "spark-3.1.2-bin-hadoop3.2/kubernetes/dockerfiles/spark/bindings/python/\n",
            "spark-3.1.2-bin-hadoop3.2/kubernetes/dockerfiles/spark/bindings/python/Dockerfile\n",
            "spark-3.1.2-bin-hadoop3.2/kubernetes/dockerfiles/spark/bindings/R/\n",
            "spark-3.1.2-bin-hadoop3.2/kubernetes/dockerfiles/spark/bindings/R/Dockerfile\n",
            "spark-3.1.2-bin-hadoop3.2/kubernetes/dockerfiles/spark/Dockerfile\n",
            "spark-3.1.2-bin-hadoop3.2/kubernetes/dockerfiles/spark/entrypoint.sh\n",
            "spark-3.1.2-bin-hadoop3.2/kubernetes/dockerfiles/spark/decom.sh\n",
            "spark-3.1.2-bin-hadoop3.2/yarn/\n",
            "spark-3.1.2-bin-hadoop3.2/yarn/spark-3.1.2-yarn-shuffle.jar\n",
            "spark-3.1.2-bin-hadoop3.2/jars/\n",
            "spark-3.1.2-bin-hadoop3.2/jars/zstd-jni-1.4.8-1.jar\n",
            "spark-3.1.2-bin-hadoop3.2/jars/zookeeper-3.4.14.jar\n",
            "spark-3.1.2-bin-hadoop3.2/jars/zjsonpatch-0.3.0.jar\n",
            "spark-3.1.2-bin-hadoop3.2/jars/xz-1.5.jar\n",
            "spark-3.1.2-bin-hadoop3.2/jars/xbean-asm7-shaded-4.15.jar\n",
            "spark-3.1.2-bin-hadoop3.2/jars/woodstox-core-5.0.3.jar\n",
            "spark-3.1.2-bin-hadoop3.2/jars/velocity-1.5.jar\n",
            "spark-3.1.2-bin-hadoop3.2/jars/univocity-parsers-2.9.1.jar\n",
            "spark-3.1.2-bin-hadoop3.2/jars/transaction-api-1.1.jar\n",
            "spark-3.1.2-bin-hadoop3.2/jars/token-provider-1.0.1.jar\n",
            "spark-3.1.2-bin-hadoop3.2/jars/threeten-extra-1.5.0.jar\n",
            "spark-3.1.2-bin-hadoop3.2/jars/super-csv-2.2.0.jar\n",
            "spark-3.1.2-bin-hadoop3.2/jars/stream-2.9.6.jar\n",
            "spark-3.1.2-bin-hadoop3.2/jars/stax2-api-3.1.4.jar\n",
            "spark-3.1.2-bin-hadoop3.2/jars/stax-api-1.0.1.jar\n",
            "spark-3.1.2-bin-hadoop3.2/jars/spire_2.12-0.17.0-M1.jar\n",
            "spark-3.1.2-bin-hadoop3.2/jars/spire-util_2.12-0.17.0-M1.jar\n",
            "spark-3.1.2-bin-hadoop3.2/jars/spire-platform_2.12-0.17.0-M1.jar\n",
            "spark-3.1.2-bin-hadoop3.2/jars/spire-macros_2.12-0.17.0-M1.jar\n",
            "spark-3.1.2-bin-hadoop3.2/jars/spark-yarn_2.12-3.1.2.jar\n",
            "spark-3.1.2-bin-hadoop3.2/jars/spark-unsafe_2.12-3.1.2.jar\n",
            "spark-3.1.2-bin-hadoop3.2/jars/spark-tags_2.12-3.1.2.jar\n",
            "spark-3.1.2-bin-hadoop3.2/jars/spark-tags_2.12-3.1.2-tests.jar\n",
            "spark-3.1.2-bin-hadoop3.2/jars/spark-streaming_2.12-3.1.2.jar\n",
            "spark-3.1.2-bin-hadoop3.2/jars/spark-sql_2.12-3.1.2.jar\n",
            "spark-3.1.2-bin-hadoop3.2/jars/spark-sketch_2.12-3.1.2.jar\n",
            "spark-3.1.2-bin-hadoop3.2/jars/spark-repl_2.12-3.1.2.jar\n",
            "spark-3.1.2-bin-hadoop3.2/jars/spark-network-shuffle_2.12-3.1.2.jar\n",
            "spark-3.1.2-bin-hadoop3.2/jars/spark-network-common_2.12-3.1.2.jar\n",
            "spark-3.1.2-bin-hadoop3.2/jars/spark-mllib_2.12-3.1.2.jar\n",
            "spark-3.1.2-bin-hadoop3.2/jars/spark-mllib-local_2.12-3.1.2.jar\n",
            "spark-3.1.2-bin-hadoop3.2/jars/spark-mesos_2.12-3.1.2.jar\n",
            "spark-3.1.2-bin-hadoop3.2/jars/spark-launcher_2.12-3.1.2.jar\n",
            "spark-3.1.2-bin-hadoop3.2/jars/spark-kvstore_2.12-3.1.2.jar\n",
            "spark-3.1.2-bin-hadoop3.2/jars/spark-kubernetes_2.12-3.1.2.jar\n",
            "spark-3.1.2-bin-hadoop3.2/jars/spark-hive_2.12-3.1.2.jar\n",
            "spark-3.1.2-bin-hadoop3.2/jars/spark-hive-thriftserver_2.12-3.1.2.jar\n",
            "spark-3.1.2-bin-hadoop3.2/jars/spark-graphx_2.12-3.1.2.jar\n",
            "spark-3.1.2-bin-hadoop3.2/jars/spark-core_2.12-3.1.2.jar\n",
            "spark-3.1.2-bin-hadoop3.2/jars/spark-catalyst_2.12-3.1.2.jar\n",
            "spark-3.1.2-bin-hadoop3.2/jars/snappy-java-1.1.8.2.jar\n",
            "spark-3.1.2-bin-hadoop3.2/jars/snakeyaml-1.24.jar\n",
            "spark-3.1.2-bin-hadoop3.2/jars/slf4j-log4j12-1.7.30.jar\n",
            "spark-3.1.2-bin-hadoop3.2/jars/slf4j-api-1.7.30.jar\n",
            "spark-3.1.2-bin-hadoop3.2/jars/shims-0.9.0.jar\n",
            "spark-3.1.2-bin-hadoop3.2/jars/shapeless_2.12-2.3.3.jar\n",
            "spark-3.1.2-bin-hadoop3.2/jars/scala-xml_2.12-1.2.0.jar\n",
            "spark-3.1.2-bin-hadoop3.2/jars/scala-reflect-2.12.10.jar\n",
            "spark-3.1.2-bin-hadoop3.2/jars/scala-parser-combinators_2.12-1.1.2.jar\n",
            "spark-3.1.2-bin-hadoop3.2/jars/scala-library-2.12.10.jar\n",
            "spark-3.1.2-bin-hadoop3.2/jars/scala-compiler-2.12.10.jar\n",
            "spark-3.1.2-bin-hadoop3.2/jars/scala-collection-compat_2.12-2.1.1.jar\n",
            "spark-3.1.2-bin-hadoop3.2/jars/re2j-1.1.jar\n",
            "spark-3.1.2-bin-hadoop3.2/jars/pyrolite-4.30.jar\n",
            "spark-3.1.2-bin-hadoop3.2/jars/py4j-0.10.9.jar\n",
            "spark-3.1.2-bin-hadoop3.2/jars/protobuf-java-2.5.0.jar\n",
            "spark-3.1.2-bin-hadoop3.2/jars/parquet-jackson-1.10.1.jar\n",
            "spark-3.1.2-bin-hadoop3.2/jars/parquet-hadoop-1.10.1.jar\n",
            "spark-3.1.2-bin-hadoop3.2/jars/parquet-format-2.4.0.jar\n",
            "spark-3.1.2-bin-hadoop3.2/jars/parquet-encoding-1.10.1.jar\n",
            "spark-3.1.2-bin-hadoop3.2/jars/parquet-common-1.10.1.jar\n",
            "spark-3.1.2-bin-hadoop3.2/jars/parquet-column-1.10.1.jar\n",
            "spark-3.1.2-bin-hadoop3.2/jars/paranamer-2.8.jar\n",
            "spark-3.1.2-bin-hadoop3.2/jars/osgi-resource-locator-1.0.3.jar\n",
            "spark-3.1.2-bin-hadoop3.2/jars/oro-2.0.8.jar\n",
            "spark-3.1.2-bin-hadoop3.2/jars/orc-shims-1.5.12.jar\n",
            "spark-3.1.2-bin-hadoop3.2/jars/orc-mapreduce-1.5.12.jar\n",
            "spark-3.1.2-bin-hadoop3.2/jars/orc-core-1.5.12.jar\n",
            "spark-3.1.2-bin-hadoop3.2/jars/opencsv-2.3.jar\n",
            "spark-3.1.2-bin-hadoop3.2/jars/okio-1.14.0.jar\n",
            "spark-3.1.2-bin-hadoop3.2/jars/okhttp-3.12.12.jar\n",
            "spark-3.1.2-bin-hadoop3.2/jars/okhttp-2.7.5.jar\n",
            "spark-3.1.2-bin-hadoop3.2/jars/objenesis-2.6.jar\n",
            "spark-3.1.2-bin-hadoop3.2/jars/nimbus-jose-jwt-4.41.1.jar\n",
            "spark-3.1.2-bin-hadoop3.2/jars/netty-all-4.1.51.Final.jar\n",
            "spark-3.1.2-bin-hadoop3.2/jars/minlog-1.3.0.jar\n",
            "spark-3.1.2-bin-hadoop3.2/jars/metrics-jvm-4.1.1.jar\n",
            "spark-3.1.2-bin-hadoop3.2/jars/metrics-json-4.1.1.jar\n",
            "spark-3.1.2-bin-hadoop3.2/jars/metrics-jmx-4.1.1.jar\n",
            "spark-3.1.2-bin-hadoop3.2/jars/metrics-graphite-4.1.1.jar\n",
            "spark-3.1.2-bin-hadoop3.2/jars/metrics-core-4.1.1.jar\n",
            "spark-3.1.2-bin-hadoop3.2/jars/mesos-1.4.0-shaded-protobuf.jar\n",
            "spark-3.1.2-bin-hadoop3.2/jars/macro-compat_2.12-1.1.1.jar\n",
            "spark-3.1.2-bin-hadoop3.2/jars/machinist_2.12-0.6.8.jar\n",
            "spark-3.1.2-bin-hadoop3.2/jars/lz4-java-1.7.1.jar\n",
            "spark-3.1.2-bin-hadoop3.2/jars/logging-interceptor-3.12.12.jar\n",
            "spark-3.1.2-bin-hadoop3.2/jars/log4j-1.2.17.jar\n",
            "spark-3.1.2-bin-hadoop3.2/jars/libthrift-0.12.0.jar\n",
            "spark-3.1.2-bin-hadoop3.2/jars/libfb303-0.9.3.jar\n",
            "spark-3.1.2-bin-hadoop3.2/jars/leveldbjni-all-1.8.jar\n",
            "spark-3.1.2-bin-hadoop3.2/jars/kubernetes-model-storageclass-4.12.0.jar\n",
            "spark-3.1.2-bin-hadoop3.2/jars/kubernetes-model-settings-4.12.0.jar\n",
            "spark-3.1.2-bin-hadoop3.2/jars/kubernetes-model-scheduling-4.12.0.jar\n",
            "spark-3.1.2-bin-hadoop3.2/jars/kubernetes-model-rbac-4.12.0.jar\n",
            "spark-3.1.2-bin-hadoop3.2/jars/kubernetes-model-policy-4.12.0.jar\n",
            "spark-3.1.2-bin-hadoop3.2/jars/kubernetes-model-networking-4.12.0.jar\n",
            "spark-3.1.2-bin-hadoop3.2/jars/kubernetes-model-metrics-4.12.0.jar\n",
            "spark-3.1.2-bin-hadoop3.2/jars/kubernetes-model-extensions-4.12.0.jar\n",
            "spark-3.1.2-bin-hadoop3.2/jars/kubernetes-model-events-4.12.0.jar\n",
            "spark-3.1.2-bin-hadoop3.2/jars/kubernetes-model-discovery-4.12.0.jar\n",
            "spark-3.1.2-bin-hadoop3.2/jars/kubernetes-model-core-4.12.0.jar\n",
            "spark-3.1.2-bin-hadoop3.2/jars/kubernetes-model-coordination-4.12.0.jar\n",
            "spark-3.1.2-bin-hadoop3.2/jars/kubernetes-model-common-4.12.0.jar\n",
            "spark-3.1.2-bin-hadoop3.2/jars/kubernetes-model-certificates-4.12.0.jar\n",
            "spark-3.1.2-bin-hadoop3.2/jars/kubernetes-model-batch-4.12.0.jar\n",
            "spark-3.1.2-bin-hadoop3.2/jars/kubernetes-model-autoscaling-4.12.0.jar\n",
            "spark-3.1.2-bin-hadoop3.2/jars/kubernetes-model-apps-4.12.0.jar\n",
            "spark-3.1.2-bin-hadoop3.2/jars/kubernetes-model-apiextensions-4.12.0.jar\n",
            "spark-3.1.2-bin-hadoop3.2/jars/kubernetes-model-admissionregistration-4.12.0.jar\n",
            "spark-3.1.2-bin-hadoop3.2/jars/kubernetes-client-4.12.0.jar\n",
            "spark-3.1.2-bin-hadoop3.2/jars/kryo-shaded-4.0.2.jar\n",
            "spark-3.1.2-bin-hadoop3.2/jars/kerby-xdr-1.0.1.jar\n",
            "spark-3.1.2-bin-hadoop3.2/jars/kerby-util-1.0.1.jar\n",
            "spark-3.1.2-bin-hadoop3.2/jars/kerby-pkix-1.0.1.jar\n",
            "spark-3.1.2-bin-hadoop3.2/jars/kerby-config-1.0.1.jar\n",
            "spark-3.1.2-bin-hadoop3.2/jars/kerby-asn1-1.0.1.jar\n",
            "spark-3.1.2-bin-hadoop3.2/jars/kerb-util-1.0.1.jar\n",
            "spark-3.1.2-bin-hadoop3.2/jars/kerb-simplekdc-1.0.1.jar\n",
            "spark-3.1.2-bin-hadoop3.2/jars/kerb-server-1.0.1.jar\n",
            "spark-3.1.2-bin-hadoop3.2/jars/kerb-identity-1.0.1.jar\n",
            "spark-3.1.2-bin-hadoop3.2/jars/kerb-crypto-1.0.1.jar\n",
            "spark-3.1.2-bin-hadoop3.2/jars/kerb-core-1.0.1.jar\n",
            "spark-3.1.2-bin-hadoop3.2/jars/kerb-common-1.0.1.jar\n",
            "spark-3.1.2-bin-hadoop3.2/jars/kerb-client-1.0.1.jar\n",
            "spark-3.1.2-bin-hadoop3.2/jars/kerb-admin-1.0.1.jar\n",
            "spark-3.1.2-bin-hadoop3.2/jars/jul-to-slf4j-1.7.30.jar\n",
            "spark-3.1.2-bin-hadoop3.2/jars/jta-1.1.jar\n",
            "spark-3.1.2-bin-hadoop3.2/jars/jsr305-3.0.0.jar\n",
            "spark-3.1.2-bin-hadoop3.2/jars/jsp-api-2.1.jar\n",
            "spark-3.1.2-bin-hadoop3.2/jars/json4s-scalap_2.12-3.7.0-M5.jar\n",
            "spark-3.1.2-bin-hadoop3.2/jars/json4s-jackson_2.12-3.7.0-M5.jar\n",
            "spark-3.1.2-bin-hadoop3.2/jars/json4s-core_2.12-3.7.0-M5.jar\n",
            "spark-3.1.2-bin-hadoop3.2/jars/json4s-ast_2.12-3.7.0-M5.jar\n",
            "spark-3.1.2-bin-hadoop3.2/jars/json-smart-2.3.jar\n",
            "spark-3.1.2-bin-hadoop3.2/jars/json-1.8.jar\n",
            "spark-3.1.2-bin-hadoop3.2/jars/jpam-1.1.jar\n",
            "spark-3.1.2-bin-hadoop3.2/jars/jodd-core-3.5.2.jar\n",
            "spark-3.1.2-bin-hadoop3.2/jars/joda-time-2.10.5.jar\n",
            "spark-3.1.2-bin-hadoop3.2/jars/jline-2.14.6.jar\n",
            "spark-3.1.2-bin-hadoop3.2/jars/jersey-server-2.30.jar\n",
            "spark-3.1.2-bin-hadoop3.2/jars/jersey-media-jaxb-2.30.jar\n",
            "spark-3.1.2-bin-hadoop3.2/jars/jersey-hk2-2.30.jar\n",
            "spark-3.1.2-bin-hadoop3.2/jars/jersey-container-servlet-core-2.30.jar\n",
            "spark-3.1.2-bin-hadoop3.2/jars/jersey-container-servlet-2.30.jar\n",
            "spark-3.1.2-bin-hadoop3.2/jars/jersey-common-2.30.jar\n",
            "spark-3.1.2-bin-hadoop3.2/jars/jersey-client-2.30.jar\n",
            "spark-3.1.2-bin-hadoop3.2/jars/jdo-api-3.0.1.jar\n",
            "spark-3.1.2-bin-hadoop3.2/jars/jcl-over-slf4j-1.7.30.jar\n",
            "spark-3.1.2-bin-hadoop3.2/jars/jcip-annotations-1.0-1.jar\n",
            "spark-3.1.2-bin-hadoop3.2/jars/jaxb-runtime-2.3.2.jar\n",
            "spark-3.1.2-bin-hadoop3.2/jars/jaxb-api-2.2.11.jar\n",
            "spark-3.1.2-bin-hadoop3.2/jars/javolution-5.5.1.jar\n",
            "spark-3.1.2-bin-hadoop3.2/jars/javax.jdo-3.2.0-m3.jar\n",
            "spark-3.1.2-bin-hadoop3.2/jars/javax.inject-1.jar\n",
            "spark-3.1.2-bin-hadoop3.2/jars/javassist-3.25.0-GA.jar\n",
            "spark-3.1.2-bin-hadoop3.2/jars/janino-3.0.16.jar\n",
            "spark-3.1.2-bin-hadoop3.2/jars/jakarta.xml.bind-api-2.3.2.jar\n",
            "spark-3.1.2-bin-hadoop3.2/jars/jakarta.ws.rs-api-2.1.6.jar\n",
            "spark-3.1.2-bin-hadoop3.2/jars/jakarta.validation-api-2.0.2.jar\n",
            "spark-3.1.2-bin-hadoop3.2/jars/jakarta.servlet-api-4.0.3.jar\n",
            "spark-3.1.2-bin-hadoop3.2/jars/jakarta.inject-2.6.1.jar\n",
            "spark-3.1.2-bin-hadoop3.2/jars/jakarta.annotation-api-1.3.5.jar\n",
            "spark-3.1.2-bin-hadoop3.2/jars/jakarta.activation-api-1.2.1.jar\n",
            "spark-3.1.2-bin-hadoop3.2/jars/jackson-module-scala_2.12-2.10.0.jar\n",
            "spark-3.1.2-bin-hadoop3.2/jars/jackson-module-paranamer-2.10.0.jar\n",
            "spark-3.1.2-bin-hadoop3.2/jars/jackson-module-jaxb-annotations-2.10.0.jar\n",
            "spark-3.1.2-bin-hadoop3.2/jars/jackson-mapper-asl-1.9.13.jar\n",
            "spark-3.1.2-bin-hadoop3.2/jars/jackson-jaxrs-json-provider-2.9.5.jar\n",
            "spark-3.1.2-bin-hadoop3.2/jars/jackson-jaxrs-base-2.9.5.jar\n",
            "spark-3.1.2-bin-hadoop3.2/jars/jackson-datatype-jsr310-2.11.2.jar\n",
            "spark-3.1.2-bin-hadoop3.2/jars/jackson-dataformat-yaml-2.10.0.jar\n",
            "spark-3.1.2-bin-hadoop3.2/jars/jackson-databind-2.10.0.jar\n",
            "spark-3.1.2-bin-hadoop3.2/jars/jackson-core-asl-1.9.13.jar\n",
            "spark-3.1.2-bin-hadoop3.2/jars/jackson-core-2.10.0.jar\n",
            "spark-3.1.2-bin-hadoop3.2/jars/jackson-annotations-2.10.0.jar\n",
            "spark-3.1.2-bin-hadoop3.2/jars/ivy-2.4.0.jar\n",
            "spark-3.1.2-bin-hadoop3.2/jars/istack-commons-runtime-3.0.8.jar\n",
            "spark-3.1.2-bin-hadoop3.2/jars/httpcore-4.4.12.jar\n",
            "spark-3.1.2-bin-hadoop3.2/jars/httpclient-4.5.6.jar\n",
            "spark-3.1.2-bin-hadoop3.2/jars/htrace-core4-4.1.0-incubating.jar\n",
            "spark-3.1.2-bin-hadoop3.2/jars/hk2-utils-2.6.1.jar\n",
            "spark-3.1.2-bin-hadoop3.2/jars/hk2-locator-2.6.1.jar\n",
            "spark-3.1.2-bin-hadoop3.2/jars/hk2-api-2.6.1.jar\n",
            "spark-3.1.2-bin-hadoop3.2/jars/hive-vector-code-gen-2.3.7.jar\n",
            "spark-3.1.2-bin-hadoop3.2/jars/hive-storage-api-2.7.2.jar\n",
            "spark-3.1.2-bin-hadoop3.2/jars/hive-shims-scheduler-2.3.7.jar\n",
            "spark-3.1.2-bin-hadoop3.2/jars/hive-shims-common-2.3.7.jar\n",
            "spark-3.1.2-bin-hadoop3.2/jars/hive-shims-2.3.7.jar\n",
            "spark-3.1.2-bin-hadoop3.2/jars/hive-shims-0.23-2.3.7.jar\n",
            "spark-3.1.2-bin-hadoop3.2/jars/hive-service-rpc-3.1.2.jar\n",
            "spark-3.1.2-bin-hadoop3.2/jars/hive-serde-2.3.7.jar\n",
            "spark-3.1.2-bin-hadoop3.2/jars/hive-metastore-2.3.7.jar\n",
            "spark-3.1.2-bin-hadoop3.2/jars/hive-llap-common-2.3.7.jar\n",
            "spark-3.1.2-bin-hadoop3.2/jars/hive-jdbc-2.3.7.jar\n",
            "spark-3.1.2-bin-hadoop3.2/jars/hive-exec-2.3.7-core.jar\n",
            "spark-3.1.2-bin-hadoop3.2/jars/hive-common-2.3.7.jar\n",
            "spark-3.1.2-bin-hadoop3.2/jars/hive-cli-2.3.7.jar\n",
            "spark-3.1.2-bin-hadoop3.2/jars/hive-beeline-2.3.7.jar\n",
            "spark-3.1.2-bin-hadoop3.2/jars/hadoop-yarn-server-web-proxy-3.2.0.jar\n",
            "spark-3.1.2-bin-hadoop3.2/jars/hadoop-yarn-server-common-3.2.0.jar\n",
            "spark-3.1.2-bin-hadoop3.2/jars/hadoop-yarn-registry-3.2.0.jar\n",
            "spark-3.1.2-bin-hadoop3.2/jars/hadoop-yarn-common-3.2.0.jar\n",
            "spark-3.1.2-bin-hadoop3.2/jars/hadoop-yarn-client-3.2.0.jar\n",
            "spark-3.1.2-bin-hadoop3.2/jars/hadoop-yarn-api-3.2.0.jar\n",
            "spark-3.1.2-bin-hadoop3.2/jars/hadoop-mapreduce-client-jobclient-3.2.0.jar\n",
            "spark-3.1.2-bin-hadoop3.2/jars/hadoop-mapreduce-client-core-3.2.0.jar\n",
            "spark-3.1.2-bin-hadoop3.2/jars/hadoop-mapreduce-client-common-3.2.0.jar\n",
            "spark-3.1.2-bin-hadoop3.2/jars/hadoop-hdfs-client-3.2.0.jar\n",
            "spark-3.1.2-bin-hadoop3.2/jars/hadoop-common-3.2.0.jar\n",
            "spark-3.1.2-bin-hadoop3.2/jars/hadoop-client-3.2.0.jar\n",
            "spark-3.1.2-bin-hadoop3.2/jars/hadoop-auth-3.2.0.jar\n",
            "spark-3.1.2-bin-hadoop3.2/jars/hadoop-annotations-3.2.0.jar\n",
            "spark-3.1.2-bin-hadoop3.2/jars/guice-servlet-4.0.jar\n",
            "spark-3.1.2-bin-hadoop3.2/jars/guice-4.0.jar\n",
            "spark-3.1.2-bin-hadoop3.2/jars/guava-14.0.1.jar\n",
            "spark-3.1.2-bin-hadoop3.2/jars/gson-2.2.4.jar\n",
            "spark-3.1.2-bin-hadoop3.2/jars/geronimo-jcache_1.0_spec-1.0-alpha-1.jar\n",
            "spark-3.1.2-bin-hadoop3.2/jars/generex-1.0.2.jar\n",
            "spark-3.1.2-bin-hadoop3.2/jars/flatbuffers-java-1.9.0.jar\n",
            "spark-3.1.2-bin-hadoop3.2/jars/ehcache-3.3.1.jar\n",
            "spark-3.1.2-bin-hadoop3.2/jars/dropwizard-metrics-hadoop-metrics2-reporter-0.1.2.jar\n",
            "spark-3.1.2-bin-hadoop3.2/jars/dnsjava-2.1.7.jar\n",
            "spark-3.1.2-bin-hadoop3.2/jars/derby-10.12.1.1.jar\n",
            "spark-3.1.2-bin-hadoop3.2/jars/datanucleus-rdbms-4.1.19.jar\n",
            "spark-3.1.2-bin-hadoop3.2/jars/datanucleus-core-4.1.17.jar\n",
            "spark-3.1.2-bin-hadoop3.2/jars/datanucleus-api-jdo-4.2.4.jar\n",
            "spark-3.1.2-bin-hadoop3.2/jars/curator-recipes-2.13.0.jar\n",
            "spark-3.1.2-bin-hadoop3.2/jars/curator-framework-2.13.0.jar\n",
            "spark-3.1.2-bin-hadoop3.2/jars/curator-client-2.13.0.jar\n",
            "spark-3.1.2-bin-hadoop3.2/jars/core-1.1.2.jar\n",
            "spark-3.1.2-bin-hadoop3.2/jars/compress-lzf-1.0.3.jar\n",
            "spark-3.1.2-bin-hadoop3.2/jars/commons-text-1.6.jar\n",
            "spark-3.1.2-bin-hadoop3.2/jars/commons-pool-1.5.4.jar\n",
            "spark-3.1.2-bin-hadoop3.2/jars/commons-net-3.1.jar\n",
            "spark-3.1.2-bin-hadoop3.2/jars/commons-math3-3.4.1.jar\n",
            "spark-3.1.2-bin-hadoop3.2/jars/commons-logging-1.1.3.jar\n",
            "spark-3.1.2-bin-hadoop3.2/jars/commons-lang3-3.10.jar\n",
            "spark-3.1.2-bin-hadoop3.2/jars/commons-lang-2.6.jar\n",
            "spark-3.1.2-bin-hadoop3.2/jars/commons-io-2.5.jar\n",
            "spark-3.1.2-bin-hadoop3.2/jars/commons-httpclient-3.1.jar\n",
            "spark-3.1.2-bin-hadoop3.2/jars/commons-dbcp-1.4.jar\n",
            "spark-3.1.2-bin-hadoop3.2/jars/commons-daemon-1.0.13.jar\n",
            "spark-3.1.2-bin-hadoop3.2/jars/commons-crypto-1.1.0.jar\n",
            "spark-3.1.2-bin-hadoop3.2/jars/commons-configuration2-2.1.1.jar\n",
            "spark-3.1.2-bin-hadoop3.2/jars/commons-compress-1.20.jar\n",
            "spark-3.1.2-bin-hadoop3.2/jars/commons-compiler-3.0.16.jar\n",
            "spark-3.1.2-bin-hadoop3.2/jars/commons-collections-3.2.2.jar\n",
            "spark-3.1.2-bin-hadoop3.2/jars/commons-codec-1.10.jar\n",
            "spark-3.1.2-bin-hadoop3.2/jars/commons-cli-1.2.jar\n",
            "spark-3.1.2-bin-hadoop3.2/jars/commons-beanutils-1.9.4.jar\n",
            "spark-3.1.2-bin-hadoop3.2/jars/chill_2.12-0.9.5.jar\n",
            "spark-3.1.2-bin-hadoop3.2/jars/chill-java-0.9.5.jar\n",
            "spark-3.1.2-bin-hadoop3.2/jars/cats-kernel_2.12-2.0.0-M4.jar\n",
            "spark-3.1.2-bin-hadoop3.2/jars/breeze_2.12-1.0.jar\n",
            "spark-3.1.2-bin-hadoop3.2/jars/breeze-macros_2.12-1.0.jar\n",
            "spark-3.1.2-bin-hadoop3.2/jars/bonecp-0.8.0.RELEASE.jar\n",
            "spark-3.1.2-bin-hadoop3.2/jars/avro-mapred-1.8.2-hadoop2.jar\n",
            "spark-3.1.2-bin-hadoop3.2/jars/avro-ipc-1.8.2.jar\n",
            "spark-3.1.2-bin-hadoop3.2/jars/avro-1.8.2.jar\n",
            "spark-3.1.2-bin-hadoop3.2/jars/automaton-1.11-8.jar\n",
            "spark-3.1.2-bin-hadoop3.2/jars/audience-annotations-0.5.0.jar\n",
            "spark-3.1.2-bin-hadoop3.2/jars/arrow-vector-2.0.0.jar\n",
            "spark-3.1.2-bin-hadoop3.2/jars/arrow-memory-netty-2.0.0.jar\n",
            "spark-3.1.2-bin-hadoop3.2/jars/arrow-memory-core-2.0.0.jar\n",
            "spark-3.1.2-bin-hadoop3.2/jars/arrow-format-2.0.0.jar\n",
            "spark-3.1.2-bin-hadoop3.2/jars/arpack_combined_all-0.1.jar\n",
            "spark-3.1.2-bin-hadoop3.2/jars/aopalliance-repackaged-2.6.1.jar\n",
            "spark-3.1.2-bin-hadoop3.2/jars/aopalliance-1.0.jar\n",
            "spark-3.1.2-bin-hadoop3.2/jars/antlr4-runtime-4.8-1.jar\n",
            "spark-3.1.2-bin-hadoop3.2/jars/antlr-runtime-3.5.2.jar\n",
            "spark-3.1.2-bin-hadoop3.2/jars/algebra_2.12-2.0.0-M2.jar\n",
            "spark-3.1.2-bin-hadoop3.2/jars/aircompressor-0.10.jar\n",
            "spark-3.1.2-bin-hadoop3.2/jars/activation-1.1.1.jar\n",
            "spark-3.1.2-bin-hadoop3.2/jars/accessors-smart-1.2.jar\n",
            "spark-3.1.2-bin-hadoop3.2/jars/ST4-4.0.4.jar\n",
            "spark-3.1.2-bin-hadoop3.2/jars/RoaringBitmap-0.9.0.jar\n",
            "spark-3.1.2-bin-hadoop3.2/jars/JTransforms-3.1.jar\n",
            "spark-3.1.2-bin-hadoop3.2/jars/JLargeArrays-1.5.jar\n",
            "spark-3.1.2-bin-hadoop3.2/jars/HikariCP-2.5.1.jar\n",
            "spark-3.1.2-bin-hadoop3.2/RELEASE\n"
          ]
        }
      ]
    },
    {
      "cell_type": "code",
      "metadata": {
        "colab": {
          "base_uri": "https://localhost:8080/"
        },
        "id": "_q4fcjNn3y0T",
        "outputId": "1be0df11-7f10-42c8-e403-1457f21d0868"
      },
      "source": [
        "!ls /content/spark-3.1.2-bin-hadoop3.2"
      ],
      "execution_count": null,
      "outputs": [
        {
          "output_type": "stream",
          "name": "stdout",
          "text": [
            "bin   data\tjars\t    LICENSE   NOTICE  R\t\t RELEASE  yarn\n",
            "conf  examples\tkubernetes  licenses  python  README.md  sbin\n"
          ]
        }
      ]
    },
    {
      "cell_type": "code",
      "metadata": {
        "colab": {
          "base_uri": "https://localhost:8080/"
        },
        "id": "6kTyqsYI3o9G",
        "outputId": "70bd77d6-dfd7-479d-9590-6f9877c77cb8"
      },
      "source": [
        "!pip install findspark"
      ],
      "execution_count": null,
      "outputs": [
        {
          "output_type": "stream",
          "name": "stdout",
          "text": [
            "Collecting findspark\n",
            "  Downloading findspark-1.4.2-py2.py3-none-any.whl (4.2 kB)\n",
            "Installing collected packages: findspark\n",
            "Successfully installed findspark-1.4.2\n"
          ]
        }
      ]
    },
    {
      "cell_type": "markdown",
      "metadata": {
        "id": "tALZQCvIxWUm"
      },
      "source": [
        "2/2 Setup GeoPandas\n",
        "\n",
        "*needed to process geospatial attributes.*"
      ]
    },
    {
      "cell_type": "code",
      "metadata": {
        "colab": {
          "base_uri": "https://localhost:8080/"
        },
        "id": "9T8z2hRZ-JdX",
        "outputId": "70633ae3-5fd2-4ece-c245-ea0086929537"
      },
      "source": [
        "# Important library for many geopython libraries\n",
        "!apt install gdal-bin python-gdal python3-gdal \n",
        "# Install rtree - Geopandas requirment\n",
        "!apt install python3-rtree \n",
        "# Install Geopandas\n",
        "!pip install git+git://github.com/geopandas/geopandas.git\n",
        "# Install descartes - Geopandas requirment\n",
        "!pip install descartes \n",
        "# Install Folium for Geographic data visualization\n",
        "!pip install folium\n",
        "# Install plotlyExpress\n",
        "!pip install plotly_express"
      ],
      "execution_count": null,
      "outputs": [
        {
          "output_type": "stream",
          "name": "stdout",
          "text": [
            "Reading package lists... Done\n",
            "Building dependency tree       \n",
            "Reading state information... Done\n",
            "gdal-bin is already the newest version (2.2.3+dfsg-2).\n",
            "python-gdal is already the newest version (2.2.3+dfsg-2).\n",
            "The following package was automatically installed and is no longer required:\n",
            "  libnvidia-common-460\n",
            "Use 'apt autoremove' to remove it.\n",
            "The following additional packages will be installed:\n",
            "  python3-numpy\n",
            "Suggested packages:\n",
            "  python-numpy-doc python3-nose python3-numpy-dbg\n",
            "The following NEW packages will be installed:\n",
            "  python3-gdal python3-numpy\n",
            "0 upgraded, 2 newly installed, 0 to remove and 37 not upgraded.\n",
            "Need to get 2,288 kB of archives.\n",
            "After this operation, 13.2 MB of additional disk space will be used.\n",
            "Get:1 http://archive.ubuntu.com/ubuntu bionic/main amd64 python3-numpy amd64 1:1.13.3-2ubuntu1 [1,943 kB]\n",
            "Get:2 http://archive.ubuntu.com/ubuntu bionic/universe amd64 python3-gdal amd64 2.2.3+dfsg-2 [346 kB]\n",
            "Fetched 2,288 kB in 1s (2,818 kB/s)\n",
            "Selecting previously unselected package python3-numpy.\n",
            "(Reading database ... 155062 files and directories currently installed.)\n",
            "Preparing to unpack .../python3-numpy_1%3a1.13.3-2ubuntu1_amd64.deb ...\n",
            "Unpacking python3-numpy (1:1.13.3-2ubuntu1) ...\n",
            "Selecting previously unselected package python3-gdal.\n",
            "Preparing to unpack .../python3-gdal_2.2.3+dfsg-2_amd64.deb ...\n",
            "Unpacking python3-gdal (2.2.3+dfsg-2) ...\n",
            "Setting up python3-numpy (1:1.13.3-2ubuntu1) ...\n",
            "Setting up python3-gdal (2.2.3+dfsg-2) ...\n",
            "Processing triggers for man-db (2.8.3-2ubuntu0.1) ...\n",
            "Reading package lists... Done\n",
            "Building dependency tree       \n",
            "Reading state information... Done\n",
            "The following package was automatically installed and is no longer required:\n",
            "  libnvidia-common-460\n",
            "Use 'apt autoremove' to remove it.\n",
            "The following additional packages will be installed:\n",
            "  libspatialindex-c4v5 libspatialindex-dev libspatialindex4v5\n",
            "  python3-pkg-resources\n",
            "Suggested packages:\n",
            "  python3-setuptools\n",
            "The following NEW packages will be installed:\n",
            "  libspatialindex-c4v5 libspatialindex-dev libspatialindex4v5\n",
            "  python3-pkg-resources python3-rtree\n",
            "0 upgraded, 5 newly installed, 0 to remove and 37 not upgraded.\n",
            "Need to get 671 kB of archives.\n",
            "After this operation, 3,948 kB of additional disk space will be used.\n",
            "Get:1 http://archive.ubuntu.com/ubuntu bionic/universe amd64 libspatialindex4v5 amd64 1.8.5-5 [219 kB]\n",
            "Get:2 http://archive.ubuntu.com/ubuntu bionic/universe amd64 libspatialindex-c4v5 amd64 1.8.5-5 [51.7 kB]\n",
            "Get:3 http://archive.ubuntu.com/ubuntu bionic/main amd64 python3-pkg-resources all 39.0.1-2 [98.8 kB]\n",
            "Get:4 http://archive.ubuntu.com/ubuntu bionic/universe amd64 libspatialindex-dev amd64 1.8.5-5 [285 kB]\n",
            "Get:5 http://archive.ubuntu.com/ubuntu bionic/universe amd64 python3-rtree all 0.8.3+ds-1 [16.9 kB]\n",
            "Fetched 671 kB in 1s (894 kB/s)\n",
            "Selecting previously unselected package libspatialindex4v5:amd64.\n",
            "(Reading database ... 155472 files and directories currently installed.)\n",
            "Preparing to unpack .../libspatialindex4v5_1.8.5-5_amd64.deb ...\n",
            "Unpacking libspatialindex4v5:amd64 (1.8.5-5) ...\n",
            "Selecting previously unselected package libspatialindex-c4v5:amd64.\n",
            "Preparing to unpack .../libspatialindex-c4v5_1.8.5-5_amd64.deb ...\n",
            "Unpacking libspatialindex-c4v5:amd64 (1.8.5-5) ...\n",
            "Selecting previously unselected package python3-pkg-resources.\n",
            "Preparing to unpack .../python3-pkg-resources_39.0.1-2_all.deb ...\n",
            "Unpacking python3-pkg-resources (39.0.1-2) ...\n",
            "Selecting previously unselected package libspatialindex-dev:amd64.\n",
            "Preparing to unpack .../libspatialindex-dev_1.8.5-5_amd64.deb ...\n",
            "Unpacking libspatialindex-dev:amd64 (1.8.5-5) ...\n",
            "Selecting previously unselected package python3-rtree.\n",
            "Preparing to unpack .../python3-rtree_0.8.3+ds-1_all.deb ...\n",
            "Unpacking python3-rtree (0.8.3+ds-1) ...\n",
            "Setting up libspatialindex4v5:amd64 (1.8.5-5) ...\n",
            "Setting up python3-pkg-resources (39.0.1-2) ...\n",
            "Setting up libspatialindex-c4v5:amd64 (1.8.5-5) ...\n",
            "Setting up libspatialindex-dev:amd64 (1.8.5-5) ...\n",
            "Setting up python3-rtree (0.8.3+ds-1) ...\n",
            "Processing triggers for libc-bin (2.27-3ubuntu1.3) ...\n",
            "/sbin/ldconfig.real: /usr/local/lib/python3.7/dist-packages/ideep4py/lib/libmkldnn.so.0 is not a symbolic link\n",
            "\n",
            "Collecting git+git://github.com/geopandas/geopandas.git\n",
            "  Cloning git://github.com/geopandas/geopandas.git to /tmp/pip-req-build-7eagv_jz\n",
            "  Running command git clone -q git://github.com/geopandas/geopandas.git /tmp/pip-req-build-7eagv_jz\n",
            "Requirement already satisfied: pandas>=0.25.0 in /usr/local/lib/python3.7/dist-packages (from geopandas==0.10.2+3.g528abfc) (1.1.5)\n",
            "Requirement already satisfied: shapely>=1.6 in /usr/local/lib/python3.7/dist-packages (from geopandas==0.10.2+3.g528abfc) (1.7.1)\n",
            "Collecting fiona>=1.8\n",
            "  Downloading Fiona-1.8.20-cp37-cp37m-manylinux1_x86_64.whl (15.4 MB)\n",
            "\u001b[K     |████████████████████████████████| 15.4 MB 39 kB/s \n",
            "\u001b[?25hCollecting pyproj>=2.2.0\n",
            "  Downloading pyproj-3.2.1-cp37-cp37m-manylinux2010_x86_64.whl (6.3 MB)\n",
            "\u001b[K     |████████████████████████████████| 6.3 MB 41.6 MB/s \n",
            "\u001b[?25hRequirement already satisfied: six>=1.7 in /usr/local/lib/python3.7/dist-packages (from fiona>=1.8->geopandas==0.10.2+3.g528abfc) (1.15.0)\n",
            "Requirement already satisfied: certifi in /usr/local/lib/python3.7/dist-packages (from fiona>=1.8->geopandas==0.10.2+3.g528abfc) (2021.5.30)\n",
            "Collecting click-plugins>=1.0\n",
            "  Downloading click_plugins-1.1.1-py2.py3-none-any.whl (7.5 kB)\n",
            "Requirement already satisfied: setuptools in /usr/local/lib/python3.7/dist-packages (from fiona>=1.8->geopandas==0.10.2+3.g528abfc) (57.4.0)\n",
            "Collecting cligj>=0.5\n",
            "  Downloading cligj-0.7.2-py3-none-any.whl (7.1 kB)\n",
            "Collecting munch\n",
            "  Downloading munch-2.5.0-py2.py3-none-any.whl (10 kB)\n",
            "Requirement already satisfied: attrs>=17 in /usr/local/lib/python3.7/dist-packages (from fiona>=1.8->geopandas==0.10.2+3.g528abfc) (21.2.0)\n",
            "Requirement already satisfied: click>=4.0 in /usr/local/lib/python3.7/dist-packages (from fiona>=1.8->geopandas==0.10.2+3.g528abfc) (7.1.2)\n",
            "Requirement already satisfied: python-dateutil>=2.7.3 in /usr/local/lib/python3.7/dist-packages (from pandas>=0.25.0->geopandas==0.10.2+3.g528abfc) (2.8.2)\n",
            "Requirement already satisfied: pytz>=2017.2 in /usr/local/lib/python3.7/dist-packages (from pandas>=0.25.0->geopandas==0.10.2+3.g528abfc) (2018.9)\n",
            "Requirement already satisfied: numpy>=1.15.4 in /usr/local/lib/python3.7/dist-packages (from pandas>=0.25.0->geopandas==0.10.2+3.g528abfc) (1.19.5)\n",
            "Building wheels for collected packages: geopandas\n",
            "  Building wheel for geopandas (setup.py) ... \u001b[?25l\u001b[?25hdone\n",
            "  Created wheel for geopandas: filename=geopandas-0.10.2+3.g528abfc-py2.py3-none-any.whl size=1031560 sha256=701e222cfd3ae046e89922f3be45b3834ca1d69ee16628bf19dd489f1e327b62\n",
            "  Stored in directory: /tmp/pip-ephem-wheel-cache-9d40rk4v/wheels/cf/3e/0b/6475054094c2b1ea054158ac1fdcf749fb92f5b512377e4cf8\n",
            "Successfully built geopandas\n",
            "Installing collected packages: munch, cligj, click-plugins, pyproj, fiona, geopandas\n",
            "Successfully installed click-plugins-1.1.1 cligj-0.7.2 fiona-1.8.20 geopandas-0.10.2+3.g528abfc munch-2.5.0 pyproj-3.2.1\n",
            "Requirement already satisfied: descartes in /usr/local/lib/python3.7/dist-packages (1.1.0)\n",
            "Requirement already satisfied: matplotlib in /usr/local/lib/python3.7/dist-packages (from descartes) (3.2.2)\n",
            "Requirement already satisfied: python-dateutil>=2.1 in /usr/local/lib/python3.7/dist-packages (from matplotlib->descartes) (2.8.2)\n",
            "Requirement already satisfied: cycler>=0.10 in /usr/local/lib/python3.7/dist-packages (from matplotlib->descartes) (0.10.0)\n",
            "Requirement already satisfied: pyparsing!=2.0.4,!=2.1.2,!=2.1.6,>=2.0.1 in /usr/local/lib/python3.7/dist-packages (from matplotlib->descartes) (2.4.7)\n",
            "Requirement already satisfied: numpy>=1.11 in /usr/local/lib/python3.7/dist-packages (from matplotlib->descartes) (1.19.5)\n",
            "Requirement already satisfied: kiwisolver>=1.0.1 in /usr/local/lib/python3.7/dist-packages (from matplotlib->descartes) (1.3.2)\n",
            "Requirement already satisfied: six in /usr/local/lib/python3.7/dist-packages (from cycler>=0.10->matplotlib->descartes) (1.15.0)\n",
            "Requirement already satisfied: folium in /usr/local/lib/python3.7/dist-packages (0.8.3)\n",
            "Requirement already satisfied: numpy in /usr/local/lib/python3.7/dist-packages (from folium) (1.19.5)\n",
            "Requirement already satisfied: jinja2 in /usr/local/lib/python3.7/dist-packages (from folium) (2.11.3)\n",
            "Requirement already satisfied: requests in /usr/local/lib/python3.7/dist-packages (from folium) (2.23.0)\n",
            "Requirement already satisfied: branca>=0.3.0 in /usr/local/lib/python3.7/dist-packages (from folium) (0.4.2)\n",
            "Requirement already satisfied: six in /usr/local/lib/python3.7/dist-packages (from folium) (1.15.0)\n",
            "Requirement already satisfied: MarkupSafe>=0.23 in /usr/local/lib/python3.7/dist-packages (from jinja2->folium) (2.0.1)\n",
            "Requirement already satisfied: idna<3,>=2.5 in /usr/local/lib/python3.7/dist-packages (from requests->folium) (2.10)\n",
            "Requirement already satisfied: certifi>=2017.4.17 in /usr/local/lib/python3.7/dist-packages (from requests->folium) (2021.5.30)\n",
            "Requirement already satisfied: chardet<4,>=3.0.2 in /usr/local/lib/python3.7/dist-packages (from requests->folium) (3.0.4)\n",
            "Requirement already satisfied: urllib3!=1.25.0,!=1.25.1,<1.26,>=1.21.1 in /usr/local/lib/python3.7/dist-packages (from requests->folium) (1.24.3)\n",
            "Collecting plotly_express\n",
            "  Downloading plotly_express-0.4.1-py2.py3-none-any.whl (2.9 kB)\n",
            "Requirement already satisfied: pandas>=0.20.0 in /usr/local/lib/python3.7/dist-packages (from plotly_express) (1.1.5)\n",
            "Requirement already satisfied: statsmodels>=0.9.0 in /usr/local/lib/python3.7/dist-packages (from plotly_express) (0.10.2)\n",
            "Requirement already satisfied: patsy>=0.5 in /usr/local/lib/python3.7/dist-packages (from plotly_express) (0.5.2)\n",
            "Requirement already satisfied: plotly>=4.1.0 in /usr/local/lib/python3.7/dist-packages (from plotly_express) (4.4.1)\n",
            "Requirement already satisfied: scipy>=0.18 in /usr/local/lib/python3.7/dist-packages (from plotly_express) (1.4.1)\n",
            "Requirement already satisfied: numpy>=1.11 in /usr/local/lib/python3.7/dist-packages (from plotly_express) (1.19.5)\n",
            "Requirement already satisfied: pytz>=2017.2 in /usr/local/lib/python3.7/dist-packages (from pandas>=0.20.0->plotly_express) (2018.9)\n",
            "Requirement already satisfied: python-dateutil>=2.7.3 in /usr/local/lib/python3.7/dist-packages (from pandas>=0.20.0->plotly_express) (2.8.2)\n",
            "Requirement already satisfied: six in /usr/local/lib/python3.7/dist-packages (from patsy>=0.5->plotly_express) (1.15.0)\n",
            "Requirement already satisfied: retrying>=1.3.3 in /usr/local/lib/python3.7/dist-packages (from plotly>=4.1.0->plotly_express) (1.3.3)\n",
            "Installing collected packages: plotly-express\n",
            "Successfully installed plotly-express-0.4.1\n"
          ]
        }
      ]
    },
    {
      "cell_type": "markdown",
      "metadata": {
        "id": "gARCniBFzYvt"
      },
      "source": [
        "## Read NYC taxi dataset"
      ]
    },
    {
      "cell_type": "markdown",
      "metadata": {
        "id": "UgIjc9OxDTxw"
      },
      "source": [
        "Initialize a Spark session"
      ]
    },
    {
      "cell_type": "code",
      "metadata": {
        "id": "At0ER3N_4Wdd"
      },
      "source": [
        "import os\n",
        "os.environ['SPARK_HOME'] = \"/content/spark-3.1.2-bin-hadoop3.2\"\n",
        "import findspark\n",
        "findspark.init()"
      ],
      "execution_count": null,
      "outputs": []
    },
    {
      "cell_type": "code",
      "metadata": {
        "id": "ovsGZHAa4pkh"
      },
      "source": [
        "from pyspark.sql import SparkSession\n",
        "spark = SparkSession.builder.appName(\"PySpark\").getOrCreate()"
      ],
      "execution_count": null,
      "outputs": []
    },
    {
      "cell_type": "markdown",
      "metadata": {
        "id": "mZ3-5nDR06qf"
      },
      "source": [
        "Read a sample of the NYC taxi dataset from http://www.andresmh.com/nyctaxitrips/"
      ]
    },
    {
      "cell_type": "code",
      "metadata": {
        "id": "HSDL4VCP42LG"
      },
      "source": [
        "# url = https://github.com/Nnawar7/Analyzing-NYC-Taxi/blob/main/sample.csv\n",
        "file_location = \"/content/sample.csv\"\n",
        "file_type=\"csv\"\n",
        "taxi_df = spark.read\\\n",
        "                .format(file_type)\\\n",
        "                .option(\"header\", \"true\")\\\n",
        "                .load(file_location)"
      ],
      "execution_count": null,
      "outputs": []
    },
    {
      "cell_type": "markdown",
      "metadata": {
        "id": "AuZtTygZDZkr"
      },
      "source": [
        "## Explore dataset"
      ]
    },
    {
      "cell_type": "markdown",
      "metadata": {
        "id": "N17hw5XP0A9d"
      },
      "source": [
        "Dump first n rows"
      ]
    },
    {
      "cell_type": "code",
      "metadata": {
        "colab": {
          "base_uri": "https://localhost:8080/"
        },
        "id": "G6LskF1A6fZ9",
        "outputId": "0a36540a-887a-40e1-8fb3-126e831dec61"
      },
      "source": [
        "taxi_df.show(2)"
      ],
      "execution_count": null,
      "outputs": [
        {
          "output_type": "stream",
          "name": "stdout",
          "text": [
            "+--------------------+--------------------+---------+---------+------------------+-------------------+-------------------+---------------+-----------------+-------------+----------------+---------------+-----------------+----------------+\n",
            "|           medallion|        hack_license|vendor_id|rate_code|store_and_fwd_flag|    pickup_datetime|   dropoff_datetime|passenger_count|trip_time_in_secs|trip_distance|pickup_longitude|pickup_latitude|dropoff_longitude|dropoff_latitude|\n",
            "+--------------------+--------------------+---------+---------+------------------+-------------------+-------------------+---------------+-----------------+-------------+----------------+---------------+-----------------+----------------+\n",
            "|89D227B655E5C82AE...|BA96DE419E711691B...|      CMT|        1|                 N|2013-01-01 15:11:48|2013-01-01 15:18:10|              4|              382|         1.00|      -73.978165|      40.757977|       -73.989838|       40.751171|\n",
            "|0BD7C8F5BA12B88E0...|9FD8F69F0804BDB55...|      CMT|        1|                 N|2013-01-06 00:18:35|2013-01-06 00:22:54|              1|              259|         1.50|      -74.006683|      40.731781|       -73.994499|        40.75066|\n",
            "+--------------------+--------------------+---------+---------+------------------+-------------------+-------------------+---------------+-----------------+-------------+----------------+---------------+-----------------+----------------+\n",
            "only showing top 2 rows\n",
            "\n"
          ]
        }
      ]
    },
    {
      "cell_type": "markdown",
      "metadata": {
        "id": "rElqQ_S60FAC"
      },
      "source": [
        "Print schema\n",
        "\n",
        "*Notice co-ordinates string data-type.*"
      ]
    },
    {
      "cell_type": "code",
      "metadata": {
        "colab": {
          "base_uri": "https://localhost:8080/"
        },
        "id": "fBdwFpMXklAz",
        "outputId": "0984dbfc-8b17-4d64-8f47-9862f2b6e395"
      },
      "source": [
        "taxi_df.printSchema() #longitude and latitude are strings"
      ],
      "execution_count": null,
      "outputs": [
        {
          "output_type": "stream",
          "name": "stdout",
          "text": [
            "root\n",
            " |-- medallion: string (nullable = true)\n",
            " |-- hack_license: string (nullable = true)\n",
            " |-- vendor_id: string (nullable = true)\n",
            " |-- rate_code: string (nullable = true)\n",
            " |-- store_and_fwd_flag: string (nullable = true)\n",
            " |-- pickup_datetime: string (nullable = true)\n",
            " |-- dropoff_datetime: string (nullable = true)\n",
            " |-- passenger_count: string (nullable = true)\n",
            " |-- trip_time_in_secs: string (nullable = true)\n",
            " |-- trip_distance: string (nullable = true)\n",
            " |-- pickup_longitude: string (nullable = true)\n",
            " |-- pickup_latitude: string (nullable = true)\n",
            " |-- dropoff_longitude: string (nullable = true)\n",
            " |-- dropoff_latitude: string (nullable = true)\n",
            "\n"
          ]
        }
      ]
    },
    {
      "cell_type": "markdown",
      "metadata": {
        "id": "NKpi7qbFcNqT"
      },
      "source": [
        "Print dataset size"
      ]
    },
    {
      "cell_type": "code",
      "metadata": {
        "colab": {
          "base_uri": "https://localhost:8080/"
        },
        "id": "rtG80qRU-AjW",
        "outputId": "828133a2-875c-4385-c927-358cee2d4c8e"
      },
      "source": [
        "taxi_df.count()"
      ],
      "execution_count": null,
      "outputs": [
        {
          "output_type": "execute_result",
          "data": {
            "text/plain": [
              "99999"
            ]
          },
          "metadata": {},
          "execution_count": 14
        }
      ]
    },
    {
      "cell_type": "markdown",
      "metadata": {
        "id": "912L5QmHW8wr"
      },
      "source": [
        "Checking for nulls "
      ]
    },
    {
      "cell_type": "code",
      "metadata": {
        "colab": {
          "base_uri": "https://localhost:8080/"
        },
        "id": "vEEJeg6ilRg-",
        "outputId": "4113780e-5ee3-4b90-8324-aaed60b99139"
      },
      "source": [
        "import pyspark.sql.functions as F\n",
        "for col_name in taxi_df.columns:\n",
        "    print(\"The count of null rows in column %s\" %col_name, taxi_df.where(F.col(col_name).isNull()).count())"
      ],
      "execution_count": null,
      "outputs": [
        {
          "output_type": "stream",
          "name": "stdout",
          "text": [
            "The count of null rows in column medallion 0\n",
            "The count of null rows in column hack_license 0\n",
            "The count of null rows in column vendor_id 0\n",
            "The count of null rows in column rate_code 0\n",
            "The count of null rows in column store_and_fwd_flag 99626\n",
            "The count of null rows in column pickup_datetime 0\n",
            "The count of null rows in column dropoff_datetime 0\n",
            "The count of null rows in column passenger_count 0\n",
            "The count of null rows in column trip_time_in_secs 0\n",
            "The count of null rows in column trip_distance 0\n",
            "The count of null rows in column pickup_longitude 0\n",
            "The count of null rows in column pickup_latitude 0\n",
            "The count of null rows in column dropoff_longitude 0\n",
            "The count of null rows in column dropoff_latitude 0\n"
          ]
        }
      ]
    },
    {
      "cell_type": "markdown",
      "metadata": {
        "id": "f8v74OfW0leJ"
      },
      "source": [
        "Checking for zeros\n",
        "\n",
        "*Notice trips with zero time/ pickup location/ dropoff location/ passengers.*"
      ]
    },
    {
      "cell_type": "code",
      "metadata": {
        "colab": {
          "base_uri": "https://localhost:8080/"
        },
        "id": "R1K98X570oby",
        "outputId": "8b767948-bbc3-44e8-9d89-6106433be605"
      },
      "source": [
        "for col_name in taxi_df.columns:\n",
        "    print(\"The count of zero rows in column %s\" %col_name, taxi_df.where(F.col(col_name) == \"0\").count())"
      ],
      "execution_count": null,
      "outputs": [
        {
          "output_type": "stream",
          "name": "stdout",
          "text": [
            "The count of zero rows in column medallion 0\n",
            "The count of zero rows in column hack_license 0\n",
            "The count of zero rows in column vendor_id 0\n",
            "The count of zero rows in column rate_code 0\n",
            "The count of zero rows in column store_and_fwd_flag 0\n",
            "The count of zero rows in column pickup_datetime 0\n",
            "The count of zero rows in column dropoff_datetime 0\n",
            "The count of zero rows in column passenger_count 1\n",
            "The count of zero rows in column trip_time_in_secs 449\n",
            "The count of zero rows in column trip_distance 0\n",
            "The count of zero rows in column pickup_longitude 1770\n",
            "The count of zero rows in column pickup_latitude 1749\n",
            "The count of zero rows in column dropoff_longitude 1917\n",
            "The count of zero rows in column dropoff_latitude 1901\n"
          ]
        }
      ]
    },
    {
      "cell_type": "markdown",
      "metadata": {
        "id": "bq9DGSNS1nv6"
      },
      "source": [
        "## Prepare dataset"
      ]
    },
    {
      "cell_type": "markdown",
      "metadata": {
        "id": "UMNin7W112T2"
      },
      "source": [
        "Drop rows with zero trip time/ co-ordinates/ passengers"
      ]
    },
    {
      "cell_type": "code",
      "metadata": {
        "colab": {
          "base_uri": "https://localhost:8080/"
        },
        "id": "HA2yzkEW12za",
        "outputId": "78a6f660-d77c-4c1a-93d8-4f1f68a3539f"
      },
      "source": [
        "cols_with_zeros = [\"passenger_count\", \"trip_time_in_secs\", \"pickup_longitude\", \"pickup_latitude\", \"dropoff_longitude\", \"dropoff_latitude\"]\n",
        "for col_name in cols_with_zeros:\n",
        "  print(\"Cleanup for: \", col_name)\n",
        "  print(\"Count before cleanup: \", taxi_df.count())\n",
        "  taxi_df = taxi_df.where(F.col(col_name) != \"0\")\n",
        "  print(\"Count after cleanup: %s \\n\" % taxi_df.count())"
      ],
      "execution_count": null,
      "outputs": [
        {
          "output_type": "stream",
          "name": "stdout",
          "text": [
            "Cleanup for:  passenger_count\n",
            "Count before cleanup:  99999\n",
            "Count after cleanup: 99998 \n",
            "\n",
            "Cleanup for:  trip_time_in_secs\n",
            "Count before cleanup:  99998\n",
            "Count after cleanup: 99549 \n",
            "\n",
            "Cleanup for:  pickup_longitude\n",
            "Count before cleanup:  99549\n",
            "Count after cleanup: 98043 \n",
            "\n",
            "Cleanup for:  pickup_latitude\n",
            "Count before cleanup:  98043\n",
            "Count after cleanup: 98042 \n",
            "\n",
            "Cleanup for:  dropoff_longitude\n",
            "Count before cleanup:  98042\n",
            "Count after cleanup: 97891 \n",
            "\n",
            "Cleanup for:  dropoff_latitude\n",
            "Count before cleanup:  97891\n",
            "Count after cleanup: 97888 \n",
            "\n"
          ]
        }
      ]
    },
    {
      "cell_type": "code",
      "metadata": {
        "colab": {
          "base_uri": "https://localhost:8080/"
        },
        "id": "JjwkpTifLyxz",
        "outputId": "d61f4c94-c04e-4a99-b50a-138e337d79c6"
      },
      "source": [
        "for col_name in taxi_df.columns:\n",
        "    print(\"The count of zero rows in column %s\" %col_name, taxi_df.where(F.col(col_name) == \"0\").count())"
      ],
      "execution_count": null,
      "outputs": [
        {
          "output_type": "stream",
          "name": "stdout",
          "text": [
            "The count of zero rows in column medallion 0\n",
            "The count of zero rows in column hack_license 0\n",
            "The count of zero rows in column vendor_id 0\n",
            "The count of zero rows in column rate_code 0\n",
            "The count of zero rows in column store_and_fwd_flag 0\n",
            "The count of zero rows in column pickup_datetime 0\n",
            "The count of zero rows in column dropoff_datetime 0\n",
            "The count of zero rows in column passenger_count 0\n",
            "The count of zero rows in column trip_time_in_secs 0\n",
            "The count of zero rows in column trip_distance 0\n",
            "The count of zero rows in column pickup_longitude 0\n",
            "The count of zero rows in column pickup_latitude 0\n",
            "The count of zero rows in column dropoff_longitude 0\n",
            "The count of zero rows in column dropoff_latitude 0\n"
          ]
        }
      ]
    },
    {
      "cell_type": "code",
      "metadata": {
        "colab": {
          "base_uri": "https://localhost:8080/"
        },
        "id": "k-KRuo6KKLhl",
        "outputId": "01bdac92-be18-46be-d1c7-0bd59e5e2ff2"
      },
      "source": [
        "taxi_df.count()"
      ],
      "execution_count": null,
      "outputs": [
        {
          "output_type": "execute_result",
          "data": {
            "text/plain": [
              "97888"
            ]
          },
          "metadata": {},
          "execution_count": 23
        }
      ]
    },
    {
      "cell_type": "markdown",
      "metadata": {
        "id": "C2fyCtcSW_ix"
      },
      "source": [
        "Drop unnecessary features"
      ]
    },
    {
      "cell_type": "code",
      "metadata": {
        "id": "lEg77kh7WOuA"
      },
      "source": [
        "taxi_df=taxi_df.drop(\"medallion\",\"vendor_id\",\"rate_code\",\"store_and_fwd_flag\",\"passenger_count\",\"trip_distance\")"
      ],
      "execution_count": null,
      "outputs": []
    },
    {
      "cell_type": "markdown",
      "metadata": {
        "id": "Ywqo-CLj2muv"
      },
      "source": [
        "Cast longitude and latitude to float"
      ]
    },
    {
      "cell_type": "code",
      "metadata": {
        "id": "2pQRBTrSyMvI"
      },
      "source": [
        "from pyspark.sql.types import FloatType\n",
        "taxi_df= taxi_df.withColumn(\"pickup_latitude\", taxi_df[\"pickup_latitude\"].cast(FloatType()))\\\n",
        "     .withColumn(\"pickup_longitude\",taxi_df[\"pickup_longitude\"].cast(FloatType()))\\\n",
        "     .withColumn(\"dropoff_longitude\",taxi_df[\"dropoff_longitude\"].cast(FloatType()))\\\n",
        "     .withColumn(\"dropoff_latitude\",taxi_df[\"dropoff_latitude\"].cast(FloatType()))"
      ],
      "execution_count": null,
      "outputs": []
    },
    {
      "cell_type": "code",
      "metadata": {
        "colab": {
          "base_uri": "https://localhost:8080/"
        },
        "id": "DSLxznusxxJw",
        "outputId": "e4ffc9ff-4457-40e3-d7c6-c1eba8af5f9d"
      },
      "source": [
        "taxi_df.printSchema()"
      ],
      "execution_count": null,
      "outputs": [
        {
          "output_type": "stream",
          "name": "stdout",
          "text": [
            "root\n",
            " |-- hack_license: string (nullable = true)\n",
            " |-- pickup_datetime: string (nullable = true)\n",
            " |-- dropoff_datetime: string (nullable = true)\n",
            " |-- trip_time_in_secs: string (nullable = true)\n",
            " |-- pickup_longitude: float (nullable = true)\n",
            " |-- pickup_latitude: float (nullable = true)\n",
            " |-- dropoff_longitude: float (nullable = true)\n",
            " |-- dropoff_latitude: float (nullable = true)\n",
            "\n"
          ]
        }
      ]
    },
    {
      "cell_type": "markdown",
      "metadata": {
        "id": "NcWiBGaxDgxw"
      },
      "source": [
        "## Read GeoJson data"
      ]
    },
    {
      "cell_type": "code",
      "metadata": {
        "id": "Gvnuy7Wm-YB4"
      },
      "source": [
        "import pandas as pd\n",
        "import geopandas as gpd\n",
        "from geopandas import GeoDataFrame # Loading boundaries Data\n",
        "from shapely.geometry import Point, Polygon, shape, LineString"
      ],
      "execution_count": null,
      "outputs": []
    },
    {
      "cell_type": "code",
      "metadata": {
        "id": "TBPibQGwNNI3"
      },
      "source": [
        "geo_df = GeoDataFrame.from_file('/content/nyc-boroughs.geojson')"
      ],
      "execution_count": null,
      "outputs": []
    },
    {
      "cell_type": "markdown",
      "metadata": {
        "id": "tVduGlOUEI92"
      },
      "source": [
        "## Explore GeoJson data"
      ]
    },
    {
      "cell_type": "code",
      "metadata": {
        "colab": {
          "base_uri": "https://localhost:8080/",
          "height": 204
        },
        "id": "_Wsg0LWqMo5V",
        "outputId": "d4ffb2e0-7932-4914-8470-0c457bb34b7c"
      },
      "source": [
        "geo_df.head(5)"
      ],
      "execution_count": null,
      "outputs": [
        {
          "output_type": "execute_result",
          "data": {
            "text/html": [
              "<div>\n",
              "<style scoped>\n",
              "    .dataframe tbody tr th:only-of-type {\n",
              "        vertical-align: middle;\n",
              "    }\n",
              "\n",
              "    .dataframe tbody tr th {\n",
              "        vertical-align: top;\n",
              "    }\n",
              "\n",
              "    .dataframe thead th {\n",
              "        text-align: right;\n",
              "    }\n",
              "</style>\n",
              "<table border=\"1\" class=\"dataframe\">\n",
              "  <thead>\n",
              "    <tr style=\"text-align: right;\">\n",
              "      <th></th>\n",
              "      <th>boroughCode</th>\n",
              "      <th>borough</th>\n",
              "      <th>@id</th>\n",
              "      <th>geometry</th>\n",
              "    </tr>\n",
              "  </thead>\n",
              "  <tbody>\n",
              "    <tr>\n",
              "      <th>0</th>\n",
              "      <td>5</td>\n",
              "      <td>Staten Island</td>\n",
              "      <td>http://nyc.pediacities.com/Resource/Borough/St...</td>\n",
              "      <td>POLYGON ((-74.05051 40.56642, -74.04998 40.566...</td>\n",
              "    </tr>\n",
              "    <tr>\n",
              "      <th>1</th>\n",
              "      <td>5</td>\n",
              "      <td>Staten Island</td>\n",
              "      <td>http://nyc.pediacities.com/Resource/Borough/St...</td>\n",
              "      <td>POLYGON ((-74.05314 40.57770, -74.05406 40.577...</td>\n",
              "    </tr>\n",
              "    <tr>\n",
              "      <th>2</th>\n",
              "      <td>5</td>\n",
              "      <td>Staten Island</td>\n",
              "      <td>http://nyc.pediacities.com/Resource/Borough/St...</td>\n",
              "      <td>POLYGON ((-74.15946 40.64145, -74.15998 40.641...</td>\n",
              "    </tr>\n",
              "    <tr>\n",
              "      <th>3</th>\n",
              "      <td>5</td>\n",
              "      <td>Staten Island</td>\n",
              "      <td>http://nyc.pediacities.com/Resource/Borough/St...</td>\n",
              "      <td>POLYGON ((-74.08221 40.64828, -74.08142 40.648...</td>\n",
              "    </tr>\n",
              "    <tr>\n",
              "      <th>4</th>\n",
              "      <td>4</td>\n",
              "      <td>Queens</td>\n",
              "      <td>http://nyc.pediacities.com/Resource/Borough/Qu...</td>\n",
              "      <td>POLYGON ((-73.83668 40.59495, -73.83671 40.594...</td>\n",
              "    </tr>\n",
              "  </tbody>\n",
              "</table>\n",
              "</div>"
            ],
            "text/plain": [
              "   boroughCode  ...                                           geometry\n",
              "0            5  ...  POLYGON ((-74.05051 40.56642, -74.04998 40.566...\n",
              "1            5  ...  POLYGON ((-74.05314 40.57770, -74.05406 40.577...\n",
              "2            5  ...  POLYGON ((-74.15946 40.64145, -74.15998 40.641...\n",
              "3            5  ...  POLYGON ((-74.08221 40.64828, -74.08142 40.648...\n",
              "4            4  ...  POLYGON ((-73.83668 40.59495, -73.83671 40.594...\n",
              "\n",
              "[5 rows x 4 columns]"
            ]
          },
          "metadata": {},
          "execution_count": 29
        }
      ]
    },
    {
      "cell_type": "code",
      "metadata": {
        "colab": {
          "base_uri": "https://localhost:8080/"
        },
        "id": "fwOU_J7yP6Bq",
        "outputId": "083f41eb-e9f6-46b6-8636-1b377dad54fc"
      },
      "source": [
        "geo_df['geometry']"
      ],
      "execution_count": null,
      "outputs": [
        {
          "output_type": "execute_result",
          "data": {
            "text/plain": [
              "0      POLYGON ((-74.05051 40.56642, -74.04998 40.566...\n",
              "1      POLYGON ((-74.05314 40.57770, -74.05406 40.577...\n",
              "2      POLYGON ((-74.15946 40.64145, -74.15998 40.641...\n",
              "3      POLYGON ((-74.08221 40.64828, -74.08142 40.648...\n",
              "4      POLYGON ((-73.83668 40.59495, -73.83671 40.594...\n",
              "                             ...                        \n",
              "99     POLYGON ((-73.78103 40.87648, -73.78121 40.876...\n",
              "100    POLYGON ((-73.78651 40.88094, -73.78582 40.880...\n",
              "101    POLYGON ((-73.87295 40.90444, -73.85947 40.900...\n",
              "102    POLYGON ((-73.80518 40.81527, -73.80508 40.815...\n",
              "103    POLYGON ((-73.80408 40.81349, -73.80424 40.813...\n",
              "Name: geometry, Length: 104, dtype: geometry"
            ]
          },
          "metadata": {},
          "execution_count": 30
        }
      ]
    },
    {
      "cell_type": "code",
      "metadata": {
        "colab": {
          "base_uri": "https://localhost:8080/"
        },
        "id": "V0tW03MnWML2",
        "outputId": "f4af93f1-1bc2-4e5a-a519-0cb9f7819ef3"
      },
      "source": [
        "geo_df.isnull().sum()"
      ],
      "execution_count": null,
      "outputs": [
        {
          "output_type": "execute_result",
          "data": {
            "text/plain": [
              "boroughCode    0\n",
              "borough        0\n",
              "@id            0\n",
              "geometry       0\n",
              "dtype: int64"
            ]
          },
          "metadata": {},
          "execution_count": 31
        }
      ]
    },
    {
      "cell_type": "code",
      "metadata": {
        "colab": {
          "base_uri": "https://localhost:8080/"
        },
        "id": "Ssh4VL9UNnGH",
        "outputId": "73aa4e0d-9ade-4261-85cc-b6a16fa5c56b"
      },
      "source": [
        "geo_df.info()"
      ],
      "execution_count": null,
      "outputs": [
        {
          "output_type": "stream",
          "name": "stdout",
          "text": [
            "<class 'geopandas.geodataframe.GeoDataFrame'>\n",
            "RangeIndex: 104 entries, 0 to 103\n",
            "Data columns (total 4 columns):\n",
            " #   Column       Non-Null Count  Dtype   \n",
            "---  ------       --------------  -----   \n",
            " 0   boroughCode  104 non-null    int64   \n",
            " 1   borough      104 non-null    object  \n",
            " 2   @id          104 non-null    object  \n",
            " 3   geometry     104 non-null    geometry\n",
            "dtypes: geometry(1), int64(1), object(2)\n",
            "memory usage: 3.4+ KB\n"
          ]
        }
      ]
    },
    {
      "cell_type": "code",
      "metadata": {
        "colab": {
          "base_uri": "https://localhost:8080/"
        },
        "id": "c4t96Pp3_BGb",
        "outputId": "f38fcdc0-1b19-416e-9a82-8abac7af48c3"
      },
      "source": [
        "len(geo_df)"
      ],
      "execution_count": null,
      "outputs": [
        {
          "output_type": "execute_result",
          "data": {
            "text/plain": [
              "104"
            ]
          },
          "metadata": {},
          "execution_count": 33
        }
      ]
    },
    {
      "cell_type": "code",
      "metadata": {
        "colab": {
          "base_uri": "https://localhost:8080/",
          "height": 204
        },
        "id": "AjS8noxFSUWi",
        "outputId": "aae0b667-3f11-4825-ccdc-aca1993f3b7c"
      },
      "source": [
        "geo_df_no_dups = geo_df.drop_duplicates(subset=['boroughCode','borough'])\n",
        "geo_df_no_dups"
      ],
      "execution_count": null,
      "outputs": [
        {
          "output_type": "execute_result",
          "data": {
            "text/html": [
              "<div>\n",
              "<style scoped>\n",
              "    .dataframe tbody tr th:only-of-type {\n",
              "        vertical-align: middle;\n",
              "    }\n",
              "\n",
              "    .dataframe tbody tr th {\n",
              "        vertical-align: top;\n",
              "    }\n",
              "\n",
              "    .dataframe thead th {\n",
              "        text-align: right;\n",
              "    }\n",
              "</style>\n",
              "<table border=\"1\" class=\"dataframe\">\n",
              "  <thead>\n",
              "    <tr style=\"text-align: right;\">\n",
              "      <th></th>\n",
              "      <th>boroughCode</th>\n",
              "      <th>borough</th>\n",
              "      <th>@id</th>\n",
              "      <th>geometry</th>\n",
              "    </tr>\n",
              "  </thead>\n",
              "  <tbody>\n",
              "    <tr>\n",
              "      <th>0</th>\n",
              "      <td>5</td>\n",
              "      <td>Staten Island</td>\n",
              "      <td>http://nyc.pediacities.com/Resource/Borough/St...</td>\n",
              "      <td>POLYGON ((-74.05051 40.56642, -74.04998 40.566...</td>\n",
              "    </tr>\n",
              "    <tr>\n",
              "      <th>4</th>\n",
              "      <td>4</td>\n",
              "      <td>Queens</td>\n",
              "      <td>http://nyc.pediacities.com/Resource/Borough/Qu...</td>\n",
              "      <td>POLYGON ((-73.83668 40.59495, -73.83671 40.594...</td>\n",
              "    </tr>\n",
              "    <tr>\n",
              "      <th>24</th>\n",
              "      <td>3</td>\n",
              "      <td>Brooklyn</td>\n",
              "      <td>http://nyc.pediacities.com/Resource/Borough/Br...</td>\n",
              "      <td>POLYGON ((-73.86706 40.58209, -73.86815 40.581...</td>\n",
              "    </tr>\n",
              "    <tr>\n",
              "      <th>45</th>\n",
              "      <td>1</td>\n",
              "      <td>Manhattan</td>\n",
              "      <td>http://nyc.pediacities.com/Resource/Borough/Ma...</td>\n",
              "      <td>POLYGON ((-74.01093 40.68449, -74.01193 40.683...</td>\n",
              "    </tr>\n",
              "    <tr>\n",
              "      <th>74</th>\n",
              "      <td>2</td>\n",
              "      <td>Bronx</td>\n",
              "      <td>http://nyc.pediacities.com/Resource/Borough/Bronx</td>\n",
              "      <td>POLYGON ((-73.89681 40.79581, -73.89694 40.795...</td>\n",
              "    </tr>\n",
              "  </tbody>\n",
              "</table>\n",
              "</div>"
            ],
            "text/plain": [
              "    boroughCode  ...                                           geometry\n",
              "0             5  ...  POLYGON ((-74.05051 40.56642, -74.04998 40.566...\n",
              "4             4  ...  POLYGON ((-73.83668 40.59495, -73.83671 40.594...\n",
              "24            3  ...  POLYGON ((-73.86706 40.58209, -73.86815 40.581...\n",
              "45            1  ...  POLYGON ((-74.01093 40.68449, -74.01193 40.683...\n",
              "74            2  ...  POLYGON ((-73.89681 40.79581, -73.89694 40.795...\n",
              "\n",
              "[5 rows x 4 columns]"
            ]
          },
          "metadata": {},
          "execution_count": 34
        }
      ]
    },
    {
      "cell_type": "code",
      "metadata": {
        "colab": {
          "base_uri": "https://localhost:8080/"
        },
        "id": "awQrUASa1Otw",
        "outputId": "598fa58a-2ccc-47ea-ad22-f0e7da351b6f"
      },
      "source": [
        "len(geo_df), len(geo_df_no_dups)"
      ],
      "execution_count": null,
      "outputs": [
        {
          "output_type": "execute_result",
          "data": {
            "text/plain": [
              "(104, 5)"
            ]
          },
          "metadata": {},
          "execution_count": 35
        }
      ]
    },
    {
      "cell_type": "markdown",
      "metadata": {
        "id": "1Dcqob_zEa67"
      },
      "source": [
        "## Enrich Main dataset with GeoJson data"
      ]
    },
    {
      "cell_type": "markdown",
      "metadata": {
        "id": "-G5p6DaiQWs8"
      },
      "source": [
        "#### **Joining the dataframes**: 0-*geodataframes*"
      ]
    },
    {
      "cell_type": "markdown",
      "metadata": {
        "id": "d3nsaThf46RY"
      },
      "source": [
        "Convert main dataset dataframe to geodataframe\n"
      ]
    },
    {
      "cell_type": "code",
      "metadata": {
        "id": "O8Dx0ujcIQYV"
      },
      "source": [
        "def spark_df_to_geopandas(sdf):\n",
        "  df = sdf.toPandas()\n",
        "  gdf = gpd.GeoDataFrame(\n",
        "    df.drop([\"pickup_longitude\", \"pickup_latitude\"], axis=1),\n",
        "    crs={'init': 'epsg:4326'},\n",
        "    geometry=[Point(xy) for xy in zip(df.pickup_longitude, df.pickup_latitude)])\n",
        "  return gdf"
      ],
      "execution_count": null,
      "outputs": []
    },
    {
      "cell_type": "code",
      "metadata": {
        "colab": {
          "base_uri": "https://localhost:8080/"
        },
        "id": "2D-RgjSQO5Q2",
        "outputId": "8fdc52fd-52f7-4b0f-d1d4-c3a920082948"
      },
      "source": [
        "nyc_gdf=spark_df_to_geopandas(taxi_df)"
      ],
      "execution_count": null,
      "outputs": [
        {
          "output_type": "stream",
          "name": "stderr",
          "text": [
            "/usr/local/lib/python3.7/dist-packages/pyproj/crs/crs.py:131: FutureWarning: '+init=<authority>:<code>' syntax is deprecated. '<authority>:<code>' is the preferred initialization method. When making the change, be mindful of axis order changes: https://pyproj4.github.io/pyproj/stable/gotchas.html#axis-order-changes-in-proj-6\n",
            "  in_crs_string = _prepare_from_proj_string(in_crs_string)\n"
          ]
        }
      ]
    },
    {
      "cell_type": "markdown",
      "metadata": {
        "id": "-J4ZhTZY5Dzb"
      },
      "source": [
        "Remove unnecessary columns"
      ]
    },
    {
      "cell_type": "code",
      "metadata": {
        "id": "0XbOCe5w7X94"
      },
      "source": [
        "nyc_gdf=nyc_gdf.drop(['dropoff_longitude','dropoff_latitude'],axis=1)"
      ],
      "execution_count": null,
      "outputs": []
    },
    {
      "cell_type": "code",
      "metadata": {
        "id": "eH6vNgQx7l7e"
      },
      "source": [
        "geo_df=geo_df.drop(['@id'],axis=1)"
      ],
      "execution_count": null,
      "outputs": []
    },
    {
      "cell_type": "markdown",
      "metadata": {
        "id": "4GKzZxEA5gFN"
      },
      "source": [
        "Inner join via within condition"
      ]
    },
    {
      "cell_type": "code",
      "metadata": {
        "colab": {
          "base_uri": "https://localhost:8080/"
        },
        "id": "caPhhXI4x2UB",
        "outputId": "094f0783-b5a0-4bad-844e-e41a2e1e81ee"
      },
      "source": [
        "enriched_via_geodataframe_join = nyc_gdf.sjoin((geo_df), how=\"inner\", op=\"within\")"
      ],
      "execution_count": null,
      "outputs": [
        {
          "output_type": "stream",
          "name": "stderr",
          "text": [
            "/usr/local/lib/python3.7/dist-packages/IPython/core/interactiveshell.py:2882: FutureWarning: The `op` parameter is deprecated and will be removed in a future release. Please use the `predicate` parameter instead.\n",
            "  exec(code_obj, self.user_global_ns, self.user_ns)\n",
            "/usr/local/lib/python3.7/dist-packages/geopandas/geodataframe.py:1938: UserWarning: CRS mismatch between the CRS of left geometries and the CRS of right geometries.\n",
            "Use `to_crs()` to reproject one of the input geometries to match the CRS of the other.\n",
            "\n",
            "Left CRS: +init=epsg:4326 +type=crs\n",
            "Right CRS: EPSG:4326\n",
            "\n",
            "  return geopandas.sjoin(left_df=self, right_df=df, *args, **kwargs)\n"
          ]
        }
      ]
    },
    {
      "cell_type": "code",
      "metadata": {
        "colab": {
          "base_uri": "https://localhost:8080/",
          "height": 204
        },
        "id": "CDeWWtxx41JS",
        "outputId": "b4153992-4de3-4d46-ed1d-d351b39ef6a6"
      },
      "source": [
        "enriched_via_geodataframe_join.head(5)"
      ],
      "execution_count": null,
      "outputs": [
        {
          "output_type": "execute_result",
          "data": {
            "text/html": [
              "<div>\n",
              "<style scoped>\n",
              "    .dataframe tbody tr th:only-of-type {\n",
              "        vertical-align: middle;\n",
              "    }\n",
              "\n",
              "    .dataframe tbody tr th {\n",
              "        vertical-align: top;\n",
              "    }\n",
              "\n",
              "    .dataframe thead th {\n",
              "        text-align: right;\n",
              "    }\n",
              "</style>\n",
              "<table border=\"1\" class=\"dataframe\">\n",
              "  <thead>\n",
              "    <tr style=\"text-align: right;\">\n",
              "      <th></th>\n",
              "      <th>hack_license</th>\n",
              "      <th>pickup_datetime</th>\n",
              "      <th>dropoff_datetime</th>\n",
              "      <th>trip_time_in_secs</th>\n",
              "      <th>geometry</th>\n",
              "      <th>index_right</th>\n",
              "      <th>boroughCode</th>\n",
              "      <th>borough</th>\n",
              "    </tr>\n",
              "  </thead>\n",
              "  <tbody>\n",
              "    <tr>\n",
              "      <th>0</th>\n",
              "      <td>BA96DE419E711691B9445D6A6307C170</td>\n",
              "      <td>2013-01-01 15:11:48</td>\n",
              "      <td>2013-01-01 15:18:10</td>\n",
              "      <td>382</td>\n",
              "      <td>POINT (-73.97816 40.75798)</td>\n",
              "      <td>72</td>\n",
              "      <td>1</td>\n",
              "      <td>Manhattan</td>\n",
              "    </tr>\n",
              "    <tr>\n",
              "      <th>1</th>\n",
              "      <td>9FD8F69F0804BDB5549F40E9DA1BE472</td>\n",
              "      <td>2013-01-06 00:18:35</td>\n",
              "      <td>2013-01-06 00:22:54</td>\n",
              "      <td>259</td>\n",
              "      <td>POINT (-74.00668 40.73178)</td>\n",
              "      <td>72</td>\n",
              "      <td>1</td>\n",
              "      <td>Manhattan</td>\n",
              "    </tr>\n",
              "    <tr>\n",
              "      <th>2</th>\n",
              "      <td>9FD8F69F0804BDB5549F40E9DA1BE472</td>\n",
              "      <td>2013-01-05 18:49:41</td>\n",
              "      <td>2013-01-05 18:54:23</td>\n",
              "      <td>282</td>\n",
              "      <td>POINT (-74.00471 40.73777)</td>\n",
              "      <td>72</td>\n",
              "      <td>1</td>\n",
              "      <td>Manhattan</td>\n",
              "    </tr>\n",
              "    <tr>\n",
              "      <th>3</th>\n",
              "      <td>51EE87E3205C985EF8431D850C786310</td>\n",
              "      <td>2013-01-07 23:54:15</td>\n",
              "      <td>2013-01-07 23:58:20</td>\n",
              "      <td>244</td>\n",
              "      <td>POINT (-73.97460 40.75994)</td>\n",
              "      <td>72</td>\n",
              "      <td>1</td>\n",
              "      <td>Manhattan</td>\n",
              "    </tr>\n",
              "    <tr>\n",
              "      <th>4</th>\n",
              "      <td>51EE87E3205C985EF8431D850C786310</td>\n",
              "      <td>2013-01-07 23:25:03</td>\n",
              "      <td>2013-01-07 23:34:24</td>\n",
              "      <td>560</td>\n",
              "      <td>POINT (-73.97625 40.74853)</td>\n",
              "      <td>72</td>\n",
              "      <td>1</td>\n",
              "      <td>Manhattan</td>\n",
              "    </tr>\n",
              "  </tbody>\n",
              "</table>\n",
              "</div>"
            ],
            "text/plain": [
              "                       hack_license  ...    borough\n",
              "0  BA96DE419E711691B9445D6A6307C170  ...  Manhattan\n",
              "1  9FD8F69F0804BDB5549F40E9DA1BE472  ...  Manhattan\n",
              "2  9FD8F69F0804BDB5549F40E9DA1BE472  ...  Manhattan\n",
              "3  51EE87E3205C985EF8431D850C786310  ...  Manhattan\n",
              "4  51EE87E3205C985EF8431D850C786310  ...  Manhattan\n",
              "\n",
              "[5 rows x 8 columns]"
            ]
          },
          "metadata": {},
          "execution_count": 41
        }
      ]
    },
    {
      "cell_type": "code",
      "metadata": {
        "colab": {
          "base_uri": "https://localhost:8080/"
        },
        "id": "UEmdb5et72Qr",
        "outputId": "8d9f7b5e-64d0-4fde-edcf-f6e832adfc62"
      },
      "source": [
        "enriched_via_geodataframe_join['borough'].isnull().sum()"
      ],
      "execution_count": null,
      "outputs": [
        {
          "output_type": "execute_result",
          "data": {
            "text/plain": [
              "0"
            ]
          },
          "metadata": {},
          "execution_count": 42
        }
      ]
    },
    {
      "cell_type": "code",
      "metadata": {
        "colab": {
          "base_uri": "https://localhost:8080/"
        },
        "id": "BG2jGqFx8LT_",
        "outputId": "edc28f4b-1b90-459b-874a-0fe8c15918f2"
      },
      "source": [
        "enriched_via_geodataframe_join.info()"
      ],
      "execution_count": null,
      "outputs": [
        {
          "output_type": "stream",
          "name": "stdout",
          "text": [
            "<class 'geopandas.geodataframe.GeoDataFrame'>\n",
            "Int64Index: 97747 entries, 0 to 69802\n",
            "Data columns (total 8 columns):\n",
            " #   Column             Non-Null Count  Dtype   \n",
            "---  ------             --------------  -----   \n",
            " 0   hack_license       97747 non-null  object  \n",
            " 1   pickup_datetime    97747 non-null  object  \n",
            " 2   dropoff_datetime   97747 non-null  object  \n",
            " 3   trip_time_in_secs  97747 non-null  object  \n",
            " 4   geometry           97747 non-null  geometry\n",
            " 5   index_right        97747 non-null  int64   \n",
            " 6   boroughCode        97747 non-null  int64   \n",
            " 7   borough            97747 non-null  object  \n",
            "dtypes: geometry(1), int64(2), object(5)\n",
            "memory usage: 6.7+ MB\n"
          ]
        }
      ]
    },
    {
      "cell_type": "markdown",
      "metadata": {
        "id": "RuYvveuaFeSH"
      },
      "source": [
        "#### **Joining the dataframes**: 1-*two-dimensional loop*\n"
      ]
    },
    {
      "cell_type": "markdown",
      "metadata": {
        "id": "AXteo_tJ3mrY"
      },
      "source": [
        "does the polygon contain the point?"
      ]
    },
    {
      "cell_type": "code",
      "metadata": {
        "id": "t0ptHgwv3rY-"
      },
      "source": [
        "def contains(Point_X, Point_Y, Polygon):\n",
        "  point = geometry.Point(Point_X, Point_Y)\n",
        "  line = geometry.LineString(Polygon)\n",
        "  polygon = geometry.Polygon(line)\n",
        "  polygon.contains(point)"
      ],
      "execution_count": null,
      "outputs": []
    },
    {
      "cell_type": "markdown",
      "metadata": {
        "id": "2l5rQppu3_ed"
      },
      "source": [
        "manually test shapely contains with specific point and polygon"
      ]
    },
    {
      "cell_type": "code",
      "metadata": {
        "colab": {
          "base_uri": "https://localhost:8080/"
        },
        "id": "j9FU1Nt14C6h",
        "outputId": "11a8754a-3bba-4b08-ad78-7297aa4b261f"
      },
      "source": [
        "Point_X = -73.978165\n",
        "Point_Y = 40.757977\n",
        "point = Point(Point_X, Point_Y)\n",
        "print(point)\n",
        "print(geo_df['geometry'][0].contains(point))"
      ],
      "execution_count": null,
      "outputs": [
        {
          "output_type": "stream",
          "name": "stdout",
          "text": [
            "POINT (-73.978165 40.757977)\n",
            "False\n"
          ]
        }
      ]
    },
    {
      "cell_type": "markdown",
      "metadata": {
        "id": "M9Y18YTt4MPT"
      },
      "source": [
        "loop on geoJson data inside another loop on main dataset \n",
        "\n",
        "*worst performance and it gets only pickup borough!*"
      ]
    },
    {
      "cell_type": "code",
      "metadata": {
        "colab": {
          "base_uri": "https://localhost:8080/"
        },
        "id": "69TMPYjxTVhP",
        "outputId": "69b2d731-31de-468c-cfa8-54e01ac67839"
      },
      "source": [
        "def get_pickup_borough(row):\n",
        "  point = Point(float(row['pickup_longitude']), float(row['pickup_latitude']))\n",
        "  borough = \"\"\n",
        "  for key, polygon in enumerate(geo_df['geometry']):\n",
        "    if (polygon.contains(point)):\n",
        "      borough = geo_df[\"borough\"][key]\n",
        "      break\n",
        "  # if (borough == \"\"):\n",
        "  #   print(\"failed coordinates: \", row['pickup_longitude'], row['pickup_latitude'])\n",
        "  return (row[\"pickup_longitude\"], row[\"pickup_latitude\"], borough)\n",
        "\n",
        "\n",
        "enriched_2d = taxi_df.rdd.map(get_pickup_borough).toDF([\"pickup_longitude\", \"pickup_latitude\", \"pickup_borough\"])\n",
        "enriched_2d.show(2)\n",
        "# notice the empty borough in the last table, need to look into that further.\n",
        "enriched_2d.groupby(['pickup_borough']).count().limit(5).show()"
      ],
      "execution_count": null,
      "outputs": [
        {
          "output_type": "stream",
          "name": "stdout",
          "text": [
            "+------------------+------------------+--------------+\n",
            "|  pickup_longitude|   pickup_latitude|pickup_borough|\n",
            "+------------------+------------------+--------------+\n",
            "|-73.97816467285156| 40.75797653198242|     Manhattan|\n",
            "|-74.00668334960938|40.731781005859375|     Manhattan|\n",
            "+------------------+------------------+--------------+\n",
            "only showing top 2 rows\n",
            "\n",
            "+--------------+-----+\n",
            "|pickup_borough|count|\n",
            "+--------------+-----+\n",
            "|        Queens| 5840|\n",
            "|      Brooklyn| 1958|\n",
            "| Staten Island|    2|\n",
            "|              |  141|\n",
            "|     Manhattan|89868|\n",
            "+--------------+-----+\n",
            "\n"
          ]
        }
      ]
    },
    {
      "cell_type": "code",
      "metadata": {
        "colab": {
          "base_uri": "https://localhost:8080/"
        },
        "id": "o8CR-OxN4lV3",
        "outputId": "bc2df810-bef6-4191-a706-60759f5852dd"
      },
      "source": [
        "enriched_2d.where(enriched_2d[\"pickup_borough\"] == \"\").show(5)"
      ],
      "execution_count": null,
      "outputs": [
        {
          "output_type": "stream",
          "name": "stdout",
          "text": [
            "+------------------+------------------+--------------+\n",
            "|  pickup_longitude|   pickup_latitude|pickup_borough|\n",
            "+------------------+------------------+--------------+\n",
            "|-74.10505676269531|40.655216217041016|              |\n",
            "|-74.15985870361328| 40.70987319946289|              |\n",
            "|-74.16817474365234|40.712398529052734|              |\n",
            "|-73.92723846435547| 40.80000686645508|              |\n",
            "| -73.7412338256836|40.787296295166016|              |\n",
            "+------------------+------------------+--------------+\n",
            "only showing top 5 rows\n",
            "\n"
          ]
        }
      ]
    },
    {
      "cell_type": "markdown",
      "metadata": {
        "id": "n_a7SE0oLKGB"
      },
      "source": [
        "#### **Tune Spark**"
      ]
    },
    {
      "cell_type": "markdown",
      "metadata": {
        "id": "MdiXsLRAYdbN"
      },
      "source": [
        "List spark parameters"
      ]
    },
    {
      "cell_type": "code",
      "metadata": {
        "colab": {
          "base_uri": "https://localhost:8080/"
        },
        "id": "hlIP3IpgLLqJ",
        "outputId": "6d096b78-0409-4f05-9b00-39628ab660a9"
      },
      "source": [
        "print(\"Spark parameters:\")\n",
        "print(\"spark.sparkContext.defaultParallelism: \", spark.sparkContext.defaultParallelism)\n",
        "print(\"spark.sql.files.maxPartitionBytess: \", spark.conf.get('spark.sql.files.maxPartitionBytes'))\n",
        "print(\"spark.sql.files.maxRecordsPerFile: \", spark.conf.get('spark.sql.files.maxRecordsPerFile'))\n",
        "print(\"spark.sql.shuffle.partitions: \", spark.conf.get('spark.sql.shuffle.partitions'))"
      ],
      "execution_count": null,
      "outputs": [
        {
          "output_type": "stream",
          "name": "stdout",
          "text": [
            "Spark parameters:\n",
            "spark.sparkContext.defaultParallelism:  2\n",
            "spark.sql.files.maxPartitionBytess:  134217728b\n",
            "spark.sql.files.maxRecordsPerFile:  0\n",
            "spark.sql.shuffle.partitions:  200\n"
          ]
        }
      ]
    },
    {
      "cell_type": "markdown",
      "metadata": {
        "id": "HnXwyQlLYiJY"
      },
      "source": [
        "List dataframe properties"
      ]
    },
    {
      "cell_type": "code",
      "metadata": {
        "colab": {
          "base_uri": "https://localhost:8080/"
        },
        "id": "X0zgCVZaRrrW",
        "outputId": "1059bbf6-3111-4396-b8f4-de6abdcf45d2"
      },
      "source": [
        "print(\"Dataframe properties:\")\n",
        "print(\"numPartitions: \", enriched_2d.rdd.getNumPartitions())"
      ],
      "execution_count": null,
      "outputs": [
        {
          "output_type": "stream",
          "name": "stdout",
          "text": [
            "Dataframe properties:\n",
            "numPartitions:  2\n"
          ]
        }
      ]
    },
    {
      "cell_type": "markdown",
      "metadata": {
        "id": "gjfGmHV_VYdo"
      },
      "source": [
        "*Notice, using all available partitions, now let's check skewness.*"
      ]
    },
    {
      "cell_type": "code",
      "metadata": {
        "id": "t_-D6FHpnx-V"
      },
      "source": [
        "from pyspark.sql.functions import spark_partition_id\n",
        "\n",
        "def show_part_dist():\n",
        "  enriched_2d.select(spark_partition_id().alias(\"partitionId\")).groupBy(\"partitionId\").count().show()"
      ],
      "execution_count": null,
      "outputs": []
    },
    {
      "cell_type": "code",
      "metadata": {
        "colab": {
          "base_uri": "https://localhost:8080/"
        },
        "id": "KxRuq1cbSGt-",
        "outputId": "9c23b6ec-9017-4553-bc9f-f3e9e86501b3"
      },
      "source": [
        "show_part_dist()"
      ],
      "execution_count": null,
      "outputs": [
        {
          "output_type": "stream",
          "name": "stdout",
          "text": [
            "+-----------+-----+\n",
            "|partitionId|count|\n",
            "+-----------+-----+\n",
            "|          1|36567|\n",
            "|          0|61321|\n",
            "+-----------+-----+\n",
            "\n"
          ]
        }
      ]
    },
    {
      "cell_type": "markdown",
      "metadata": {
        "id": "fiLIArysYL08"
      },
      "source": [
        "Create a benchmark test"
      ]
    },
    {
      "cell_type": "code",
      "metadata": {
        "id": "9EW89VPjd9Dz"
      },
      "source": [
        "import time\n",
        "def run_test_query():\n",
        "  start_time = time.perf_counter()\n",
        "  enriched_2d.groupby(['pickup_borough']).count().limit(5).show()\n",
        "  end_time = time.perf_counter()\n",
        "  time_elapsed = (round(end_time) - round(start_time))\n",
        "  print(\"Elapsed time (secs): \", time_elapsed)"
      ],
      "execution_count": null,
      "outputs": []
    },
    {
      "cell_type": "markdown",
      "metadata": {
        "id": "081myTQKgJTa"
      },
      "source": [
        "Benchmark default performance"
      ]
    },
    {
      "cell_type": "code",
      "metadata": {
        "colab": {
          "base_uri": "https://localhost:8080/"
        },
        "id": "2BtbmCHnf7Wo",
        "outputId": "cabee3a4-35a5-448a-a40d-62ef5eb7fc50"
      },
      "source": [
        "run_test_query()"
      ],
      "execution_count": null,
      "outputs": [
        {
          "output_type": "stream",
          "name": "stdout",
          "text": [
            "+--------------+-----+\n",
            "|pickup_borough|count|\n",
            "+--------------+-----+\n",
            "|        Queens| 5840|\n",
            "|      Brooklyn| 1958|\n",
            "| Staten Island|    2|\n",
            "|              |  141|\n",
            "|     Manhattan|89868|\n",
            "+--------------+-----+\n",
            "\n",
            "Elapsed time (secs):  95\n"
          ]
        }
      ]
    },
    {
      "cell_type": "markdown",
      "metadata": {
        "id": "1rEqQ_3AVoN8"
      },
      "source": [
        "Repartition to fix data skewness"
      ]
    },
    {
      "cell_type": "code",
      "metadata": {
        "id": "jxPPVnaARwMk"
      },
      "source": [
        "enriched_2d = enriched_2d.repartition(2)"
      ],
      "execution_count": null,
      "outputs": []
    },
    {
      "cell_type": "code",
      "metadata": {
        "colab": {
          "base_uri": "https://localhost:8080/"
        },
        "id": "xTSXw3pQUICG",
        "outputId": "c1117007-2224-4b7b-de58-575418300ac2"
      },
      "source": [
        "show_part_dist()"
      ],
      "execution_count": null,
      "outputs": [
        {
          "output_type": "stream",
          "name": "stdout",
          "text": [
            "+-----------+-----+\n",
            "|partitionId|count|\n",
            "+-----------+-----+\n",
            "|          1|48943|\n",
            "|          0|48945|\n",
            "+-----------+-----+\n",
            "\n"
          ]
        }
      ]
    },
    {
      "cell_type": "markdown",
      "metadata": {
        "id": "vxDCZuBUn7jI"
      },
      "source": [
        "Benchmark repartition\n",
        "\n",
        "*Notice insignificant effect*"
      ]
    },
    {
      "cell_type": "code",
      "metadata": {
        "colab": {
          "base_uri": "https://localhost:8080/"
        },
        "id": "LhU46SUQoCht",
        "outputId": "9c73fd1a-6c0b-4bc8-ba2a-07aca17acae7"
      },
      "source": [
        "run_test_query()"
      ],
      "execution_count": null,
      "outputs": [
        {
          "output_type": "stream",
          "name": "stdout",
          "text": [
            "+--------------+-----+\n",
            "|pickup_borough|count|\n",
            "+--------------+-----+\n",
            "|        Queens| 5840|\n",
            "|      Brooklyn| 1958|\n",
            "| Staten Island|    2|\n",
            "|              |  141|\n",
            "|     Manhattan|89868|\n",
            "+--------------+-----+\n",
            "\n",
            "Elapsed time (secs):  96\n"
          ]
        }
      ]
    },
    {
      "cell_type": "markdown",
      "metadata": {
        "id": "PoJQRergVyGy"
      },
      "source": [
        "Limit shuffle partitions to available ones"
      ]
    },
    {
      "cell_type": "code",
      "metadata": {
        "id": "33LyHZAuVyvi"
      },
      "source": [
        "spark.conf.set('spark.sql.shuffle.partitions', 2)"
      ],
      "execution_count": null,
      "outputs": []
    },
    {
      "cell_type": "markdown",
      "metadata": {
        "id": "ix58zWpLoyD8"
      },
      "source": [
        "Benchmark shuffle partitions\n",
        "\n",
        "*Notice insignificant effect*"
      ]
    },
    {
      "cell_type": "code",
      "metadata": {
        "colab": {
          "base_uri": "https://localhost:8080/"
        },
        "id": "tZ1gG2BeoyP_",
        "outputId": "9113f189-0b06-42cd-c9eb-c7620e671cda"
      },
      "source": [
        "run_test_query()"
      ],
      "execution_count": null,
      "outputs": [
        {
          "output_type": "stream",
          "name": "stdout",
          "text": [
            "+--------------+-----+\n",
            "|pickup_borough|count|\n",
            "+--------------+-----+\n",
            "|              |  141|\n",
            "| Staten Island|    2|\n",
            "|        Queens| 5840|\n",
            "|     Manhattan|89868|\n",
            "|      Brooklyn| 1958|\n",
            "+--------------+-----+\n",
            "\n",
            "Elapsed time (secs):  95\n"
          ]
        }
      ]
    },
    {
      "cell_type": "markdown",
      "metadata": {
        "id": "BmgoNoWkocBe"
      },
      "source": [
        "Set serializer as Kryo serializer\n",
        "\n",
        "Throws *AnalysisException: Cannot modify the value of a Spark config: spark.serializer*"
      ]
    },
    {
      "cell_type": "code",
      "metadata": {
        "id": "EqpyCz-GjRRY"
      },
      "source": [
        "## AnalysisException: Cannot modify the value of a Spark config: spark.serializer\n",
        "# spark.conf.set('spark.serializer', 'org.apache.spark.serializer.KryoSerializer')"
      ],
      "execution_count": null,
      "outputs": []
    },
    {
      "cell_type": "markdown",
      "metadata": {
        "id": "xHyngdRMai1y"
      },
      "source": [
        "Convert to parquet"
      ]
    },
    {
      "cell_type": "code",
      "metadata": {
        "id": "QrewcfoAahy4"
      },
      "source": [
        "enriched_2d.write.mode(\"overwrite\").parquet(\"/content/enriched_2d\")"
      ],
      "execution_count": null,
      "outputs": []
    },
    {
      "cell_type": "code",
      "metadata": {
        "id": "C6lCHLWka7Md"
      },
      "source": [
        "enriched_2d = spark.read.parquet(\"/content/enriched_2d\")"
      ],
      "execution_count": null,
      "outputs": []
    },
    {
      "cell_type": "markdown",
      "metadata": {
        "id": "LOzCI3Zua9od"
      },
      "source": [
        "Benchmark parquet\n",
        "\n",
        "*Notice huge effect*"
      ]
    },
    {
      "cell_type": "code",
      "metadata": {
        "colab": {
          "base_uri": "https://localhost:8080/"
        },
        "id": "H9Y1Q8Qia9od",
        "outputId": "54238495-10dd-45b0-d381-863537c465f4"
      },
      "source": [
        "run_test_query()"
      ],
      "execution_count": null,
      "outputs": [
        {
          "output_type": "stream",
          "name": "stdout",
          "text": [
            "+--------------+-----+\n",
            "|pickup_borough|count|\n",
            "+--------------+-----+\n",
            "|        Queens| 5840|\n",
            "|              |  141|\n",
            "| Staten Island|    2|\n",
            "|     Manhattan|89868|\n",
            "|      Brooklyn| 1958|\n",
            "+--------------+-----+\n",
            "\n",
            "Elapsed time (secs):  0\n"
          ]
        }
      ]
    },
    {
      "cell_type": "markdown",
      "metadata": {
        "id": "k4DTM6eech2N"
      },
      "source": [
        "Convert main dataset to parquet"
      ]
    },
    {
      "cell_type": "code",
      "metadata": {
        "id": "Iqv8Irl7b1mZ"
      },
      "source": [
        "taxi_df.write.mode(\"overwrite\").parquet(\"/content/sample\")"
      ],
      "execution_count": null,
      "outputs": []
    },
    {
      "cell_type": "code",
      "metadata": {
        "colab": {
          "base_uri": "https://localhost:8080/"
        },
        "id": "Bu2Hsjmfc1Gt",
        "outputId": "508ab0f2-41da-4561-b15b-333137ba5273"
      },
      "source": [
        "!zip -r /content/sample.zip /content/sample\n",
        "# uploaded at https://drive.google.com/file/d/1IlsIgLxKvHfhtJT1nR3ChOnQ1_8WWGn0/view?usp=sharing"
      ],
      "execution_count": null,
      "outputs": [
        {
          "output_type": "stream",
          "name": "stdout",
          "text": [
            "  adding: content/sample/ (stored 0%)\n",
            "  adding: content/sample/part-00000-ea57cda4-a6a3-498c-af15-f74c30f7be9f-c000.snappy.parquet (deflated 14%)\n",
            "  adding: content/sample/._SUCCESS.crc (stored 0%)\n",
            "  adding: content/sample/.part-00000-ea57cda4-a6a3-498c-af15-f74c30f7be9f-c000.snappy.parquet.crc (stored 0%)\n",
            "  adding: content/sample/.part-00001-ea57cda4-a6a3-498c-af15-f74c30f7be9f-c000.snappy.parquet.crc (stored 0%)\n",
            "  adding: content/sample/part-00001-ea57cda4-a6a3-498c-af15-f74c30f7be9f-c000.snappy.parquet (deflated 16%)\n",
            "  adding: content/sample/_SUCCESS (stored 0%)\n"
          ]
        }
      ]
    },
    {
      "cell_type": "code",
      "metadata": {
        "id": "eR2Ct3KOccW5"
      },
      "source": [
        "taxi_df = spark.read.parquet(\"/content/sample\")"
      ],
      "execution_count": null,
      "outputs": []
    },
    {
      "cell_type": "markdown",
      "metadata": {
        "id": "-4iMN0j1cZMj"
      },
      "source": [
        "Dump first n rows"
      ]
    },
    {
      "cell_type": "code",
      "metadata": {
        "colab": {
          "base_uri": "https://localhost:8080/"
        },
        "id": "WUEZuIficZMk",
        "outputId": "30e9c6a3-4b1f-48b5-a351-28e682521e94"
      },
      "source": [
        "taxi_df.show(2)"
      ],
      "execution_count": null,
      "outputs": [
        {
          "output_type": "stream",
          "name": "stdout",
          "text": [
            "+--------------------+-------------------+-------------------+-----------------+----------------+---------------+-----------------+----------------+\n",
            "|        hack_license|    pickup_datetime|   dropoff_datetime|trip_time_in_secs|pickup_longitude|pickup_latitude|dropoff_longitude|dropoff_latitude|\n",
            "+--------------------+-------------------+-------------------+-----------------+----------------+---------------+-----------------+----------------+\n",
            "|BA96DE419E711691B...|2013-01-01 15:11:48|2013-01-01 15:18:10|              382|      -73.978165|      40.757977|        -73.98984|        40.75117|\n",
            "|9FD8F69F0804BDB55...|2013-01-06 00:18:35|2013-01-06 00:22:54|              259|       -74.00668|       40.73178|         -73.9945|        40.75066|\n",
            "+--------------------+-------------------+-------------------+-----------------+----------------+---------------+-----------------+----------------+\n",
            "only showing top 2 rows\n",
            "\n"
          ]
        }
      ]
    },
    {
      "cell_type": "markdown",
      "metadata": {
        "id": "EEA2bZl-cZMk"
      },
      "source": [
        "Print schema\n",
        "\n",
        "*Notice co-ordinates float data-type (as expected).*"
      ]
    },
    {
      "cell_type": "code",
      "metadata": {
        "colab": {
          "base_uri": "https://localhost:8080/"
        },
        "id": "YeCrbkwMcZMk",
        "outputId": "22225baa-4b49-42d8-cc42-2a948bb2596f"
      },
      "source": [
        "taxi_df.printSchema() #longitude and latitude are float"
      ],
      "execution_count": null,
      "outputs": [
        {
          "output_type": "stream",
          "name": "stdout",
          "text": [
            "root\n",
            " |-- hack_license: string (nullable = true)\n",
            " |-- pickup_datetime: string (nullable = true)\n",
            " |-- dropoff_datetime: string (nullable = true)\n",
            " |-- trip_time_in_secs: string (nullable = true)\n",
            " |-- pickup_longitude: float (nullable = true)\n",
            " |-- pickup_latitude: float (nullable = true)\n",
            " |-- dropoff_longitude: float (nullable = true)\n",
            " |-- dropoff_latitude: float (nullable = true)\n",
            "\n"
          ]
        }
      ]
    },
    {
      "cell_type": "markdown",
      "metadata": {
        "id": "AgotjFKRcZMk"
      },
      "source": [
        "Print dataset size"
      ]
    },
    {
      "cell_type": "code",
      "metadata": {
        "colab": {
          "base_uri": "https://localhost:8080/"
        },
        "id": "m68mwhHdcZMk",
        "outputId": "21e4ba8b-9942-41b7-e481-13db10b166bb"
      },
      "source": [
        "taxi_df.count()"
      ],
      "execution_count": null,
      "outputs": [
        {
          "output_type": "execute_result",
          "data": {
            "text/plain": [
              "97888"
            ]
          },
          "metadata": {},
          "execution_count": 70
        }
      ]
    },
    {
      "cell_type": "markdown",
      "metadata": {
        "id": "fLW6SQVjkUOs"
      },
      "source": [
        "#### **Tune GeoJson Data**"
      ]
    },
    {
      "cell_type": "markdown",
      "metadata": {
        "id": "0w71wPlKAllu"
      },
      "source": [
        "Sort geojson data via boroughCode and area"
      ]
    },
    {
      "cell_type": "code",
      "metadata": {
        "id": "G7lEWX0__h8Q",
        "colab": {
          "base_uri": "https://localhost:8080/",
          "height": 430
        },
        "outputId": "3e375f87-f235-491c-ca9e-8b9ffbd684aa"
      },
      "source": [
        "geo_df['area'] = geo_df.geometry.area\n",
        "geo_df_sorted = geo_df.sort_values(['boroughCode', 'area'], ascending=[True, False])\n",
        "geo_df_sorted.head(10)"
      ],
      "execution_count": null,
      "outputs": [
        {
          "output_type": "stream",
          "name": "stderr",
          "text": [
            "/usr/local/lib/python3.7/dist-packages/ipykernel_launcher.py:1: UserWarning: Geometry is in a geographic CRS. Results from 'area' are likely incorrect. Use 'GeoSeries.to_crs()' to re-project geometries to a projected CRS before this operation.\n",
            "\n",
            "  \"\"\"Entry point for launching an IPython kernel.\n"
          ]
        },
        {
          "output_type": "execute_result",
          "data": {
            "text/html": [
              "<div>\n",
              "<style scoped>\n",
              "    .dataframe tbody tr th:only-of-type {\n",
              "        vertical-align: middle;\n",
              "    }\n",
              "\n",
              "    .dataframe tbody tr th {\n",
              "        vertical-align: top;\n",
              "    }\n",
              "\n",
              "    .dataframe thead th {\n",
              "        text-align: right;\n",
              "    }\n",
              "</style>\n",
              "<table border=\"1\" class=\"dataframe\">\n",
              "  <thead>\n",
              "    <tr style=\"text-align: right;\">\n",
              "      <th></th>\n",
              "      <th>boroughCode</th>\n",
              "      <th>borough</th>\n",
              "      <th>geometry</th>\n",
              "      <th>area</th>\n",
              "    </tr>\n",
              "  </thead>\n",
              "  <tbody>\n",
              "    <tr>\n",
              "      <th>72</th>\n",
              "      <td>1</td>\n",
              "      <td>Manhattan</td>\n",
              "      <td>POLYGON ((-73.92641 40.87762, -73.92630 40.877...</td>\n",
              "      <td>0.005859</td>\n",
              "    </tr>\n",
              "    <tr>\n",
              "      <th>71</th>\n",
              "      <td>1</td>\n",
              "      <td>Manhattan</td>\n",
              "      <td>POLYGON ((-73.92134 40.80085, -73.92031 40.799...</td>\n",
              "      <td>0.000233</td>\n",
              "    </tr>\n",
              "    <tr>\n",
              "      <th>51</th>\n",
              "      <td>1</td>\n",
              "      <td>Manhattan</td>\n",
              "      <td>POLYGON ((-74.01675 40.69334, -74.01540 40.693...</td>\n",
              "      <td>0.000076</td>\n",
              "    </tr>\n",
              "    <tr>\n",
              "      <th>69</th>\n",
              "      <td>1</td>\n",
              "      <td>Manhattan</td>\n",
              "      <td>POLYGON ((-73.94180 40.76905, -73.94286 40.768...</td>\n",
              "      <td>0.000062</td>\n",
              "    </tr>\n",
              "    <tr>\n",
              "      <th>73</th>\n",
              "      <td>1</td>\n",
              "      <td>Manhattan</td>\n",
              "      <td>POLYGON ((-73.90665 40.87575, -73.90774 40.872...</td>\n",
              "      <td>0.000033</td>\n",
              "    </tr>\n",
              "    <tr>\n",
              "      <th>57</th>\n",
              "      <td>1</td>\n",
              "      <td>Manhattan</td>\n",
              "      <td>POLYGON ((-74.03995 40.70089, -74.03771 40.699...</td>\n",
              "      <td>0.000012</td>\n",
              "    </tr>\n",
              "    <tr>\n",
              "      <th>49</th>\n",
              "      <td>1</td>\n",
              "      <td>Manhattan</td>\n",
              "      <td>POLYGON ((-74.04388 40.69019, -74.04351 40.689...</td>\n",
              "      <td>0.000006</td>\n",
              "    </tr>\n",
              "    <tr>\n",
              "      <th>58</th>\n",
              "      <td>1</td>\n",
              "      <td>Manhattan</td>\n",
              "      <td>POLYGON ((-73.99538 40.70264, -73.99670 40.700...</td>\n",
              "      <td>0.000003</td>\n",
              "    </tr>\n",
              "    <tr>\n",
              "      <th>50</th>\n",
              "      <td>1</td>\n",
              "      <td>Manhattan</td>\n",
              "      <td>POLYGON ((-74.00133 40.69123, -74.00070 40.690...</td>\n",
              "      <td>0.000003</td>\n",
              "    </tr>\n",
              "    <tr>\n",
              "      <th>53</th>\n",
              "      <td>1</td>\n",
              "      <td>Manhattan</td>\n",
              "      <td>POLYGON ((-74.00078 40.69429, -74.00096 40.694...</td>\n",
              "      <td>0.000002</td>\n",
              "    </tr>\n",
              "  </tbody>\n",
              "</table>\n",
              "</div>"
            ],
            "text/plain": [
              "    boroughCode  ...      area\n",
              "72            1  ...  0.005859\n",
              "71            1  ...  0.000233\n",
              "51            1  ...  0.000076\n",
              "69            1  ...  0.000062\n",
              "73            1  ...  0.000033\n",
              "57            1  ...  0.000012\n",
              "49            1  ...  0.000006\n",
              "58            1  ...  0.000003\n",
              "50            1  ...  0.000003\n",
              "53            1  ...  0.000002\n",
              "\n",
              "[10 rows x 4 columns]"
            ]
          },
          "metadata": {},
          "execution_count": 73
        }
      ]
    },
    {
      "cell_type": "markdown",
      "metadata": {
        "id": "QTqQWPCr6DNF"
      },
      "source": [
        "Broadcast geojson data"
      ]
    },
    {
      "cell_type": "code",
      "metadata": {
        "id": "YtvvjRQRsWdj"
      },
      "source": [
        "geo_bc = spark.sparkContext.broadcast(geo_df_sorted)"
      ],
      "execution_count": null,
      "outputs": []
    },
    {
      "cell_type": "markdown",
      "metadata": {
        "id": "mMpSTEICq0Hc"
      },
      "source": [
        "#### **Joining the dataframes**: 2- *map + spatial join*"
      ]
    },
    {
      "cell_type": "code",
      "metadata": {
        "id": "BEF3pBz77qbg"
      },
      "source": [
        "## Using a map through rows\n",
        "interesting_exiting_cols = [\"hack_license\", \"pickup_datetime\", \"dropoff_datetime\", \"trip_time_in_secs\", \"pickup_latitude\", \"pickup_longitude\", \"dropoff_longitude\", \"dropoff_latitude\"]\n",
        "interesting_new_cols = [\"pickup_borough\", \"dropoff_borough\"]\n",
        "interesting_columns = interesting_exiting_cols + interesting_new_cols \n",
        "def get_borough(row):\n",
        "  data = {'type': ['pickup', 'dropoff'], 'geometry': [Point(row.pickup_longitude, row.pickup_latitude), Point(row.dropoff_longitude, row.dropoff_latitude)]}\n",
        "  data_gdf = gpd.GeoDataFrame(data, crs={'init': 'epsg:4326'})\n",
        "  geo_gdf = geo_bc.value\n",
        "  joined_df = data_gdf.sjoin(geo_gdf)\n",
        "  pickup_borough = \"\"\n",
        "  dropoff_borough = \"\"\n",
        "  boroughs = joined_df.borough\n",
        "  if (0 in boroughs.index):\n",
        "    pickup_borough = boroughs[0]\n",
        "  if (1 in boroughs.index):\n",
        "    dropoff_borough = boroughs[1]\n",
        "  return [row[col] for col in interesting_exiting_cols] + [pickup_borough, dropoff_borough]"
      ],
      "execution_count": null,
      "outputs": []
    },
    {
      "cell_type": "markdown",
      "metadata": {
        "id": "3cdxsMyw7lQ-"
      },
      "source": [
        "Enrich via map"
      ]
    },
    {
      "cell_type": "code",
      "metadata": {
        "id": "CKg7X_Kb7xbt",
        "colab": {
          "base_uri": "https://localhost:8080/"
        },
        "outputId": "68d4ade8-16ff-4b55-967e-551cf5b1a41a"
      },
      "source": [
        "enriched_df = taxi_df.rdd.map(get_borough).toDF(interesting_columns)\n",
        "enriched_df.show(5)"
      ],
      "execution_count": null,
      "outputs": [
        {
          "output_type": "stream",
          "name": "stdout",
          "text": [
            "+--------------------+-------------------+-------------------+-----------------+------------------+------------------+------------------+------------------+--------------+---------------+\n",
            "|        hack_license|    pickup_datetime|   dropoff_datetime|trip_time_in_secs|   pickup_latitude|  pickup_longitude| dropoff_longitude|  dropoff_latitude|pickup_borough|dropoff_borough|\n",
            "+--------------------+-------------------+-------------------+-----------------+------------------+------------------+------------------+------------------+--------------+---------------+\n",
            "|BA96DE419E711691B...|2013-01-01 15:11:48|2013-01-01 15:18:10|              382| 40.75797653198242|-73.97816467285156|-73.98983764648438| 40.75117111206055|     Manhattan|      Manhattan|\n",
            "|9FD8F69F0804BDB55...|2013-01-06 00:18:35|2013-01-06 00:22:54|              259|40.731781005859375|-74.00668334960938|-73.99449920654297| 40.75065994262695|     Manhattan|      Manhattan|\n",
            "|9FD8F69F0804BDB55...|2013-01-05 18:49:41|2013-01-05 18:54:23|              282|40.737770080566406|-74.00470733642578|-74.00983428955078| 40.72600173950195|     Manhattan|      Manhattan|\n",
            "|51EE87E3205C985EF...|2013-01-07 23:54:15|2013-01-07 23:58:20|              244|40.759944915771484|-73.97460174560547|-73.98473358154297|  40.7593879699707|     Manhattan|      Manhattan|\n",
            "|51EE87E3205C985EF...|2013-01-07 23:25:03|2013-01-07 23:34:24|              560| 40.74852752685547|-73.97624969482422| -74.0025863647461|40.747867584228516|     Manhattan|      Manhattan|\n",
            "+--------------------+-------------------+-------------------+-----------------+------------------+------------------+------------------+------------------+--------------+---------------+\n",
            "only showing top 5 rows\n",
            "\n"
          ]
        }
      ]
    },
    {
      "cell_type": "markdown",
      "metadata": {
        "id": "iGP6_cLr_XqZ"
      },
      "source": [
        "#### **Joining the dataframes**: 3- *UDF + spatial join*"
      ]
    },
    {
      "cell_type": "markdown",
      "metadata": {
        "id": "1D_HiYZrezbc"
      },
      "source": [
        "Investigate pandas_udf type of user-defined functions"
      ]
    },
    {
      "cell_type": "code",
      "metadata": {
        "id": "3hPPjx7qmXg-"
      },
      "source": [
        "from pyspark.sql.functions import pandas_udf\n",
        "\n",
        "def udf_schema_from_pandas(df):\n",
        "  column_types  = [StructField(key, mapping[dict(df.dtypes)[key]]()) for key in df.columns]\n",
        "  schema = StructType(column_types)\n",
        "  return schema\n",
        "\n",
        "# @pandas_udf(schema_out, PandasUDFType.GROUPED_MAP)\n",
        "def join_nyc_geo(nyc):\n",
        "    gdf_geo = gpd.GeoDataFrame(geo, geometry=geometry, crs=crs )\n",
        "    gdf_nyc = gpd.GeoDataFrame(nyc , geometry=geometry, crs=crs)\n",
        "    joined_df = gpd.sjoin(gdf_nyc, gdf_geo, how='inner', op='within')\n",
        "    return joined_df[columns]\n",
        "\n",
        "    # Need to look on how to return a schema from UDF"
      ],
      "execution_count": null,
      "outputs": []
    },
    {
      "cell_type": "markdown",
      "metadata": {
        "id": "Nz9lGKVo6fSN"
      },
      "source": [
        "Prepare a traditional user-defined function"
      ]
    },
    {
      "cell_type": "code",
      "metadata": {
        "id": "2y5EGhmWr6uM"
      },
      "source": [
        "from pyspark.sql.functions import udf, col\n",
        "from pyspark.sql.types import ArrayType, StringType\n",
        "\n",
        "def get_borough_UDF(pickup_longitude, pickup_latitude, dropoff_longitude, dropoff_latitude):\n",
        "  data = {'type': ['pickup', 'dropoff'], 'geometry': [Point(pickup_longitude, pickup_latitude), Point(dropoff_longitude, dropoff_latitude)]}\n",
        "  data_gdf = gpd.GeoDataFrame(data, crs={'init': 'epsg:4326'})\n",
        "  geo_gdf = geo_bc.value\n",
        "  joined_df = data_gdf.sjoin(geo_gdf)\n",
        "  pickup_borough = \"\"\n",
        "  dropoff_borough = \"\"\n",
        "  boroughs = joined_df.borough\n",
        "  if (0 in boroughs.index):\n",
        "    pickup_borough = boroughs[0]\n",
        "  if (1 in boroughs.index):\n",
        "    dropoff_borough = boroughs[1]\n",
        "  return [pickup_borough,dropoff_borough]\n",
        "convertUDF = udf(get_borough_UDF, ArrayType(StringType()))"
      ],
      "execution_count": null,
      "outputs": []
    },
    {
      "cell_type": "markdown",
      "metadata": {
        "id": "M01jKjtk7D22"
      },
      "source": [
        "Test enrichment on a single row"
      ]
    },
    {
      "cell_type": "code",
      "metadata": {
        "id": "TaNwo9cK7KAp",
        "colab": {
          "base_uri": "https://localhost:8080/"
        },
        "outputId": "bd2abacc-d8f0-4a93-bbda-3aa39ec35c1a"
      },
      "source": [
        "row = taxi_df.first()\n",
        "print(get_borough_UDF(row.pickup_longitude,row.pickup_latitude,row.dropoff_longitude,row.dropoff_latitude))"
      ],
      "execution_count": null,
      "outputs": [
        {
          "output_type": "stream",
          "name": "stdout",
          "text": [
            "['Manhattan', 'Manhattan']\n"
          ]
        },
        {
          "output_type": "stream",
          "name": "stderr",
          "text": [
            "/usr/local/lib/python3.7/dist-packages/pyproj/crs/crs.py:131: FutureWarning: '+init=<authority>:<code>' syntax is deprecated. '<authority>:<code>' is the preferred initialization method. When making the change, be mindful of axis order changes: https://pyproj4.github.io/pyproj/stable/gotchas.html#axis-order-changes-in-proj-6\n",
            "  in_crs_string = _prepare_from_proj_string(in_crs_string)\n",
            "/usr/local/lib/python3.7/dist-packages/geopandas/geodataframe.py:1938: UserWarning: CRS mismatch between the CRS of left geometries and the CRS of right geometries.\n",
            "Use `to_crs()` to reproject one of the input geometries to match the CRS of the other.\n",
            "\n",
            "Left CRS: +init=epsg:4326 +type=crs\n",
            "Right CRS: EPSG:4326\n",
            "\n",
            "  return geopandas.sjoin(left_df=self, right_df=df, *args, **kwargs)\n"
          ]
        }
      ]
    },
    {
      "cell_type": "markdown",
      "metadata": {
        "id": "-M8qxGq_A1tP"
      },
      "source": [
        "Enrich via UDF"
      ]
    },
    {
      "cell_type": "code",
      "metadata": {
        "id": "zWEr9HaLr7yU",
        "colab": {
          "base_uri": "https://localhost:8080/"
        },
        "outputId": "e61a8cdb-a6d5-4fae-e42a-479085219a89"
      },
      "source": [
        "enriched_udf = taxi_df.withColumn(\"udfResult\",convertUDF('pickup_longitude','pickup_latitude','dropoff_longitude','dropoff_latitude'))\\\n",
        "  .withColumn(\"pickup_borough\", col(\"udfResult\")[0])\\\n",
        "  .withColumn(\"dropoff_borough\", col(\"udfResult\")[1])\\\n",
        "  .drop(\"udfResult\")\n",
        "enriched_udf.show(5)"
      ],
      "execution_count": null,
      "outputs": [
        {
          "output_type": "stream",
          "name": "stdout",
          "text": [
            "+--------------------+-------------------+-------------------+-----------------+----------------+---------------+-----------------+----------------+--------------+---------------+\n",
            "|        hack_license|    pickup_datetime|   dropoff_datetime|trip_time_in_secs|pickup_longitude|pickup_latitude|dropoff_longitude|dropoff_latitude|pickup_borough|dropoff_borough|\n",
            "+--------------------+-------------------+-------------------+-----------------+----------------+---------------+-----------------+----------------+--------------+---------------+\n",
            "|BA96DE419E711691B...|2013-01-01 15:11:48|2013-01-01 15:18:10|              382|      -73.978165|      40.757977|        -73.98984|        40.75117|     Manhattan|      Manhattan|\n",
            "|9FD8F69F0804BDB55...|2013-01-06 00:18:35|2013-01-06 00:22:54|              259|       -74.00668|       40.73178|         -73.9945|        40.75066|     Manhattan|      Manhattan|\n",
            "|9FD8F69F0804BDB55...|2013-01-05 18:49:41|2013-01-05 18:54:23|              282|       -74.00471|       40.73777|       -74.009834|          40.726|     Manhattan|      Manhattan|\n",
            "|51EE87E3205C985EF...|2013-01-07 23:54:15|2013-01-07 23:58:20|              244|        -73.9746|      40.759945|        -73.98473|       40.759388|     Manhattan|      Manhattan|\n",
            "|51EE87E3205C985EF...|2013-01-07 23:25:03|2013-01-07 23:34:24|              560|       -73.97625|      40.748528|        -74.00259|       40.747868|     Manhattan|      Manhattan|\n",
            "+--------------------+-------------------+-------------------+-----------------+----------------+---------------+-----------------+----------------+--------------+---------------+\n",
            "only showing top 5 rows\n",
            "\n"
          ]
        }
      ]
    },
    {
      "cell_type": "markdown",
      "metadata": {
        "id": "QzmhsKt8nLR3"
      },
      "source": [
        "Convert to parquet partitioned by boroughs\n",
        "\n",
        "Very effective performance optimization."
      ]
    },
    {
      "cell_type": "code",
      "metadata": {
        "id": "evQwEjDynOJ-"
      },
      "source": [
        "enriched_udf.write.mode(\"overwrite\").partitionBy(\"pickup_borough\", \"dropoff_borough\").parquet(\"/content/enriched_udf\")"
      ],
      "execution_count": null,
      "outputs": []
    },
    {
      "cell_type": "code",
      "metadata": {
        "id": "g8JSMvuRCHkW",
        "colab": {
          "base_uri": "https://localhost:8080/"
        },
        "outputId": "bc8f5eb0-7217-42d3-c87b-110ae5df4ba9"
      },
      "source": [
        "!zip -r /content/enriched_udf.zip /content/enriched_udf\n",
        "# uploaded at https://drive.google.com/file/d/1u6E91nFnvBQLZD2r5DMVClC0ah-v8nWe/view?usp=sharing\n"
      ],
      "execution_count": null,
      "outputs": [
        {
          "output_type": "stream",
          "name": "stdout",
          "text": [
            "  adding: content/enriched_udf/ (stored 0%)\n",
            "  adding: content/enriched_udf/pickup_borough=__HIVE_DEFAULT_PARTITION__/ (stored 0%)\n",
            "  adding: content/enriched_udf/pickup_borough=__HIVE_DEFAULT_PARTITION__/dropoff_borough=Manhattan/ (stored 0%)\n",
            "  adding: content/enriched_udf/pickup_borough=__HIVE_DEFAULT_PARTITION__/dropoff_borough=Manhattan/part-00000-9afa403f-3af6-4f16-9f24-e7b00207810f.c000.snappy.parquet (deflated 43%)\n",
            "  adding: content/enriched_udf/pickup_borough=__HIVE_DEFAULT_PARTITION__/dropoff_borough=Manhattan/.part-00000-9afa403f-3af6-4f16-9f24-e7b00207810f.c000.snappy.parquet.crc (stored 0%)\n",
            "  adding: content/enriched_udf/pickup_borough=__HIVE_DEFAULT_PARTITION__/dropoff_borough=Manhattan/part-00001-9afa403f-3af6-4f16-9f24-e7b00207810f.c000.snappy.parquet (deflated 51%)\n",
            "  adding: content/enriched_udf/pickup_borough=__HIVE_DEFAULT_PARTITION__/dropoff_borough=Manhattan/.part-00001-9afa403f-3af6-4f16-9f24-e7b00207810f.c000.snappy.parquet.crc (stored 0%)\n",
            "  adding: content/enriched_udf/pickup_borough=__HIVE_DEFAULT_PARTITION__/dropoff_borough=__HIVE_DEFAULT_PARTITION__/ (stored 0%)\n",
            "  adding: content/enriched_udf/pickup_borough=__HIVE_DEFAULT_PARTITION__/dropoff_borough=__HIVE_DEFAULT_PARTITION__/part-00000-9afa403f-3af6-4f16-9f24-e7b00207810f.c000.snappy.parquet (deflated 47%)\n",
            "  adding: content/enriched_udf/pickup_borough=__HIVE_DEFAULT_PARTITION__/dropoff_borough=__HIVE_DEFAULT_PARTITION__/.part-00000-9afa403f-3af6-4f16-9f24-e7b00207810f.c000.snappy.parquet.crc (stored 0%)\n",
            "  adding: content/enriched_udf/pickup_borough=__HIVE_DEFAULT_PARTITION__/dropoff_borough=__HIVE_DEFAULT_PARTITION__/part-00001-9afa403f-3af6-4f16-9f24-e7b00207810f.c000.snappy.parquet (deflated 53%)\n",
            "  adding: content/enriched_udf/pickup_borough=__HIVE_DEFAULT_PARTITION__/dropoff_borough=__HIVE_DEFAULT_PARTITION__/.part-00001-9afa403f-3af6-4f16-9f24-e7b00207810f.c000.snappy.parquet.crc (stored 0%)\n",
            "  adding: content/enriched_udf/pickup_borough=__HIVE_DEFAULT_PARTITION__/dropoff_borough=Staten Island/ (stored 0%)\n",
            "  adding: content/enriched_udf/pickup_borough=__HIVE_DEFAULT_PARTITION__/dropoff_borough=Staten Island/part-00001-9afa403f-3af6-4f16-9f24-e7b00207810f.c000.snappy.parquet (deflated 71%)\n",
            "  adding: content/enriched_udf/pickup_borough=__HIVE_DEFAULT_PARTITION__/dropoff_borough=Staten Island/.part-00001-9afa403f-3af6-4f16-9f24-e7b00207810f.c000.snappy.parquet.crc (stored 0%)\n",
            "  adding: content/enriched_udf/pickup_borough=__HIVE_DEFAULT_PARTITION__/dropoff_borough=Brooklyn/ (stored 0%)\n",
            "  adding: content/enriched_udf/pickup_borough=__HIVE_DEFAULT_PARTITION__/dropoff_borough=Brooklyn/part-00000-9afa403f-3af6-4f16-9f24-e7b00207810f.c000.snappy.parquet (deflated 60%)\n",
            "  adding: content/enriched_udf/pickup_borough=__HIVE_DEFAULT_PARTITION__/dropoff_borough=Brooklyn/.part-00000-9afa403f-3af6-4f16-9f24-e7b00207810f.c000.snappy.parquet.crc (stored 0%)\n",
            "  adding: content/enriched_udf/pickup_borough=__HIVE_DEFAULT_PARTITION__/dropoff_borough=Brooklyn/part-00001-9afa403f-3af6-4f16-9f24-e7b00207810f.c000.snappy.parquet (deflated 71%)\n",
            "  adding: content/enriched_udf/pickup_borough=__HIVE_DEFAULT_PARTITION__/dropoff_borough=Brooklyn/.part-00001-9afa403f-3af6-4f16-9f24-e7b00207810f.c000.snappy.parquet.crc (stored 0%)\n",
            "  adding: content/enriched_udf/pickup_borough=__HIVE_DEFAULT_PARTITION__/dropoff_borough=Queens/ (stored 0%)\n",
            "  adding: content/enriched_udf/pickup_borough=__HIVE_DEFAULT_PARTITION__/dropoff_borough=Queens/part-00000-9afa403f-3af6-4f16-9f24-e7b00207810f.c000.snappy.parquet (deflated 56%)\n",
            "  adding: content/enriched_udf/pickup_borough=__HIVE_DEFAULT_PARTITION__/dropoff_borough=Queens/.part-00000-9afa403f-3af6-4f16-9f24-e7b00207810f.c000.snappy.parquet.crc (stored 0%)\n",
            "  adding: content/enriched_udf/pickup_borough=__HIVE_DEFAULT_PARTITION__/dropoff_borough=Queens/part-00001-9afa403f-3af6-4f16-9f24-e7b00207810f.c000.snappy.parquet (deflated 64%)\n",
            "  adding: content/enriched_udf/pickup_borough=__HIVE_DEFAULT_PARTITION__/dropoff_borough=Queens/.part-00001-9afa403f-3af6-4f16-9f24-e7b00207810f.c000.snappy.parquet.crc (stored 0%)\n",
            "  adding: content/enriched_udf/._SUCCESS.crc (stored 0%)\n",
            "  adding: content/enriched_udf/pickup_borough=Queens/ (stored 0%)\n",
            "  adding: content/enriched_udf/pickup_borough=Queens/dropoff_borough=Manhattan/ (stored 0%)\n",
            "  adding: content/enriched_udf/pickup_borough=Queens/dropoff_borough=Manhattan/part-00000-9afa403f-3af6-4f16-9f24-e7b00207810f.c000.snappy.parquet (deflated 25%)\n",
            "  adding: content/enriched_udf/pickup_borough=Queens/dropoff_borough=Manhattan/.part-00000-9afa403f-3af6-4f16-9f24-e7b00207810f.c000.snappy.parquet.crc (stored 0%)\n",
            "  adding: content/enriched_udf/pickup_borough=Queens/dropoff_borough=Manhattan/part-00001-9afa403f-3af6-4f16-9f24-e7b00207810f.c000.snappy.parquet (deflated 24%)\n",
            "  adding: content/enriched_udf/pickup_borough=Queens/dropoff_borough=Manhattan/.part-00001-9afa403f-3af6-4f16-9f24-e7b00207810f.c000.snappy.parquet.crc (stored 0%)\n",
            "  adding: content/enriched_udf/pickup_borough=Queens/dropoff_borough=Bronx/ (stored 0%)\n",
            "  adding: content/enriched_udf/pickup_borough=Queens/dropoff_borough=Bronx/part-00000-9afa403f-3af6-4f16-9f24-e7b00207810f.c000.snappy.parquet (deflated 41%)\n",
            "  adding: content/enriched_udf/pickup_borough=Queens/dropoff_borough=Bronx/.part-00000-9afa403f-3af6-4f16-9f24-e7b00207810f.c000.snappy.parquet.crc (stored 0%)\n",
            "  adding: content/enriched_udf/pickup_borough=Queens/dropoff_borough=Bronx/part-00001-9afa403f-3af6-4f16-9f24-e7b00207810f.c000.snappy.parquet (deflated 44%)\n",
            "  adding: content/enriched_udf/pickup_borough=Queens/dropoff_borough=Bronx/.part-00001-9afa403f-3af6-4f16-9f24-e7b00207810f.c000.snappy.parquet.crc (stored 0%)\n",
            "  adding: content/enriched_udf/pickup_borough=Queens/dropoff_borough=__HIVE_DEFAULT_PARTITION__/ (stored 0%)\n",
            "  adding: content/enriched_udf/pickup_borough=Queens/dropoff_borough=__HIVE_DEFAULT_PARTITION__/part-00000-9afa403f-3af6-4f16-9f24-e7b00207810f.c000.snappy.parquet (deflated 43%)\n",
            "  adding: content/enriched_udf/pickup_borough=Queens/dropoff_borough=__HIVE_DEFAULT_PARTITION__/.part-00000-9afa403f-3af6-4f16-9f24-e7b00207810f.c000.snappy.parquet.crc (stored 0%)\n",
            "  adding: content/enriched_udf/pickup_borough=Queens/dropoff_borough=__HIVE_DEFAULT_PARTITION__/part-00001-9afa403f-3af6-4f16-9f24-e7b00207810f.c000.snappy.parquet (deflated 45%)\n",
            "  adding: content/enriched_udf/pickup_borough=Queens/dropoff_borough=__HIVE_DEFAULT_PARTITION__/.part-00001-9afa403f-3af6-4f16-9f24-e7b00207810f.c000.snappy.parquet.crc (stored 0%)\n",
            "  adding: content/enriched_udf/pickup_borough=Queens/dropoff_borough=Staten Island/ (stored 0%)\n",
            "  adding: content/enriched_udf/pickup_borough=Queens/dropoff_borough=Staten Island/part-00000-9afa403f-3af6-4f16-9f24-e7b00207810f.c000.snappy.parquet (deflated 66%)\n",
            "  adding: content/enriched_udf/pickup_borough=Queens/dropoff_borough=Staten Island/.part-00000-9afa403f-3af6-4f16-9f24-e7b00207810f.c000.snappy.parquet.crc (stored 0%)\n",
            "  adding: content/enriched_udf/pickup_borough=Queens/dropoff_borough=Brooklyn/ (stored 0%)\n",
            "  adding: content/enriched_udf/pickup_borough=Queens/dropoff_borough=Brooklyn/part-00000-9afa403f-3af6-4f16-9f24-e7b00207810f.c000.snappy.parquet (deflated 30%)\n",
            "  adding: content/enriched_udf/pickup_borough=Queens/dropoff_borough=Brooklyn/.part-00000-9afa403f-3af6-4f16-9f24-e7b00207810f.c000.snappy.parquet.crc (stored 0%)\n",
            "  adding: content/enriched_udf/pickup_borough=Queens/dropoff_borough=Brooklyn/part-00001-9afa403f-3af6-4f16-9f24-e7b00207810f.c000.snappy.parquet (deflated 31%)\n",
            "  adding: content/enriched_udf/pickup_borough=Queens/dropoff_borough=Brooklyn/.part-00001-9afa403f-3af6-4f16-9f24-e7b00207810f.c000.snappy.parquet.crc (stored 0%)\n",
            "  adding: content/enriched_udf/pickup_borough=Queens/dropoff_borough=Queens/ (stored 0%)\n",
            "  adding: content/enriched_udf/pickup_borough=Queens/dropoff_borough=Queens/part-00000-9afa403f-3af6-4f16-9f24-e7b00207810f.c000.snappy.parquet (deflated 25%)\n",
            "  adding: content/enriched_udf/pickup_borough=Queens/dropoff_borough=Queens/.part-00000-9afa403f-3af6-4f16-9f24-e7b00207810f.c000.snappy.parquet.crc (stored 0%)\n",
            "  adding: content/enriched_udf/pickup_borough=Queens/dropoff_borough=Queens/part-00001-9afa403f-3af6-4f16-9f24-e7b00207810f.c000.snappy.parquet (deflated 27%)\n",
            "  adding: content/enriched_udf/pickup_borough=Queens/dropoff_borough=Queens/.part-00001-9afa403f-3af6-4f16-9f24-e7b00207810f.c000.snappy.parquet.crc (stored 0%)\n",
            "  adding: content/enriched_udf/pickup_borough=Staten Island/ (stored 0%)\n",
            "  adding: content/enriched_udf/pickup_borough=Staten Island/dropoff_borough=Staten Island/ (stored 0%)\n",
            "  adding: content/enriched_udf/pickup_borough=Staten Island/dropoff_borough=Staten Island/part-00000-9afa403f-3af6-4f16-9f24-e7b00207810f.c000.snappy.parquet (deflated 71%)\n",
            "  adding: content/enriched_udf/pickup_borough=Staten Island/dropoff_borough=Staten Island/.part-00000-9afa403f-3af6-4f16-9f24-e7b00207810f.c000.snappy.parquet.crc (stored 0%)\n",
            "  adding: content/enriched_udf/pickup_borough=Staten Island/dropoff_borough=Queens/ (stored 0%)\n",
            "  adding: content/enriched_udf/pickup_borough=Staten Island/dropoff_borough=Queens/part-00001-9afa403f-3af6-4f16-9f24-e7b00207810f.c000.snappy.parquet (deflated 71%)\n",
            "  adding: content/enriched_udf/pickup_borough=Staten Island/dropoff_borough=Queens/.part-00001-9afa403f-3af6-4f16-9f24-e7b00207810f.c000.snappy.parquet.crc (stored 0%)\n",
            "  adding: content/enriched_udf/pickup_borough=Manhattan/ (stored 0%)\n",
            "  adding: content/enriched_udf/pickup_borough=Manhattan/dropoff_borough=Manhattan/ (stored 0%)\n",
            "  adding: content/enriched_udf/pickup_borough=Manhattan/dropoff_borough=Manhattan/part-00000-9afa403f-3af6-4f16-9f24-e7b00207810f.c000.snappy.parquet (deflated 14%)\n",
            "  adding: content/enriched_udf/pickup_borough=Manhattan/dropoff_borough=Manhattan/.part-00000-9afa403f-3af6-4f16-9f24-e7b00207810f.c000.snappy.parquet.crc (stored 0%)\n",
            "  adding: content/enriched_udf/pickup_borough=Manhattan/dropoff_borough=Manhattan/part-00001-9afa403f-3af6-4f16-9f24-e7b00207810f.c000.snappy.parquet (deflated 16%)\n",
            "  adding: content/enriched_udf/pickup_borough=Manhattan/dropoff_borough=Manhattan/.part-00001-9afa403f-3af6-4f16-9f24-e7b00207810f.c000.snappy.parquet.crc (stored 0%)\n",
            "  adding: content/enriched_udf/pickup_borough=Manhattan/dropoff_borough=Bronx/ (stored 0%)\n",
            "  adding: content/enriched_udf/pickup_borough=Manhattan/dropoff_borough=Bronx/part-00000-9afa403f-3af6-4f16-9f24-e7b00207810f.c000.snappy.parquet (deflated 33%)\n",
            "  adding: content/enriched_udf/pickup_borough=Manhattan/dropoff_borough=Bronx/.part-00000-9afa403f-3af6-4f16-9f24-e7b00207810f.c000.snappy.parquet.crc (stored 0%)\n",
            "  adding: content/enriched_udf/pickup_borough=Manhattan/dropoff_borough=Bronx/part-00001-9afa403f-3af6-4f16-9f24-e7b00207810f.c000.snappy.parquet (deflated 41%)\n",
            "  adding: content/enriched_udf/pickup_borough=Manhattan/dropoff_borough=Bronx/.part-00001-9afa403f-3af6-4f16-9f24-e7b00207810f.c000.snappy.parquet.crc (stored 0%)\n",
            "  adding: content/enriched_udf/pickup_borough=Manhattan/dropoff_borough=__HIVE_DEFAULT_PARTITION__/ (stored 0%)\n",
            "  adding: content/enriched_udf/pickup_borough=Manhattan/dropoff_borough=__HIVE_DEFAULT_PARTITION__/part-00000-9afa403f-3af6-4f16-9f24-e7b00207810f.c000.snappy.parquet (deflated 33%)\n",
            "  adding: content/enriched_udf/pickup_borough=Manhattan/dropoff_borough=__HIVE_DEFAULT_PARTITION__/.part-00000-9afa403f-3af6-4f16-9f24-e7b00207810f.c000.snappy.parquet.crc (stored 0%)\n",
            "  adding: content/enriched_udf/pickup_borough=Manhattan/dropoff_borough=__HIVE_DEFAULT_PARTITION__/part-00001-9afa403f-3af6-4f16-9f24-e7b00207810f.c000.snappy.parquet (deflated 36%)\n",
            "  adding: content/enriched_udf/pickup_borough=Manhattan/dropoff_borough=__HIVE_DEFAULT_PARTITION__/.part-00001-9afa403f-3af6-4f16-9f24-e7b00207810f.c000.snappy.parquet.crc (stored 0%)\n",
            "  adding: content/enriched_udf/pickup_borough=Manhattan/dropoff_borough=Staten Island/ (stored 0%)\n",
            "  adding: content/enriched_udf/pickup_borough=Manhattan/dropoff_borough=Staten Island/part-00000-9afa403f-3af6-4f16-9f24-e7b00207810f.c000.snappy.parquet (deflated 57%)\n",
            "  adding: content/enriched_udf/pickup_borough=Manhattan/dropoff_borough=Staten Island/.part-00000-9afa403f-3af6-4f16-9f24-e7b00207810f.c000.snappy.parquet.crc (stored 0%)\n",
            "  adding: content/enriched_udf/pickup_borough=Manhattan/dropoff_borough=Staten Island/part-00001-9afa403f-3af6-4f16-9f24-e7b00207810f.c000.snappy.parquet (deflated 71%)\n",
            "  adding: content/enriched_udf/pickup_borough=Manhattan/dropoff_borough=Staten Island/.part-00001-9afa403f-3af6-4f16-9f24-e7b00207810f.c000.snappy.parquet.crc (stored 0%)\n",
            "  adding: content/enriched_udf/pickup_borough=Manhattan/dropoff_borough=Brooklyn/ (stored 0%)\n",
            "  adding: content/enriched_udf/pickup_borough=Manhattan/dropoff_borough=Brooklyn/part-00000-9afa403f-3af6-4f16-9f24-e7b00207810f.c000.snappy.parquet (deflated 26%)\n",
            "  adding: content/enriched_udf/pickup_borough=Manhattan/dropoff_borough=Brooklyn/.part-00000-9afa403f-3af6-4f16-9f24-e7b00207810f.c000.snappy.parquet.crc (stored 0%)\n",
            "  adding: content/enriched_udf/pickup_borough=Manhattan/dropoff_borough=Brooklyn/part-00001-9afa403f-3af6-4f16-9f24-e7b00207810f.c000.snappy.parquet (deflated 27%)\n",
            "  adding: content/enriched_udf/pickup_borough=Manhattan/dropoff_borough=Brooklyn/.part-00001-9afa403f-3af6-4f16-9f24-e7b00207810f.c000.snappy.parquet.crc (stored 0%)\n",
            "  adding: content/enriched_udf/pickup_borough=Manhattan/dropoff_borough=Queens/ (stored 0%)\n",
            "  adding: content/enriched_udf/pickup_borough=Manhattan/dropoff_borough=Queens/part-00000-9afa403f-3af6-4f16-9f24-e7b00207810f.c000.snappy.parquet (deflated 25%)\n",
            "  adding: content/enriched_udf/pickup_borough=Manhattan/dropoff_borough=Queens/.part-00000-9afa403f-3af6-4f16-9f24-e7b00207810f.c000.snappy.parquet.crc (stored 0%)\n",
            "  adding: content/enriched_udf/pickup_borough=Manhattan/dropoff_borough=Queens/part-00001-9afa403f-3af6-4f16-9f24-e7b00207810f.c000.snappy.parquet (deflated 26%)\n",
            "  adding: content/enriched_udf/pickup_borough=Manhattan/dropoff_borough=Queens/.part-00001-9afa403f-3af6-4f16-9f24-e7b00207810f.c000.snappy.parquet.crc (stored 0%)\n",
            "  adding: content/enriched_udf/pickup_borough=Brooklyn/ (stored 0%)\n",
            "  adding: content/enriched_udf/pickup_borough=Brooklyn/dropoff_borough=Manhattan/ (stored 0%)\n",
            "  adding: content/enriched_udf/pickup_borough=Brooklyn/dropoff_borough=Manhattan/part-00000-9afa403f-3af6-4f16-9f24-e7b00207810f.c000.snappy.parquet (deflated 27%)\n",
            "  adding: content/enriched_udf/pickup_borough=Brooklyn/dropoff_borough=Manhattan/.part-00000-9afa403f-3af6-4f16-9f24-e7b00207810f.c000.snappy.parquet.crc (stored 0%)\n",
            "  adding: content/enriched_udf/pickup_borough=Brooklyn/dropoff_borough=Manhattan/part-00001-9afa403f-3af6-4f16-9f24-e7b00207810f.c000.snappy.parquet (deflated 33%)\n",
            "  adding: content/enriched_udf/pickup_borough=Brooklyn/dropoff_borough=Manhattan/.part-00001-9afa403f-3af6-4f16-9f24-e7b00207810f.c000.snappy.parquet.crc (stored 0%)\n",
            "  adding: content/enriched_udf/pickup_borough=Brooklyn/dropoff_borough=__HIVE_DEFAULT_PARTITION__/ (stored 0%)\n",
            "  adding: content/enriched_udf/pickup_borough=Brooklyn/dropoff_borough=__HIVE_DEFAULT_PARTITION__/part-00000-9afa403f-3af6-4f16-9f24-e7b00207810f.c000.snappy.parquet (deflated 61%)\n",
            "  adding: content/enriched_udf/pickup_borough=Brooklyn/dropoff_borough=__HIVE_DEFAULT_PARTITION__/.part-00000-9afa403f-3af6-4f16-9f24-e7b00207810f.c000.snappy.parquet.crc (stored 0%)\n",
            "  adding: content/enriched_udf/pickup_borough=Brooklyn/dropoff_borough=__HIVE_DEFAULT_PARTITION__/part-00001-9afa403f-3af6-4f16-9f24-e7b00207810f.c000.snappy.parquet (deflated 63%)\n",
            "  adding: content/enriched_udf/pickup_borough=Brooklyn/dropoff_borough=__HIVE_DEFAULT_PARTITION__/.part-00001-9afa403f-3af6-4f16-9f24-e7b00207810f.c000.snappy.parquet.crc (stored 0%)\n",
            "  adding: content/enriched_udf/pickup_borough=Brooklyn/dropoff_borough=Brooklyn/ (stored 0%)\n",
            "  adding: content/enriched_udf/pickup_borough=Brooklyn/dropoff_borough=Brooklyn/part-00000-9afa403f-3af6-4f16-9f24-e7b00207810f.c000.snappy.parquet (deflated 27%)\n",
            "  adding: content/enriched_udf/pickup_borough=Brooklyn/dropoff_borough=Brooklyn/.part-00000-9afa403f-3af6-4f16-9f24-e7b00207810f.c000.snappy.parquet.crc (stored 0%)\n",
            "  adding: content/enriched_udf/pickup_borough=Brooklyn/dropoff_borough=Brooklyn/part-00001-9afa403f-3af6-4f16-9f24-e7b00207810f.c000.snappy.parquet (deflated 31%)\n",
            "  adding: content/enriched_udf/pickup_borough=Brooklyn/dropoff_borough=Brooklyn/.part-00001-9afa403f-3af6-4f16-9f24-e7b00207810f.c000.snappy.parquet.crc (stored 0%)\n",
            "  adding: content/enriched_udf/pickup_borough=Brooklyn/dropoff_borough=Queens/ (stored 0%)\n",
            "  adding: content/enriched_udf/pickup_borough=Brooklyn/dropoff_borough=Queens/part-00000-9afa403f-3af6-4f16-9f24-e7b00207810f.c000.snappy.parquet (deflated 38%)\n",
            "  adding: content/enriched_udf/pickup_borough=Brooklyn/dropoff_borough=Queens/.part-00000-9afa403f-3af6-4f16-9f24-e7b00207810f.c000.snappy.parquet.crc (stored 0%)\n",
            "  adding: content/enriched_udf/pickup_borough=Brooklyn/dropoff_borough=Queens/part-00001-9afa403f-3af6-4f16-9f24-e7b00207810f.c000.snappy.parquet (deflated 44%)\n",
            "  adding: content/enriched_udf/pickup_borough=Brooklyn/dropoff_borough=Queens/.part-00001-9afa403f-3af6-4f16-9f24-e7b00207810f.c000.snappy.parquet.crc (stored 0%)\n",
            "  adding: content/enriched_udf/_SUCCESS (stored 0%)\n",
            "  adding: content/enriched_udf/pickup_borough=Bronx/ (stored 0%)\n",
            "  adding: content/enriched_udf/pickup_borough=Bronx/dropoff_borough=Manhattan/ (stored 0%)\n",
            "  adding: content/enriched_udf/pickup_borough=Bronx/dropoff_borough=Manhattan/part-00000-9afa403f-3af6-4f16-9f24-e7b00207810f.c000.snappy.parquet (deflated 52%)\n",
            "  adding: content/enriched_udf/pickup_borough=Bronx/dropoff_borough=Manhattan/.part-00000-9afa403f-3af6-4f16-9f24-e7b00207810f.c000.snappy.parquet.crc (stored 0%)\n",
            "  adding: content/enriched_udf/pickup_borough=Bronx/dropoff_borough=Manhattan/part-00001-9afa403f-3af6-4f16-9f24-e7b00207810f.c000.snappy.parquet (deflated 56%)\n",
            "  adding: content/enriched_udf/pickup_borough=Bronx/dropoff_borough=Manhattan/.part-00001-9afa403f-3af6-4f16-9f24-e7b00207810f.c000.snappy.parquet.crc (stored 0%)\n",
            "  adding: content/enriched_udf/pickup_borough=Bronx/dropoff_borough=Bronx/ (stored 0%)\n",
            "  adding: content/enriched_udf/pickup_borough=Bronx/dropoff_borough=Bronx/part-00000-9afa403f-3af6-4f16-9f24-e7b00207810f.c000.snappy.parquet (deflated 50%)\n",
            "  adding: content/enriched_udf/pickup_borough=Bronx/dropoff_borough=Bronx/.part-00000-9afa403f-3af6-4f16-9f24-e7b00207810f.c000.snappy.parquet.crc (stored 0%)\n",
            "  adding: content/enriched_udf/pickup_borough=Bronx/dropoff_borough=Bronx/part-00001-9afa403f-3af6-4f16-9f24-e7b00207810f.c000.snappy.parquet (deflated 53%)\n",
            "  adding: content/enriched_udf/pickup_borough=Bronx/dropoff_borough=Bronx/.part-00001-9afa403f-3af6-4f16-9f24-e7b00207810f.c000.snappy.parquet.crc (stored 0%)\n",
            "  adding: content/enriched_udf/pickup_borough=Bronx/dropoff_borough=__HIVE_DEFAULT_PARTITION__/ (stored 0%)\n",
            "  adding: content/enriched_udf/pickup_borough=Bronx/dropoff_borough=__HIVE_DEFAULT_PARTITION__/part-00000-9afa403f-3af6-4f16-9f24-e7b00207810f.c000.snappy.parquet (deflated 68%)\n",
            "  adding: content/enriched_udf/pickup_borough=Bronx/dropoff_borough=__HIVE_DEFAULT_PARTITION__/.part-00000-9afa403f-3af6-4f16-9f24-e7b00207810f.c000.snappy.parquet.crc (stored 0%)\n",
            "  adding: content/enriched_udf/pickup_borough=Bronx/dropoff_borough=__HIVE_DEFAULT_PARTITION__/part-00001-9afa403f-3af6-4f16-9f24-e7b00207810f.c000.snappy.parquet (deflated 71%)\n",
            "  adding: content/enriched_udf/pickup_borough=Bronx/dropoff_borough=__HIVE_DEFAULT_PARTITION__/.part-00001-9afa403f-3af6-4f16-9f24-e7b00207810f.c000.snappy.parquet.crc (stored 0%)\n",
            "  adding: content/enriched_udf/pickup_borough=Bronx/dropoff_borough=Queens/ (stored 0%)\n",
            "  adding: content/enriched_udf/pickup_borough=Bronx/dropoff_borough=Queens/part-00000-9afa403f-3af6-4f16-9f24-e7b00207810f.c000.snappy.parquet (deflated 71%)\n",
            "  adding: content/enriched_udf/pickup_borough=Bronx/dropoff_borough=Queens/.part-00000-9afa403f-3af6-4f16-9f24-e7b00207810f.c000.snappy.parquet.crc (stored 0%)\n",
            "  adding: content/enriched_udf/pickup_borough=Bronx/dropoff_borough=Queens/part-00001-9afa403f-3af6-4f16-9f24-e7b00207810f.c000.snappy.parquet (deflated 71%)\n",
            "  adding: content/enriched_udf/pickup_borough=Bronx/dropoff_borough=Queens/.part-00001-9afa403f-3af6-4f16-9f24-e7b00207810f.c000.snappy.parquet.crc (stored 0%)\n"
          ]
        }
      ]
    },
    {
      "cell_type": "code",
      "metadata": {
        "id": "FkOmM3ImtHc1"
      },
      "source": [
        "enriched_udf = spark.read.parquet(\"/content/enriched_udf\")"
      ],
      "execution_count": null,
      "outputs": []
    },
    {
      "cell_type": "markdown",
      "metadata": {
        "id": "BuENwDbitIVx"
      },
      "source": [
        "Analyze borough distribution"
      ]
    },
    {
      "cell_type": "code",
      "metadata": {
        "colab": {
          "base_uri": "https://localhost:8080/"
        },
        "id": "sfeDjVw0feQQ",
        "outputId": "3a73a3d6-1de8-417e-e3bd-09af4ae62c26"
      },
      "source": [
        "enriched_udf.groupby(['pickup_borough']).count().show()\n",
        "enriched_udf.groupby(['dropoff_borough']).count().show()"
      ],
      "execution_count": null,
      "outputs": [
        {
          "output_type": "stream",
          "name": "stdout",
          "text": [
            "+--------------+-----+\n",
            "|pickup_borough|count|\n",
            "+--------------+-----+\n",
            "|        Queens| 5840|\n",
            "|          null|  141|\n",
            "| Staten Island|    2|\n",
            "|     Manhattan|89868|\n",
            "|      Brooklyn| 1958|\n",
            "|         Bronx|   79|\n",
            "+--------------+-----+\n",
            "\n",
            "+---------------+-----+\n",
            "|dropoff_borough|count|\n",
            "+---------------+-----+\n",
            "|         Queens| 5443|\n",
            "|           null|  425|\n",
            "|  Staten Island|   13|\n",
            "|      Manhattan|88025|\n",
            "|       Brooklyn| 3589|\n",
            "|          Bronx|  393|\n",
            "+---------------+-----+\n",
            "\n"
          ]
        }
      ]
    },
    {
      "cell_type": "markdown",
      "metadata": {
        "id": "Q4iTUTT0BcWR"
      },
      "source": [
        "## Detect outliers"
      ]
    },
    {
      "cell_type": "markdown",
      "metadata": {
        "id": "SRQgsc3zBujm"
      },
      "source": [
        "Drop rows with undefined borough"
      ]
    },
    {
      "cell_type": "code",
      "metadata": {
        "id": "yCLas60ZBlCG",
        "colab": {
          "base_uri": "https://localhost:8080/"
        },
        "outputId": "5c4df129-d768-4964-fce2-f9d6b2f8d811"
      },
      "source": [
        "for col_name in [\"pickup_borough\", \"dropoff_borough\"]:\n",
        "  enriched_udf = enriched_udf.where(F.col(col_name) != \"\")\n",
        "\n",
        "enriched_udf.groupby(['pickup_borough']).count().limit(5).show()\n",
        "enriched_udf.groupby(['dropoff_borough']).count().limit(5).show()"
      ],
      "execution_count": null,
      "outputs": [
        {
          "output_type": "stream",
          "name": "stdout",
          "text": [
            "+--------------+-----+\n",
            "|pickup_borough|count|\n",
            "+--------------+-----+\n",
            "|        Queens| 5765|\n",
            "| Staten Island|    2|\n",
            "|     Manhattan|89583|\n",
            "|      Brooklyn| 1950|\n",
            "|         Bronx|   76|\n",
            "+--------------+-----+\n",
            "\n",
            "+---------------+-----+\n",
            "|dropoff_borough|count|\n",
            "+---------------+-----+\n",
            "|         Queens| 5430|\n",
            "|  Staten Island|   12|\n",
            "|      Manhattan|87959|\n",
            "|       Brooklyn| 3582|\n",
            "|          Bronx|  393|\n",
            "+---------------+-----+\n",
            "\n"
          ]
        }
      ]
    },
    {
      "cell_type": "markdown",
      "metadata": {
        "id": "FdrwnczlG4t8"
      },
      "source": [
        "Drop rows wtih duration < 0 or > 4 hours"
      ]
    },
    {
      "cell_type": "code",
      "metadata": {
        "id": "fifid4PMI5eR"
      },
      "source": [
        "from pyspark.sql.functions import unix_timestamp, col, to_date, date_format,from_unixtime,udf,hour,percentile_approx\n",
        "\n",
        "enriched_udf = enriched_udf.withColumn (\"pickup_timestamp\", unix_timestamp(col(\"pickup_datetime\")))\\\n",
        "        .withColumn (\"dropoff_timestamp\", unix_timestamp(col(\"dropoff_datetime\")))\n",
        "\n",
        "taxi_df = taxi_df.withColumn (\"pickup_timestamp\", unix_timestamp(col(\"pickup_datetime\")))\\\n",
        "        .withColumn (\"dropoff_timestamp\", unix_timestamp(col(\"dropoff_datetime\")))"
      ],
      "execution_count": null,
      "outputs": []
    },
    {
      "cell_type": "code",
      "metadata": {
        "id": "7ogVN2iV-2fY"
      },
      "source": [
        "enriched_udf = enriched_udf.withColumn('Duration_ms', (F.col('dropoff_timestamp') - F.col('pickup_timestamp'))*1000)\n",
        "taxi_df = taxi_df.withColumn('Duration_hrs',  (F.col('dropoff_timestamp') - F.col('pickup_timestamp'))/3600)"
      ],
      "execution_count": null,
      "outputs": []
    },
    {
      "cell_type": "markdown",
      "metadata": {
        "id": "EQoWEb2IDAPM"
      },
      "source": [
        "*Notice minimum is 0.001 Hr and maximum is 2.55 Hr, both are within limits (no outliers found).*"
      ]
    },
    {
      "cell_type": "code",
      "metadata": {
        "id": "6rKpvBmlGPPC",
        "colab": {
          "base_uri": "https://localhost:8080/"
        },
        "outputId": "3675b620-cb5e-4bf7-b30a-3e8f6cd53291"
      },
      "source": [
        "result_pdf = taxi_df.select(\"*\").toPandas()\n",
        "result_pdf['Duration_hrs'].describe()"
      ],
      "execution_count": null,
      "outputs": [
        {
          "output_type": "execute_result",
          "data": {
            "text/plain": [
              "count    97888.000000\n",
              "mean         0.181679\n",
              "std          0.130190\n",
              "min          0.001111\n",
              "25%          0.100000\n",
              "50%          0.150000\n",
              "75%          0.233333\n",
              "max          2.550000\n",
              "Name: Duration_hrs, dtype: float64"
            ]
          },
          "metadata": {},
          "execution_count": 93
        }
      ]
    },
    {
      "cell_type": "code",
      "metadata": {
        "id": "v-iUS4g1H9HF",
        "colab": {
          "base_uri": "https://localhost:8080/"
        },
        "outputId": "84394547-dda1-43b9-af44-6af8a3d0c975"
      },
      "source": [
        "enriched_udf.show(5)"
      ],
      "execution_count": null,
      "outputs": [
        {
          "output_type": "stream",
          "name": "stdout",
          "text": [
            "+--------------------+-------------------+-------------------+-----------------+----------------+---------------+-----------------+----------------+--------------+---------------+----------------+-----------------+-----------+\n",
            "|        hack_license|    pickup_datetime|   dropoff_datetime|trip_time_in_secs|pickup_longitude|pickup_latitude|dropoff_longitude|dropoff_latitude|pickup_borough|dropoff_borough|pickup_timestamp|dropoff_timestamp|Duration_ms|\n",
            "+--------------------+-------------------+-------------------+-----------------+----------------+---------------+-----------------+----------------+--------------+---------------+----------------+-----------------+-----------+\n",
            "|BA96DE419E711691B...|2013-01-01 15:11:48|2013-01-01 15:18:10|              382|      -73.978165|      40.757977|        -73.98984|        40.75117|     Manhattan|      Manhattan|      1357053108|       1357053490|     382000|\n",
            "|9FD8F69F0804BDB55...|2013-01-06 00:18:35|2013-01-06 00:22:54|              259|       -74.00668|       40.73178|         -73.9945|        40.75066|     Manhattan|      Manhattan|      1357431515|       1357431774|     259000|\n",
            "|9FD8F69F0804BDB55...|2013-01-05 18:49:41|2013-01-05 18:54:23|              282|       -74.00471|       40.73777|       -74.009834|          40.726|     Manhattan|      Manhattan|      1357411781|       1357412063|     282000|\n",
            "|51EE87E3205C985EF...|2013-01-07 23:54:15|2013-01-07 23:58:20|              244|        -73.9746|      40.759945|        -73.98473|       40.759388|     Manhattan|      Manhattan|      1357602855|       1357603100|     245000|\n",
            "|51EE87E3205C985EF...|2013-01-07 23:25:03|2013-01-07 23:34:24|              560|       -73.97625|      40.748528|        -74.00259|       40.747868|     Manhattan|      Manhattan|      1357601103|       1357601664|     561000|\n",
            "+--------------------+-------------------+-------------------+-----------------+----------------+---------------+-----------------+----------------+--------------+---------------+----------------+-----------------+-----------+\n",
            "only showing top 5 rows\n",
            "\n"
          ]
        }
      ]
    },
    {
      "cell_type": "code",
      "metadata": {
        "colab": {
          "base_uri": "https://localhost:8080/"
        },
        "id": "hOAp6ct3r2NV",
        "outputId": "c0cab39b-cff4-4afa-9bac-708be382f8c3"
      },
      "source": [
        "enriched_udf.where(F.col('Duration_ms') == 0).count()"
      ],
      "execution_count": null,
      "outputs": [
        {
          "output_type": "execute_result",
          "data": {
            "text/plain": [
              "0"
            ]
          },
          "metadata": {},
          "execution_count": 95
        }
      ]
    },
    {
      "cell_type": "code",
      "metadata": {
        "id": "wcMtMDAEDZMJ",
        "colab": {
          "base_uri": "https://localhost:8080/"
        },
        "outputId": "55b21aa0-2b02-4823-8afb-9a0fab6be1e0"
      },
      "source": [
        "enriched_udf.count()"
      ],
      "execution_count": null,
      "outputs": [
        {
          "output_type": "execute_result",
          "data": {
            "text/plain": [
              "97376"
            ]
          },
          "metadata": {},
          "execution_count": 96
        }
      ]
    },
    {
      "cell_type": "markdown",
      "metadata": {
        "id": "ZCclfk7GEQY5"
      },
      "source": [
        "## Queries"
      ]
    },
    {
      "cell_type": "markdown",
      "metadata": {
        "id": "JX1EwsP1Q9Xk"
      },
      "source": [
        "Window  Function to group by license, order by pickup datetime"
      ]
    },
    {
      "cell_type": "code",
      "metadata": {
        "id": "DkuQeTChyXRd"
      },
      "source": [
        "from pyspark.sql.window import Window\n",
        "from pyspark.sql.functions import lag, col, asc\n",
        "\n",
        "windowSpec = Window\\\n",
        "             .partitionBy('hack_license')\\\n",
        "             .orderBy(asc('pickup_datetime'))"
      ],
      "execution_count": null,
      "outputs": []
    },
    {
      "cell_type": "markdown",
      "metadata": {
        "id": "MGxlDpNiFN5M"
      },
      "source": [
        "Add lag holding previous row's dropoff timestamp"
      ]
    },
    {
      "cell_type": "code",
      "metadata": {
        "id": "6E8R9WpvIfn9",
        "colab": {
          "base_uri": "https://localhost:8080/"
        },
        "outputId": "9f830b6b-41ba-4ea9-b86c-c386fba46203"
      },
      "source": [
        "enriched_lag = enriched_udf.withColumn(\"lag\",F.lag(enriched_udf['dropoff_timestamp'],offset=1).over(windowSpec))\n",
        "\n",
        "enriched_lag.show(20)"
      ],
      "execution_count": null,
      "outputs": [
        {
          "output_type": "stream",
          "name": "stdout",
          "text": [
            "+--------------------+-------------------+-------------------+-----------------+----------------+---------------+-----------------+----------------+--------------+---------------+----------------+-----------------+-----------+----------+\n",
            "|        hack_license|    pickup_datetime|   dropoff_datetime|trip_time_in_secs|pickup_longitude|pickup_latitude|dropoff_longitude|dropoff_latitude|pickup_borough|dropoff_borough|pickup_timestamp|dropoff_timestamp|Duration_ms|       lag|\n",
            "+--------------------+-------------------+-------------------+-----------------+----------------+---------------+-----------------+----------------+--------------+---------------+----------------+-----------------+-----------+----------+\n",
            "|0025133AD810DBE80...|2013-01-13 02:37:00|2013-01-13 02:46:00|              540|      -74.003914|       40.74254|       -73.984604|       40.769596|     Manhattan|      Manhattan|      1358044620|       1358045160|     540000|      null|\n",
            "|0025133AD810DBE80...|2013-01-13 03:26:00|2013-01-13 03:41:00|              900|       -74.00642|      40.744495|       -73.986916|        40.71598|     Manhattan|      Manhattan|      1358047560|       1358048460|     900000|1358045160|\n",
            "|002C093A2CB9FD40C...|2013-01-13 10:34:00|2013-01-13 10:41:00|              420|      -73.944664|      40.780106|        -73.95736|        40.78314|     Manhattan|      Manhattan|      1358073240|       1358073660|     420000|      null|\n",
            "|002C093A2CB9FD40C...|2013-01-13 10:48:00|2013-01-13 11:06:00|             1080|       -73.96205|       40.77378|        -73.94704|       40.722702|     Manhattan|       Brooklyn|      1358074080|       1358075160|    1080000|1358073660|\n",
            "|002C093A2CB9FD40C...|2013-01-13 11:15:00|2013-01-13 11:17:00|              120|       -73.94642|       40.72161|        -73.94473|       40.716312|      Brooklyn|       Brooklyn|      1358075700|       1358075820|     120000|1358075160|\n",
            "|002C093A2CB9FD40C...|2013-01-13 11:23:00|2013-01-13 11:28:00|              300|      -73.954315|      40.714176|        -73.92124|        40.71381|      Brooklyn|         Queens|      1358076180|       1358076480|     300000|1358075820|\n",
            "|002C093A2CB9FD40C...|2013-01-13 11:45:00|2013-01-13 11:53:00|              480|        -73.9858|       40.71786|       -73.990166|       40.732773|     Manhattan|      Manhattan|      1358077500|       1358077980|     480000|1358076480|\n",
            "|002C093A2CB9FD40C...|2013-01-13 11:54:00|2013-01-13 12:08:00|              840|       -73.99018|       40.73495|       -73.982155|       40.762764|     Manhattan|      Manhattan|      1358078040|       1358078880|     840000|1358077980|\n",
            "|002C093A2CB9FD40C...|2013-01-13 12:26:00|2013-01-13 12:32:00|              360|       -73.98227|       40.78295|        -73.97277|       40.793373|     Manhattan|      Manhattan|      1358079960|       1358080320|     360000|1358078880|\n",
            "|002C093A2CB9FD40C...|2013-01-13 12:36:00|2013-01-13 12:44:00|              480|      -73.981804|       40.78355|        -73.98235|        40.76998|     Manhattan|      Manhattan|      1358080560|       1358081040|     480000|1358080320|\n",
            "|002C093A2CB9FD40C...|2013-01-13 12:47:00|2013-01-13 12:53:00|              360|       -73.98242|       40.77541|        -73.97365|       40.788746|     Manhattan|      Manhattan|      1358081220|       1358081580|     360000|1358081040|\n",
            "|002C093A2CB9FD40C...|2013-01-13 12:56:00|2013-01-13 13:08:00|              720|      -73.971596|      40.787308|        -73.97541|       40.787712|     Manhattan|      Manhattan|      1358081760|       1358082480|     720000|1358081580|\n",
            "|002C093A2CB9FD40C...|2013-01-13 13:21:00|2013-01-13 13:36:00|              900|      -73.992546|       40.75859|        -73.97873|       40.787476|     Manhattan|      Manhattan|      1358083260|       1358084160|     900000|1358082480|\n",
            "|002C093A2CB9FD40C...|2013-01-13 13:44:00|2013-01-13 14:10:00|             1560|      -73.989136|       40.77339|       -73.990234|       40.724957|     Manhattan|      Manhattan|      1358084640|       1358086200|    1560000|1358084160|\n",
            "|002C093A2CB9FD40C...|2013-01-13 15:02:00|2013-01-13 15:17:00|              900|       -73.96438|      40.770447|       -73.975624|       40.744926|     Manhattan|      Manhattan|      1358089320|       1358090220|     900000|1358086200|\n",
            "|002C093A2CB9FD40C...|2013-01-13 16:04:00|2013-01-13 16:26:00|             1320|       -73.99377|       40.72035|        -73.99783|       40.765026|     Manhattan|      Manhattan|      1358093040|       1358094360|    1320000|1358090220|\n",
            "|002C093A2CB9FD40C...|2013-01-13 17:26:00|2013-01-13 17:57:00|             1860|       -73.86602|      40.770954|       -73.984505|       40.762894|        Queens|      Manhattan|      1358097960|       1358099820|    1860000|1358094360|\n",
            "|002C093A2CB9FD40C...|2013-01-13 18:02:00|2013-01-13 18:10:00|              480|      -73.988525|       40.76366|         -73.9992|        40.74316|     Manhattan|      Manhattan|      1358100120|       1358100600|     480000|1358099820|\n",
            "|002C093A2CB9FD40C...|2013-01-13 18:12:00|2013-01-13 18:19:00|              420|       -74.00135|      40.736977|         -73.9932|       40.754627|     Manhattan|      Manhattan|      1358100720|       1358101140|     420000|1358100600|\n",
            "|00447A6197DBB329F...|2013-01-13 12:44:00|2013-01-13 12:59:00|              900|      -73.776634|      40.645298|       -73.888336|        40.63275|        Queens|       Brooklyn|      1358081040|       1358081940|     900000|      null|\n",
            "+--------------------+-------------------+-------------------+-----------------+----------------+---------------+-----------------+----------------+--------------+---------------+----------------+-----------------+-----------+----------+\n",
            "only showing top 20 rows\n",
            "\n"
          ]
        }
      ]
    },
    {
      "cell_type": "markdown",
      "metadata": {
        "id": "kob1JWUiFUj7"
      },
      "source": [
        "Add idle time as difference between current pick time and last drop off time"
      ]
    },
    {
      "cell_type": "code",
      "metadata": {
        "id": "ei003jPz7GRc"
      },
      "source": [
        "result = enriched_lag.withColumn('idle_time_secs', \n",
        "          (enriched_lag['pickup_timestamp'] - enriched_lag['lag']))"
      ],
      "execution_count": null,
      "outputs": []
    },
    {
      "cell_type": "code",
      "metadata": {
        "colab": {
          "base_uri": "https://localhost:8080/"
        },
        "id": "-IXdyyJ_m8fw",
        "outputId": "304f7e89-8e1e-4661-c012-a27f43c7bccf"
      },
      "source": [
        "result.show()"
      ],
      "execution_count": null,
      "outputs": [
        {
          "output_type": "stream",
          "name": "stdout",
          "text": [
            "+--------------------+-------------------+-------------------+-----------------+----------------+---------------+-----------------+----------------+--------------+---------------+----------------+-----------------+-----------+----------+--------------+\n",
            "|        hack_license|    pickup_datetime|   dropoff_datetime|trip_time_in_secs|pickup_longitude|pickup_latitude|dropoff_longitude|dropoff_latitude|pickup_borough|dropoff_borough|pickup_timestamp|dropoff_timestamp|Duration_ms|       lag|idle_time_secs|\n",
            "+--------------------+-------------------+-------------------+-----------------+----------------+---------------+-----------------+----------------+--------------+---------------+----------------+-----------------+-----------+----------+--------------+\n",
            "|0025133AD810DBE80...|2013-01-13 02:37:00|2013-01-13 02:46:00|              540|      -74.003914|       40.74254|       -73.984604|       40.769596|     Manhattan|      Manhattan|      1358044620|       1358045160|     540000|      null|          null|\n",
            "|0025133AD810DBE80...|2013-01-13 03:26:00|2013-01-13 03:41:00|              900|       -74.00642|      40.744495|       -73.986916|        40.71598|     Manhattan|      Manhattan|      1358047560|       1358048460|     900000|1358045160|          2400|\n",
            "|002C093A2CB9FD40C...|2013-01-13 10:34:00|2013-01-13 10:41:00|              420|      -73.944664|      40.780106|        -73.95736|        40.78314|     Manhattan|      Manhattan|      1358073240|       1358073660|     420000|      null|          null|\n",
            "|002C093A2CB9FD40C...|2013-01-13 10:48:00|2013-01-13 11:06:00|             1080|       -73.96205|       40.77378|        -73.94704|       40.722702|     Manhattan|       Brooklyn|      1358074080|       1358075160|    1080000|1358073660|           420|\n",
            "|002C093A2CB9FD40C...|2013-01-13 11:15:00|2013-01-13 11:17:00|              120|       -73.94642|       40.72161|        -73.94473|       40.716312|      Brooklyn|       Brooklyn|      1358075700|       1358075820|     120000|1358075160|           540|\n",
            "|002C093A2CB9FD40C...|2013-01-13 11:23:00|2013-01-13 11:28:00|              300|      -73.954315|      40.714176|        -73.92124|        40.71381|      Brooklyn|         Queens|      1358076180|       1358076480|     300000|1358075820|           360|\n",
            "|002C093A2CB9FD40C...|2013-01-13 11:45:00|2013-01-13 11:53:00|              480|        -73.9858|       40.71786|       -73.990166|       40.732773|     Manhattan|      Manhattan|      1358077500|       1358077980|     480000|1358076480|          1020|\n",
            "|002C093A2CB9FD40C...|2013-01-13 11:54:00|2013-01-13 12:08:00|              840|       -73.99018|       40.73495|       -73.982155|       40.762764|     Manhattan|      Manhattan|      1358078040|       1358078880|     840000|1358077980|            60|\n",
            "|002C093A2CB9FD40C...|2013-01-13 12:26:00|2013-01-13 12:32:00|              360|       -73.98227|       40.78295|        -73.97277|       40.793373|     Manhattan|      Manhattan|      1358079960|       1358080320|     360000|1358078880|          1080|\n",
            "|002C093A2CB9FD40C...|2013-01-13 12:36:00|2013-01-13 12:44:00|              480|      -73.981804|       40.78355|        -73.98235|        40.76998|     Manhattan|      Manhattan|      1358080560|       1358081040|     480000|1358080320|           240|\n",
            "|002C093A2CB9FD40C...|2013-01-13 12:47:00|2013-01-13 12:53:00|              360|       -73.98242|       40.77541|        -73.97365|       40.788746|     Manhattan|      Manhattan|      1358081220|       1358081580|     360000|1358081040|           180|\n",
            "|002C093A2CB9FD40C...|2013-01-13 12:56:00|2013-01-13 13:08:00|              720|      -73.971596|      40.787308|        -73.97541|       40.787712|     Manhattan|      Manhattan|      1358081760|       1358082480|     720000|1358081580|           180|\n",
            "|002C093A2CB9FD40C...|2013-01-13 13:21:00|2013-01-13 13:36:00|              900|      -73.992546|       40.75859|        -73.97873|       40.787476|     Manhattan|      Manhattan|      1358083260|       1358084160|     900000|1358082480|           780|\n",
            "|002C093A2CB9FD40C...|2013-01-13 13:44:00|2013-01-13 14:10:00|             1560|      -73.989136|       40.77339|       -73.990234|       40.724957|     Manhattan|      Manhattan|      1358084640|       1358086200|    1560000|1358084160|           480|\n",
            "|002C093A2CB9FD40C...|2013-01-13 15:02:00|2013-01-13 15:17:00|              900|       -73.96438|      40.770447|       -73.975624|       40.744926|     Manhattan|      Manhattan|      1358089320|       1358090220|     900000|1358086200|          3120|\n",
            "|002C093A2CB9FD40C...|2013-01-13 16:04:00|2013-01-13 16:26:00|             1320|       -73.99377|       40.72035|        -73.99783|       40.765026|     Manhattan|      Manhattan|      1358093040|       1358094360|    1320000|1358090220|          2820|\n",
            "|002C093A2CB9FD40C...|2013-01-13 17:26:00|2013-01-13 17:57:00|             1860|       -73.86602|      40.770954|       -73.984505|       40.762894|        Queens|      Manhattan|      1358097960|       1358099820|    1860000|1358094360|          3600|\n",
            "|002C093A2CB9FD40C...|2013-01-13 18:02:00|2013-01-13 18:10:00|              480|      -73.988525|       40.76366|         -73.9992|        40.74316|     Manhattan|      Manhattan|      1358100120|       1358100600|     480000|1358099820|           300|\n",
            "|002C093A2CB9FD40C...|2013-01-13 18:12:00|2013-01-13 18:19:00|              420|       -74.00135|      40.736977|         -73.9932|       40.754627|     Manhattan|      Manhattan|      1358100720|       1358101140|     420000|1358100600|           120|\n",
            "|00447A6197DBB329F...|2013-01-13 12:44:00|2013-01-13 12:59:00|              900|      -73.776634|      40.645298|       -73.888336|        40.63275|        Queens|       Brooklyn|      1358081040|       1358081940|     900000|      null|          null|\n",
            "+--------------------+-------------------+-------------------+-----------------+----------------+---------------+-----------------+----------------+--------------+---------------+----------------+-----------------+-----------+----------+--------------+\n",
            "only showing top 20 rows\n",
            "\n"
          ]
        }
      ]
    },
    {
      "cell_type": "markdown",
      "metadata": {
        "id": "r5TIrI8SBUnl"
      },
      "source": [
        "Filter trips with idle time > 4 hours "
      ]
    },
    {
      "cell_type": "code",
      "metadata": {
        "id": "paXJtCIIBTBr"
      },
      "source": [
        "filtered_result = result.filter( (result.idle_time_secs < 14400) & (result.idle_time_secs.isNotNull()))"
      ],
      "execution_count": null,
      "outputs": []
    },
    {
      "cell_type": "code",
      "metadata": {
        "colab": {
          "base_uri": "https://localhost:8080/"
        },
        "id": "XAIy96h_pxEr",
        "outputId": "68ff3473-261e-44fe-f923-90d5b090f5f5"
      },
      "source": [
        "filtered_result.count()"
      ],
      "execution_count": null,
      "outputs": [
        {
          "output_type": "execute_result",
          "data": {
            "text/plain": [
              "86003"
            ]
          },
          "metadata": {},
          "execution_count": 102
        }
      ]
    },
    {
      "cell_type": "markdown",
      "metadata": {
        "id": "3sTNkQdREjtW"
      },
      "source": [
        "Query 1: The average time it takes for a taxi to find its next trip per destination borough"
      ]
    },
    {
      "cell_type": "code",
      "metadata": {
        "id": "f97Lfe-dEwaI",
        "colab": {
          "base_uri": "https://localhost:8080/"
        },
        "outputId": "14bcc79b-4234-4b0b-aac3-ad9f8d8327c0"
      },
      "source": [
        "from pyspark.sql.functions import expr\n",
        "\n",
        "def group_idle_time(groupBy):\n",
        "  avg = expr(\"round(avg(idle_time_secs) / 3600, 2)\").alias(\"average_idle_time\")\n",
        "  return filtered_result.groupBy(groupBy).agg(avg).orderBy(col(\"average_idle_time\").desc())\n",
        "\n",
        "df_grouped_dropoff_borough = group_idle_time(\"dropoff_borough\")\n",
        "df_grouped_dropoff_borough.show(10)"
      ],
      "execution_count": null,
      "outputs": [
        {
          "output_type": "stream",
          "name": "stdout",
          "text": [
            "+---------------+-----------------+\n",
            "|dropoff_borough|average_idle_time|\n",
            "+---------------+-----------------+\n",
            "|         Queens|             0.48|\n",
            "|          Bronx|             0.46|\n",
            "|       Brooklyn|             0.45|\n",
            "|  Staten Island|             0.36|\n",
            "|      Manhattan|             0.27|\n",
            "+---------------+-----------------+\n",
            "\n"
          ]
        }
      ]
    },
    {
      "cell_type": "markdown",
      "metadata": {
        "id": "aPlzRu_PGsYJ"
      },
      "source": [
        "Query 2: The number of trips that started and ended within the same borough"
      ]
    },
    {
      "cell_type": "code",
      "metadata": {
        "id": "0Vjk8AHzKN1k"
      },
      "source": [
        "# def count_same_borough(df,count):\n",
        "#   for row in range(df.shape[0]):\n",
        "#    if (df['pickup_borough'][row] == df['dropoff_borough'][row]):\n",
        "#       count+=1\n",
        "#     return count"
      ],
      "execution_count": null,
      "outputs": []
    },
    {
      "cell_type": "code",
      "metadata": {
        "id": "voFrXZiKHB5G",
        "colab": {
          "base_uri": "https://localhost:8080/"
        },
        "outputId": "c5db8008-4afa-4626-f6e0-0c9b168cf8e9"
      },
      "source": [
        "same_borough = filtered_result.where(F.col('pickup_borough') == F.col('dropoff_borough'))\n",
        "same_borough.show(5)"
      ],
      "execution_count": null,
      "outputs": [
        {
          "output_type": "stream",
          "name": "stdout",
          "text": [
            "+--------------------+-------------------+-------------------+-----------------+----------------+---------------+-----------------+----------------+--------------+---------------+----------------+-----------------+-----------+----------+--------------+\n",
            "|        hack_license|    pickup_datetime|   dropoff_datetime|trip_time_in_secs|pickup_longitude|pickup_latitude|dropoff_longitude|dropoff_latitude|pickup_borough|dropoff_borough|pickup_timestamp|dropoff_timestamp|Duration_ms|       lag|idle_time_secs|\n",
            "+--------------------+-------------------+-------------------+-----------------+----------------+---------------+-----------------+----------------+--------------+---------------+----------------+-----------------+-----------+----------+--------------+\n",
            "|0025133AD810DBE80...|2013-01-13 03:26:00|2013-01-13 03:41:00|              900|       -74.00642|      40.744495|       -73.986916|        40.71598|     Manhattan|      Manhattan|      1358047560|       1358048460|     900000|1358045160|          2400|\n",
            "|002C093A2CB9FD40C...|2013-01-13 11:15:00|2013-01-13 11:17:00|              120|       -73.94642|       40.72161|        -73.94473|       40.716312|      Brooklyn|       Brooklyn|      1358075700|       1358075820|     120000|1358075160|           540|\n",
            "|002C093A2CB9FD40C...|2013-01-13 11:45:00|2013-01-13 11:53:00|              480|        -73.9858|       40.71786|       -73.990166|       40.732773|     Manhattan|      Manhattan|      1358077500|       1358077980|     480000|1358076480|          1020|\n",
            "|002C093A2CB9FD40C...|2013-01-13 11:54:00|2013-01-13 12:08:00|              840|       -73.99018|       40.73495|       -73.982155|       40.762764|     Manhattan|      Manhattan|      1358078040|       1358078880|     840000|1358077980|            60|\n",
            "|002C093A2CB9FD40C...|2013-01-13 12:26:00|2013-01-13 12:32:00|              360|       -73.98227|       40.78295|        -73.97277|       40.793373|     Manhattan|      Manhattan|      1358079960|       1358080320|     360000|1358078880|          1080|\n",
            "+--------------------+-------------------+-------------------+-----------------+----------------+---------------+-----------------+----------------+--------------+---------------+----------------+-----------------+-----------+----------+--------------+\n",
            "only showing top 5 rows\n",
            "\n"
          ]
        }
      ]
    },
    {
      "cell_type": "code",
      "metadata": {
        "colab": {
          "base_uri": "https://localhost:8080/"
        },
        "id": "s8SyGM2SpGjZ",
        "outputId": "cd6d4373-8b6c-4a4d-ba02-423cca9df678"
      },
      "source": [
        "same_borough_count = same_borough.count()\n",
        "print(\"The number of trips that started and ended within the same borough is: \", same_borough_count)"
      ],
      "execution_count": null,
      "outputs": [
        {
          "output_type": "stream",
          "name": "stdout",
          "text": [
            "The number of trips that started and ended within the same borough is:  77523\n"
          ]
        }
      ]
    },
    {
      "cell_type": "markdown",
      "metadata": {
        "id": "6XWLorM4P0WZ"
      },
      "source": [
        "Query 3: The number of trips that started in one borough and ended in another\n"
      ]
    },
    {
      "cell_type": "code",
      "metadata": {
        "id": "5qRGBI1cqImq",
        "colab": {
          "base_uri": "https://localhost:8080/"
        },
        "outputId": "ebdbd03a-84bf-4feb-a82f-fe923c08f2a7"
      },
      "source": [
        "different_borough = filtered_result.where(F.col('pickup_borough') != F.col('dropoff_borough'))\n",
        "different_borough.show(5)"
      ],
      "execution_count": null,
      "outputs": [
        {
          "output_type": "stream",
          "name": "stdout",
          "text": [
            "+--------------------+-------------------+-------------------+-----------------+----------------+---------------+-----------------+----------------+--------------+---------------+----------------+-----------------+-----------+----------+--------------+\n",
            "|        hack_license|    pickup_datetime|   dropoff_datetime|trip_time_in_secs|pickup_longitude|pickup_latitude|dropoff_longitude|dropoff_latitude|pickup_borough|dropoff_borough|pickup_timestamp|dropoff_timestamp|Duration_ms|       lag|idle_time_secs|\n",
            "+--------------------+-------------------+-------------------+-----------------+----------------+---------------+-----------------+----------------+--------------+---------------+----------------+-----------------+-----------+----------+--------------+\n",
            "|002C093A2CB9FD40C...|2013-01-13 10:48:00|2013-01-13 11:06:00|             1080|       -73.96205|       40.77378|        -73.94704|       40.722702|     Manhattan|       Brooklyn|      1358074080|       1358075160|    1080000|1358073660|           420|\n",
            "|002C093A2CB9FD40C...|2013-01-13 11:23:00|2013-01-13 11:28:00|              300|      -73.954315|      40.714176|        -73.92124|        40.71381|      Brooklyn|         Queens|      1358076180|       1358076480|     300000|1358075820|           360|\n",
            "|002C093A2CB9FD40C...|2013-01-13 17:26:00|2013-01-13 17:57:00|             1860|       -73.86602|      40.770954|       -73.984505|       40.762894|        Queens|      Manhattan|      1358097960|       1358099820|    1860000|1358094360|          3600|\n",
            "|00447A6197DBB329F...|2013-01-13 13:48:00|2013-01-13 14:24:00|             2160|       -73.79095|      40.645348|        -73.98542|        40.75784|        Queens|      Manhattan|      1358084880|       1358087040|    2160000|1358081940|          2940|\n",
            "|00711D0CC3FB5BC90...|2013-01-13 04:28:00|2013-01-13 04:45:00|             1020|       -73.98976|      40.723213|       -74.022575|        40.62213|     Manhattan|       Brooklyn|      1358051280|       1358052300|    1020000|1358048580|          2700|\n",
            "+--------------------+-------------------+-------------------+-----------------+----------------+---------------+-----------------+----------------+--------------+---------------+----------------+-----------------+-----------+----------+--------------+\n",
            "only showing top 5 rows\n",
            "\n"
          ]
        }
      ]
    },
    {
      "cell_type": "code",
      "metadata": {
        "colab": {
          "base_uri": "https://localhost:8080/"
        },
        "id": "nkmi76yipgtc",
        "outputId": "3b863fa6-3aef-436b-f882-e51dce3e588f"
      },
      "source": [
        "different_borough_count = different_borough.count()\n",
        "print(\"The number of trips that started and ended in different boroughs is: \", different_borough_count)"
      ],
      "execution_count": null,
      "outputs": [
        {
          "output_type": "stream",
          "name": "stdout",
          "text": [
            "The number of trips that started and ended in different boroughs is:  8480\n"
          ]
        }
      ]
    },
    {
      "cell_type": "code",
      "metadata": {
        "id": "MJ4m_E0cwHYY"
      },
      "source": [
        ""
      ],
      "execution_count": null,
      "outputs": []
    }
  ]
}